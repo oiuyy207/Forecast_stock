{
 "cells": [
  {
   "cell_type": "code",
   "execution_count": 1,
   "id": "3bc96707-4751-4018-a425-a038639c4c95",
   "metadata": {},
   "outputs": [
    {
     "name": "stderr",
     "output_type": "stream",
     "text": [
      "2022-07-18 15:58:34.444920: I tensorflow/stream_executor/platform/default/dso_loader.cc:49] Successfully opened dynamic library libcudart.so.10.1\n"
     ]
    },
    {
     "name": "stdout",
     "output_type": "stream",
     "text": [
      "WARNING:tensorflow:From /tmp/ipykernel_198037/3165881122.py:2: experimental_run_functions_eagerly (from tensorflow.python.eager.def_function) is deprecated and will be removed in a future version.\n",
      "Instructions for updating:\n",
      "Use `tf.config.run_functions_eagerly` instead of the experimental version.\n"
     ]
    }
   ],
   "source": [
    "import tensorflow as tf\n",
    "tf.config.experimental_run_functions_eagerly(True)"
   ]
  },
  {
   "cell_type": "code",
   "execution_count": 2,
   "id": "96bce201-e2d2-4ef3-9b14-f6ae10f88c96",
   "metadata": {},
   "outputs": [],
   "source": [
    "import numpy as np\n",
    "import pandas as pd\n",
    "import matplotlib.pyplot as plt\n",
    "import os\n",
    "\n",
    "from sklearn.preprocessing import MinMaxScaler\n",
    "\n",
    "from util import *"
   ]
  },
  {
   "cell_type": "markdown",
   "id": "a2212b20-b14b-4029-98f7-7e84b4e521ab",
   "metadata": {},
   "source": [
    "# 멀티 헤드 어텐션"
   ]
  },
  {
   "cell_type": "code",
   "execution_count": 3,
   "id": "de6835db-8f71-4145-a191-f8820d4a0df2",
   "metadata": {},
   "outputs": [],
   "source": [
    "class MultiHeadAttention(tf.keras.layers.Layer):\n",
    "    def __init__(self, embedding_dim, num_heads=8):\n",
    "        super(MultiHeadAttention, self).__init__()\n",
    "        self.embedding_dim = embedding_dim # d_model\n",
    "        self.num_heads = num_heads\n",
    "\n",
    "        assert embedding_dim % self.num_heads == 0\n",
    "\n",
    "        self.projection_dim = embedding_dim // num_heads\n",
    "        self.query_dense = tf.keras.layers.Dense(embedding_dim)\n",
    "        self.key_dense = tf.keras.layers.Dense(embedding_dim)\n",
    "        self.value_dense = tf.keras.layers.Dense(embedding_dim)\n",
    "        self.dense = tf.keras.layers.Dense(embedding_dim)\n",
    "\n",
    "    def scaled_dot_product_attention(self, query, key, value, mask):\n",
    "        matmul_qk = tf.matmul(query, key, transpose_b=True)\n",
    "        depth = tf.cast(tf.shape(key)[-1], tf.float32)\n",
    "        logits = matmul_qk / tf.math.sqrt(depth)\n",
    "        if mask is not None:\n",
    "            logits += (mask * -1e9)#더하는 연산의 형태지만, 마스크 위치가 -1e9로 교체됨!\n",
    "        attention_weights = tf.nn.softmax(logits, axis=-1)\n",
    "        output = tf.matmul(attention_weights, value)\n",
    "        return output, attention_weights\n",
    "\n",
    "    def split_heads(self, x, batch_size):\n",
    "        x = tf.reshape(x, (batch_size, -1, self.num_heads, self.projection_dim))\n",
    "        return tf.transpose(x, perm=[0, 2, 1, 3])\n",
    "\n",
    "    def call(self, inputs, mask=None, query_=None):\n",
    "        # x.shape = [batch_size, seq_len, embedding_dim]\n",
    "        batch_size = tf.shape(inputs)[0]\n",
    "\n",
    "        # (batch_size, seq_len, embedding_dim)\n",
    "        if query_ is None:\n",
    "            query = self.query_dense(inputs)\n",
    "        else:\n",
    "            query = self.query_dense(query_)\n",
    "        key = self.key_dense(inputs)\n",
    "        value = self.value_dense(inputs)\n",
    "\n",
    "        # (batch_size, num_heads, seq_len, projection_dim)\n",
    "        query = self.split_heads(query, batch_size)\n",
    "        key = self.split_heads(key, batch_size)\n",
    "        value = self.split_heads(value, batch_size)\n",
    "\n",
    "        scaled_attention, _ = self.scaled_dot_product_attention(query, key, value, mask)\n",
    "        # (batch_size, seq_len, num_heads, projection_dim)\n",
    "        scaled_attention = tf.transpose(scaled_attention, perm=[0, 2, 1, 3])  \n",
    "\n",
    "        # (batch_size, seq_len, embedding_dim)\n",
    "        concat_attention = tf.reshape(scaled_attention, (batch_size, -1, self.embedding_dim))\n",
    "        outputs = self.dense(concat_attention)\n",
    "        return outputs"
   ]
  },
  {
   "cell_type": "code",
   "execution_count": null,
   "id": "6bbe1817-b001-4289-a06c-d6d90a45c4e2",
   "metadata": {},
   "outputs": [],
   "source": [
    "logits = tf.constant([[1.1, 1.2, 1.3, 1.4, 1.5],\n",
    "                      [2.1, 2.2, 2.3, 2.4, 2.5],\n",
    "                      [3.1, 3.2, 3.3, 3.4, 3.5],\n",
    "                      [4.1, 4.2, 4.3, 4.4, 4.5],\n",
    "                      [5.1, 5.2, 5.3, 5.4, 5.5]])\n",
    "\n",
    "mask = 1 - tf.linalg.band_part(tf.ones((5,5)), -1, 0)\n",
    "print(mask)\n",
    "logits += (mask*-1e9)\n",
    "logits"
   ]
  },
  {
   "cell_type": "markdown",
   "id": "9eb6dbb4-4a72-422e-9963-8e1f0dba005f",
   "metadata": {},
   "source": [
    "# 인코더 레이어(트랜스포머 블록)"
   ]
  },
  {
   "cell_type": "code",
   "execution_count": 5,
   "id": "9d9b895d-9c6e-4dd1-9d41-68679a31c7f5",
   "metadata": {},
   "outputs": [],
   "source": [
    "class encoder_layer(tf.keras.layers.Layer):\n",
    "    def __init__(self, embedding_dim, num_heads, dff, rate=0.1,**kwargs):\n",
    "        super(encoder_layer, self).__init__(**kwargs)\n",
    "        self.att = MultiHeadAttention(embedding_dim, num_heads)\n",
    "        self.ffn = tf.keras.Sequential(\n",
    "            [tf.keras.layers.Dense(dff, activation=\"relu\"),\n",
    "             tf.keras.layers.Dense(embedding_dim),]\n",
    "        )\n",
    "        self.layernorm1 = tf.keras.layers.LayerNormalization(epsilon=1e-6)\n",
    "        self.layernorm2 = tf.keras.layers.LayerNormalization(epsilon=1e-6)\n",
    "        self.dropout1 = tf.keras.layers.Dropout(rate)\n",
    "        self.dropout2 = tf.keras.layers.Dropout(rate)\n",
    "\n",
    "    def call(self, inputs, training):\n",
    "        attn_output = self.att(inputs) # 첫번째 서브층 : 멀티 헤드 어텐션\n",
    "        attn_output = self.dropout1(attn_output, training=training)\n",
    "        out1 = self.layernorm1(inputs + attn_output) # Add & Norm\n",
    "        ffn_output = self.ffn(out1) # 두번째 서브층 : 포지션 와이즈 피드 포워드 신경망\n",
    "        ffn_output = self.dropout2(ffn_output, training=training)\n",
    "        return self.layernorm2(out1 + ffn_output) # Add & Norm"
   ]
  },
  {
   "cell_type": "markdown",
   "id": "dd3208f5-b784-4734-a72d-4b336ea31b39",
   "metadata": {},
   "source": [
    "# 포지션 임베딩"
   ]
  },
  {
   "cell_type": "code",
   "execution_count": 6,
   "id": "67425ccb-b417-4950-8c26-0aeeba917421",
   "metadata": {},
   "outputs": [],
   "source": [
    "class TokenAndPositionEmbedding(tf.keras.layers.Layer):\n",
    "    def __init__(self, max_len, vocab_size, embedding_dim):\n",
    "        super(TokenAndPositionEmbedding, self).__init__()\n",
    "        self.token_emb = tf.keras.layers.Embedding(vocab_size, embedding_dim)\n",
    "        self.pos_emb = tf.keras.layers.Embedding(max_len, embedding_dim)\n",
    "\n",
    "    def call(self, x):\n",
    "        max_len = tf.shape(x)[-1]\n",
    "        positions = tf.range(start=0, limit=max_len, delta=1)\n",
    "        positions = self.pos_emb(positions)\n",
    "        x = self.token_emb(x)\n",
    "        return x + positions"
   ]
  },
  {
   "cell_type": "markdown",
   "id": "0d999ae1-966d-4610-98e0-3d0ddf1d1227",
   "metadata": {
    "tags": []
   },
   "source": [
    "# 에셋 임베딩 레이어"
   ]
  },
  {
   "cell_type": "code",
   "execution_count": 50,
   "id": "fbea8128-f912-4ef6-8196-453ccc949a94",
   "metadata": {
    "tags": []
   },
   "outputs": [],
   "source": [
    "#max_len = 문장 최대 길이 -> window_size로\n",
    "#vocab_size = 빈도수 상위 2만개의 단어만 사용 -> 뭐로 해야하지? window_size 통일?\n",
    "#어쩌면 필요없을지도?? : 토큰을 안쓰니까?  -> Dense레이어와 같은 기능이니 Dense를 쓰자!!!\n",
    "\n",
    "class AssetAndPositionEmbedding(tf.keras.layers.Layer):\n",
    "    def __init__(self, window_size, embedding_dim, is_decoder=False, **kwargs):\n",
    "        super(AssetAndPositionEmbedding, self).__init__(**kwargs)\n",
    "        self.esset_emb = tf.keras.layers.Dense(embedding_dim) #입력 데이터 shape : (batch_size, window_size)\n",
    "        self.pos_emb = tf.keras.layers.Embedding(window_size, embedding_dim)\n",
    "        self.is_decoder = is_decoder\n",
    "        self.__windowsize = window_size\n",
    "\n",
    "    def call(self, x):\n",
    "        L = tf.shape(x)[1] if self.is_decoder else self.__windowsize\n",
    "        \n",
    "        positions = tf.range(start=0, limit= L, delta=1)\n",
    "        positions = self.pos_emb(positions)\n",
    "        x = tf.reshape(x,(-1,L,1))\n",
    "        x = self.esset_emb(x)\n",
    "        return x + positions"
   ]
  },
  {
   "cell_type": "code",
   "execution_count": 36,
   "id": "2e65d9f9-cc90-42f1-8d06-f3d87950e204",
   "metadata": {},
   "outputs": [
    {
     "name": "stdout",
     "output_type": "stream",
     "text": [
      "[[[1. ]\n",
      "  [1.1]\n",
      "  [1.2]\n",
      "  [1.3]\n",
      "  [1.4]]\n",
      "\n",
      " [[2. ]\n",
      "  [2.1]\n",
      "  [2.2]\n",
      "  [2.3]\n",
      "  [2.4]]\n",
      "\n",
      " [[3. ]\n",
      "  [3.1]\n",
      "  [3.2]\n",
      "  [3.3]\n",
      "  [3.4]]]\n",
      "tf.Tensor(\n",
      "[[[ 0.4523935   0.4598292  -0.15886037  0.03549526 -0.3173228\n",
      "   -0.09508678  0.508489    0.24741486 -0.13972902  0.5420162 ]\n",
      "  [ 0.41738394  0.57991946 -0.16047908  0.10164823 -0.26964748\n",
      "   -0.10680608  0.4818846   0.24162196 -0.15555464  0.60984623]\n",
      "  [ 0.49950382  0.6160503  -0.09524913  0.08870602 -0.32093856\n",
      "   -0.1699338   0.6007443   0.20210837 -0.23825511  0.7190665 ]\n",
      "  [ 0.5700511   0.6675504  -0.16355692  0.0415335  -0.38937348\n",
      "   -0.16037449  0.6516839   0.23781939 -0.20278558  0.77496713]\n",
      "  [ 0.5787501   0.75824237 -0.15133947  0.13062789 -0.35028574\n",
      "   -0.14232355  0.62190026  0.26112363 -0.28286847  0.8067177 ]]\n",
      "\n",
      " [[ 0.8565283   0.9660588  -0.2737403   0.10530225 -0.5918258\n",
      "   -0.20582554  0.98139316  0.45434555 -0.306081    1.1273571 ]\n",
      "  [ 0.8215187   1.086149   -0.27535897  0.1714552  -0.5441504\n",
      "   -0.21754481  0.9547887   0.44855264 -0.3219066   1.1951871 ]\n",
      "  [ 0.90363866  1.1222799  -0.21012904  0.15851301 -0.5954415\n",
      "   -0.28067255  1.0736486   0.40903908 -0.40460706  1.3044074 ]\n",
      "  [ 0.9741859   1.17378    -0.2784368   0.11134049 -0.66387653\n",
      "   -0.27111325  1.1245881   0.44475007 -0.3691376   1.360308  ]\n",
      "  [ 0.9828849   1.264472   -0.26621938  0.2004349  -0.62478876\n",
      "   -0.25306234  1.0948044   0.46805432 -0.44922045  1.3920587 ]]\n",
      "\n",
      " [[ 1.2606632   1.4722884  -0.3886202   0.17510924 -0.8663288\n",
      "   -0.3165643   1.4542972   0.6612763  -0.47243297  1.712698  ]\n",
      "  [ 1.2256535   1.5923785  -0.3902389   0.2412622  -0.8186534\n",
      "   -0.32828358  1.4276929   0.65548337 -0.48825857  1.7805281 ]\n",
      "  [ 1.3077734   1.6285094  -0.32500893  0.22832    -0.8699445\n",
      "   -0.39141127  1.5465527   0.6159698  -0.5709591   1.8897483 ]\n",
      "  [ 1.3783207   1.6800096  -0.39331672  0.18114749 -0.9383795\n",
      "   -0.381852    1.5974923   0.65168077 -0.53548956  1.945649  ]\n",
      "  [ 1.3870196   1.7707016  -0.38109928  0.2702419  -0.89929175\n",
      "   -0.3638011   1.5677086   0.67498505 -0.6155724   1.9773996 ]]], shape=(3, 5, 10), dtype=float32)\n"
     ]
    }
   ],
   "source": [
    "tmp = np.array([1.0,1.1,1.2,1.3,1.4,2.0,2.1,2.2,2.3,2.4,3.0,3.1,3.2,3.3,3.4]).reshape((3,5,-1))\n",
    "\n",
    "l = tf.keras.layers.Dense(10)\n",
    "l2 = tf.keras.layers.Embedding(5, 10)\n",
    "print(tmp)\n",
    "\n",
    "positions = tf.range(start=0, limit=5, delta=1)\n",
    "positions = l2(positions)\n",
    "tmp = l(tmp)\n",
    "print(tmp + positions)"
   ]
  },
  {
   "cell_type": "markdown",
   "id": "8927543a-304e-4382-86ab-1950970e8e37",
   "metadata": {},
   "source": [
    "# 디코더"
   ]
  },
  {
   "cell_type": "markdown",
   "id": "f1bb39d8-afcc-4f61-b9bd-1f134eef8f46",
   "metadata": {},
   "source": [
    "## 룩-어헤드-마스크\n",
    "(디코더에서 미래토큰을 이용해 attention 못하게 하는 것!)"
   ]
  },
  {
   "cell_type": "code",
   "execution_count": 9,
   "id": "36ef022b-bcba-4708-840d-a0f0b75682d3",
   "metadata": {},
   "outputs": [],
   "source": [
    "# 디코더의 첫번째 서브층(sublayer)에서 미래 토큰을 Mask하는 함수\n",
    "def create_look_ahead_mask(x):\n",
    "    seq_len = tf.shape(x)[1]\n",
    "    look_ahead_mask = 1 - tf.linalg.band_part(tf.ones((seq_len, seq_len)), -1, 0)\n",
    "    return look_ahead_mask"
   ]
  },
  {
   "cell_type": "code",
   "execution_count": 54,
   "id": "4c01de81-de1a-4088-ba78-befaa88ad857",
   "metadata": {},
   "outputs": [
    {
     "data": {
      "text/plain": [
       "<tf.Tensor: shape=(2, 5, 10), dtype=float32, numpy=\n",
       "array([[[-1.2092302e+00,  6.8527006e-02,  3.3292103e-01,  1.8105343e-02,\n",
       "         -2.4868713e-01, -1.0898347e-01, -3.4640485e-01, -5.3709531e-01,\n",
       "          4.4816291e-01, -4.2409912e-02],\n",
       "        [-1.9582322e+00,  6.3578069e-02,  5.4038769e-01, -2.9455081e-02,\n",
       "         -3.3842540e-01, -2.0657477e-01, -5.3563964e-01, -7.8727436e-01,\n",
       "          7.5678116e-01, -3.0719399e-02],\n",
       "        [-2.9663196e+00,  1.2378515e-01,  8.2149392e-01, -3.8793907e-02,\n",
       "         -5.3107023e-01, -2.9298228e-01, -8.1717157e-01, -1.1688446e+00,\n",
       "          1.1333616e+00, -4.7983289e-02],\n",
       "        [-4.1283822e+00,  1.8938079e-01,  1.1111833e+00, -9.3164951e-02,\n",
       "         -7.2616273e-01, -3.7265843e-01, -1.1431520e+00, -1.5595028e+00,\n",
       "          1.5723670e+00, -8.1279278e-02],\n",
       "        [-5.4032607e+00,  2.6441628e-01,  1.4210113e+00, -1.2298635e-01,\n",
       "         -9.6166712e-01, -4.5767057e-01, -1.5173202e+00, -2.0524879e+00,\n",
       "          2.0549111e+00, -1.3684571e-01]],\n",
       "\n",
       "       [[-5.7810373e-03,  6.5187598e-03,  1.1187208e-02,  3.7166007e-02,\n",
       "         -2.7483679e-02, -8.3238604e-03, -8.1098061e-03, -7.2330713e-02,\n",
       "         -5.6840442e-03, -1.1521680e-02],\n",
       "        [-1.0849453e+01,  4.9454969e-01,  2.9219007e+00, -1.9253862e-01,\n",
       "         -1.9428097e+00, -9.7204971e-01, -3.0217113e+00, -4.1966372e+00,\n",
       "          4.1261635e+00, -2.3964655e-01],\n",
       "        [-1.0689566e+01,  4.9266338e-01,  2.8813577e+00, -1.8483573e-01,\n",
       "         -1.9199754e+00, -9.5576823e-01, -2.9783969e+00, -4.1367836e+00,\n",
       "          4.0623956e+00, -2.3641872e-01],\n",
       "        [-1.0584305e+01,  4.8975474e-01,  2.8526340e+00, -1.8333495e-01,\n",
       "         -1.9019185e+00, -9.4486356e-01, -2.9494276e+00, -4.0938568e+00,\n",
       "          4.0215168e+00, -2.3443568e-01],\n",
       "        [-1.0466555e+01,  4.8639303e-01,  2.8203826e+00, -1.8116528e-01,\n",
       "         -1.8819840e+00, -9.3275571e-01, -2.9172711e+00, -4.0470314e+00,\n",
       "          3.9758964e+00, -2.3248863e-01]]], dtype=float32)>"
      ]
     },
     "execution_count": 54,
     "metadata": {},
     "output_type": "execute_result"
    }
   ],
   "source": [
    "tmp = tf.constant([[1,2,3,4,5],\n",
    "                   [0,9,8,7,6]])\n",
    "\n",
    "\n",
    "emb = AssetAndPositionEmbedding(20,10,is_decoder = True)\n",
    "att1 = MultiHeadAttention(10, 1)\n",
    "l = tf.keras.layers.Lambda(create_look_ahead_mask, output_shape=(1, None, None))\n",
    "q = tf.keras.layers.Dense(10)\n",
    "k = tf.keras.layers.Dense(10)\n",
    "v = tf.keras.layers.Dense(10)\n",
    "\n",
    "tmp_ = emb(tmp)\n",
    "mask_ = l(tmp)\n",
    "#query = q(tmp_)\n",
    "#key = k(tmp_)\n",
    "#value = v(tmp_)\n",
    "att1(tmp_,mask = mask_)\n"
   ]
  },
  {
   "cell_type": "markdown",
   "id": "7223af52-2f85-4151-9704-7c07ae2dd870",
   "metadata": {},
   "source": [
    "## 디코더 레이어"
   ]
  },
  {
   "cell_type": "code",
   "execution_count": 11,
   "id": "8db26bf9-a9d1-46e3-bc3f-7d61e6066ec2",
   "metadata": {},
   "outputs": [],
   "source": [
    "class decoder_layer(tf.keras.layers.Layer):\n",
    "    def __init__(self, embedding_dim, num_heads, dff, rate=0.1,**kwargs):\n",
    "        super(decoder_layer, self).__init__(**kwargs)\n",
    "        self.att1 = MultiHeadAttention(embedding_dim, num_heads)\n",
    "        self.att2 = MultiHeadAttention(embedding_dim, num_heads)\n",
    "        self.ffn = tf.keras.Sequential(\n",
    "            [tf.keras.layers.Dense(dff, activation=\"relu\"),\n",
    "             tf.keras.layers.Dense(embedding_dim),]\n",
    "        )\n",
    "        self.look_ahead_mask = tf.keras.layers.Lambda(create_look_ahead_mask, output_shape=(1, None, None))\n",
    "        self.layernorm1 = tf.keras.layers.LayerNormalization(epsilon=1e-6)\n",
    "        self.layernorm2 = tf.keras.layers.LayerNormalization(epsilon=1e-6)\n",
    "        self.layernorm3 = tf.keras.layers.LayerNormalization(epsilon=1e-6)\n",
    "        self.dropout2 = tf.keras.layers.Dropout(rate)\n",
    "        self.dropout3 = tf.keras.layers.Dropout(rate)\n",
    "\n",
    "    def call(self, inputs:list):\n",
    "        dec_inputs, enc_outputs = inputs\n",
    "        \n",
    "        look_ahead_mask = self.look_ahead_mask(dec_inputs)\n",
    "        attn_output_1 = self.att1(dec_inputs,mask = look_ahead_mask) # 첫번째 서브층 : 멀티 헤드 어텐션 / 마스크 포함\n",
    "        out1 = self.layernorm1(dec_inputs + attn_output_1) # Add & Norm\n",
    "        \n",
    "        attn_output_2 = self.att2(enc_outputs,query_ = out1) # 두번째 서브층 : 멀티 헤드 어텐션 / Q != K = V\n",
    "        attn_output_2 = self.dropout2(attn_output_2)\n",
    "        out2 = self.layernorm2(out1 + attn_output_2) # Add & Norm\n",
    "        \n",
    "        ffn_output = self.ffn(out2) # 세번째 서브층 : 포지션 와이즈 피드 포워드 신경망\n",
    "        ffn_output = self.dropout3(ffn_output)\n",
    "        return self.layernorm3(out2 + ffn_output) # Add & Norm"
   ]
  },
  {
   "cell_type": "markdown",
   "id": "813e0afd-cc50-45e8-b0e0-7686e1698328",
   "metadata": {},
   "source": [
    "# 데이터로드 및 전처리"
   ]
  },
  {
   "cell_type": "markdown",
   "id": "53910668-d444-4436-bf0a-50618b696508",
   "metadata": {},
   "source": [
    "## 기본 형태(IMDB 리뷰 분류)"
   ]
  },
  {
   "cell_type": "code",
   "execution_count": 12,
   "id": "7080b505-e455-4d5e-abac-a2ec2f33b4aa",
   "metadata": {},
   "outputs": [
    {
     "name": "stdout",
     "output_type": "stream",
     "text": [
      "훈련용 리뷰 개수 : 25000\n",
      "테스트용 리뷰 개수 : 25000\n"
     ]
    }
   ],
   "source": [
    "vocab_size = 20000  # 빈도수 상위 2만개의 단어만 사용\n",
    "max_len = 200  # 문장의 최대 길이\n",
    "\n",
    "(X_train, y_train), (X_test, y_test) = tf.keras.datasets.imdb.load_data(num_words=vocab_size)\n",
    "print('훈련용 리뷰 개수 : {}'.format(len(X_train)))\n",
    "print('테스트용 리뷰 개수 : {}'.format(len(X_test)))"
   ]
  },
  {
   "cell_type": "code",
   "execution_count": 13,
   "id": "502cd170",
   "metadata": {},
   "outputs": [],
   "source": [
    "X_train = tf.keras.preprocessing.sequence.pad_sequences(X_train, maxlen=max_len)\n",
    "X_test = tf.keras.preprocessing.sequence.pad_sequences(X_test, maxlen=max_len)"
   ]
  },
  {
   "cell_type": "code",
   "execution_count": 14,
   "id": "bf35bd40-5f40-49e8-a1d0-d074638c5129",
   "metadata": {},
   "outputs": [
    {
     "data": {
      "text/plain": [
       "array([    5,    25,   100,    43,   838,   112,    50,   670,     2,\n",
       "           9,    35,   480,   284,     5,   150,     4,   172,   112,\n",
       "         167,     2,   336,   385,    39,     4,   172,  4536,  1111,\n",
       "          17,   546,    38,    13,   447,     4,   192,    50,    16,\n",
       "           6,   147,  2025,    19,    14,    22,     4,  1920,  4613,\n",
       "         469,     4,    22,    71,    87,    12,    16,    43,   530,\n",
       "          38,    76,    15,    13,  1247,     4,    22,    17,   515,\n",
       "          17,    12,    16,   626,    18, 19193,     5,    62,   386,\n",
       "          12,     8,   316,     8,   106,     5,     4,  2223,  5244,\n",
       "          16,   480,    66,  3785,    33,     4,   130,    12,    16,\n",
       "          38,   619,     5,    25,   124,    51,    36,   135,    48,\n",
       "          25,  1415,    33,     6,    22,    12,   215,    28,    77,\n",
       "          52,     5,    14,   407,    16,    82, 10311,     8,     4,\n",
       "         107,   117,  5952,    15,   256,     4,     2,     7,  3766,\n",
       "           5,   723,    36,    71,    43,   530,   476,    26,   400,\n",
       "         317,    46,     7,     4, 12118,  1029,    13,   104,    88,\n",
       "           4,   381,    15,   297,    98,    32,  2071,    56,    26,\n",
       "         141,     6,   194,  7486,    18,     4,   226,    22,    21,\n",
       "         134,   476,    26,   480,     5,   144,    30,  5535,    18,\n",
       "          51,    36,    28,   224,    92,    25,   104,     4,   226,\n",
       "          65,    16,    38,  1334,    88,    12,    16,   283,     5,\n",
       "          16,  4472,   113,   103,    32,    15,    16,  5345,    19,\n",
       "         178,    32], dtype=int32)"
      ]
     },
     "execution_count": 14,
     "metadata": {},
     "output_type": "execute_result"
    }
   ],
   "source": [
    "X_train[0]"
   ]
  },
  {
   "cell_type": "markdown",
   "id": "6629d32c-7582-4d7b-bc71-541e7b78a21c",
   "metadata": {},
   "source": [
    "## 기존 전체 에셋의 주가 dataframe(Date, Adj Close)"
   ]
  },
  {
   "cell_type": "code",
   "execution_count": 15,
   "id": "81bc269d-bd0a-475b-b42c-d7efce6ae088",
   "metadata": {},
   "outputs": [
    {
     "name": "stdout",
     "output_type": "stream",
     "text": [
      "period : 2014-05-21 00:00:00 ~ 2022-04-28 00:00:00\n"
     ]
    }
   ],
   "source": [
    "path = \"./stock\"\n",
    "csvList=os.listdir(path+\"/asset\")\n",
    "\n",
    "#include_list = []\n",
    "\n",
    "for csv in csvList:\n",
    "    if csv[-4:] != \".csv\":\n",
    "        continue\n",
    "\n",
    "    data=pd.read_csv(path+\"/asset\"+'/'+csv)\n",
    "    if(len(data)>2000):\n",
    "        data=data[-2000-1:-1]\n",
    "        data=data.reset_index()\n",
    "        data=data[['Date','Adj Close']]\n",
    "        data.columns = ['Date',csv[:-4]]\n",
    "\n",
    "        #include_list.append(csv[:-4])\n",
    "\n",
    "        if csv == csvList[0]:\n",
    "            dataframe = data\n",
    "        else:\n",
    "            dataframe = pd.merge(dataframe,data,how=\"outer\",on=\"Date\")\n",
    "\n",
    "dataframe[\"Date\"] = pd.to_datetime(dataframe[\"Date\"])\n",
    "dataframe.sort_values(by=['Date'],inplace=True)\n",
    "dataframe.fillna(method='ffill',inplace=True)\n",
    "dataframe.fillna(method='bfill',inplace=True)\n",
    "sort_asset = dataframe.columns.to_list()[1:]\n",
    "sort_asset.sort()\n",
    "sort_col = [\"Date\"]\n",
    "sort_col.extend(sort_asset)\n",
    "dataframe = dataframe[sort_col]\n",
    "\n",
    "print(f'period : {dataframe[\"Date\"].iloc[0]} ~ {dataframe[\"Date\"].iloc[-1]}')\n",
    "dataT=dataframe.drop(columns = \"Date\").copy()"
   ]
  },
  {
   "cell_type": "code",
   "execution_count": 16,
   "id": "10d064a0-c634-48cd-9642-4539c0caaba8",
   "metadata": {},
   "outputs": [
    {
     "data": {
      "text/html": [
       "<div>\n",
       "<style scoped>\n",
       "    .dataframe tbody tr th:only-of-type {\n",
       "        vertical-align: middle;\n",
       "    }\n",
       "\n",
       "    .dataframe tbody tr th {\n",
       "        vertical-align: top;\n",
       "    }\n",
       "\n",
       "    .dataframe thead th {\n",
       "        text-align: right;\n",
       "    }\n",
       "</style>\n",
       "<table border=\"1\" class=\"dataframe\">\n",
       "  <thead>\n",
       "    <tr style=\"text-align: right;\">\n",
       "      <th></th>\n",
       "      <th>Date</th>\n",
       "      <th>ABBV</th>\n",
       "      <th>ACN</th>\n",
       "      <th>AEP</th>\n",
       "      <th>AIZ</th>\n",
       "      <th>ALLE</th>\n",
       "      <th>AMAT</th>\n",
       "      <th>AMP</th>\n",
       "      <th>AMZN</th>\n",
       "      <th>AVB</th>\n",
       "      <th>...</th>\n",
       "      <th>XLB</th>\n",
       "      <th>XLE</th>\n",
       "      <th>XLF</th>\n",
       "      <th>XLI</th>\n",
       "      <th>XLK</th>\n",
       "      <th>XLP</th>\n",
       "      <th>XLU</th>\n",
       "      <th>XLV</th>\n",
       "      <th>XLY</th>\n",
       "      <th>XOM</th>\n",
       "    </tr>\n",
       "  </thead>\n",
       "  <tbody>\n",
       "    <tr>\n",
       "      <th>2000</th>\n",
       "      <td>2014-05-21</td>\n",
       "      <td>38.150940</td>\n",
       "      <td>69.072014</td>\n",
       "      <td>38.695145</td>\n",
       "      <td>56.188667</td>\n",
       "      <td>46.928638</td>\n",
       "      <td>17.844561</td>\n",
       "      <td>90.965179</td>\n",
       "      <td>15.250500</td>\n",
       "      <td>107.492188</td>\n",
       "      <td>...</td>\n",
       "      <td>40.704945</td>\n",
       "      <td>67.940010</td>\n",
       "      <td>15.156129</td>\n",
       "      <td>45.362705</td>\n",
       "      <td>32.853657</td>\n",
       "      <td>35.573677</td>\n",
       "      <td>31.551863</td>\n",
       "      <td>51.291527</td>\n",
       "      <td>57.980255</td>\n",
       "      <td>70.825287</td>\n",
       "    </tr>\n",
       "    <tr>\n",
       "      <th>2001</th>\n",
       "      <td>2014-05-22</td>\n",
       "      <td>38.408752</td>\n",
       "      <td>69.141609</td>\n",
       "      <td>38.982849</td>\n",
       "      <td>56.400581</td>\n",
       "      <td>47.650467</td>\n",
       "      <td>17.746414</td>\n",
       "      <td>91.312065</td>\n",
       "      <td>15.245500</td>\n",
       "      <td>107.130859</td>\n",
       "      <td>...</td>\n",
       "      <td>40.798111</td>\n",
       "      <td>67.875244</td>\n",
       "      <td>15.225430</td>\n",
       "      <td>45.448112</td>\n",
       "      <td>32.915871</td>\n",
       "      <td>35.517445</td>\n",
       "      <td>31.810246</td>\n",
       "      <td>51.597702</td>\n",
       "      <td>58.287167</td>\n",
       "      <td>70.457397</td>\n",
       "    </tr>\n",
       "    <tr>\n",
       "      <th>2002</th>\n",
       "      <td>2014-05-23</td>\n",
       "      <td>38.637936</td>\n",
       "      <td>69.437508</td>\n",
       "      <td>38.922279</td>\n",
       "      <td>56.425999</td>\n",
       "      <td>48.548134</td>\n",
       "      <td>17.880249</td>\n",
       "      <td>91.617661</td>\n",
       "      <td>15.612000</td>\n",
       "      <td>107.668976</td>\n",
       "      <td>...</td>\n",
       "      <td>41.145363</td>\n",
       "      <td>67.738541</td>\n",
       "      <td>15.273937</td>\n",
       "      <td>45.738514</td>\n",
       "      <td>33.191429</td>\n",
       "      <td>35.573677</td>\n",
       "      <td>31.734251</td>\n",
       "      <td>51.623951</td>\n",
       "      <td>58.747547</td>\n",
       "      <td>70.332443</td>\n",
       "    </tr>\n",
       "    <tr>\n",
       "      <th>2003</th>\n",
       "      <td>2014-05-27</td>\n",
       "      <td>38.666592</td>\n",
       "      <td>69.707306</td>\n",
       "      <td>39.898937</td>\n",
       "      <td>57.358372</td>\n",
       "      <td>48.557404</td>\n",
       "      <td>18.362055</td>\n",
       "      <td>92.022346</td>\n",
       "      <td>15.541000</td>\n",
       "      <td>108.099503</td>\n",
       "      <td>...</td>\n",
       "      <td>41.145363</td>\n",
       "      <td>67.925598</td>\n",
       "      <td>15.405615</td>\n",
       "      <td>45.977665</td>\n",
       "      <td>33.475883</td>\n",
       "      <td>35.670090</td>\n",
       "      <td>31.985022</td>\n",
       "      <td>51.903896</td>\n",
       "      <td>59.054466</td>\n",
       "      <td>70.360222</td>\n",
       "    </tr>\n",
       "    <tr>\n",
       "      <th>2004</th>\n",
       "      <td>2014-05-28</td>\n",
       "      <td>38.723877</td>\n",
       "      <td>69.254768</td>\n",
       "      <td>40.080639</td>\n",
       "      <td>57.121040</td>\n",
       "      <td>48.992348</td>\n",
       "      <td>18.326368</td>\n",
       "      <td>91.824127</td>\n",
       "      <td>15.508000</td>\n",
       "      <td>107.830421</td>\n",
       "      <td>...</td>\n",
       "      <td>41.162308</td>\n",
       "      <td>68.040703</td>\n",
       "      <td>15.377890</td>\n",
       "      <td>46.011822</td>\n",
       "      <td>33.386993</td>\n",
       "      <td>35.621876</td>\n",
       "      <td>32.174999</td>\n",
       "      <td>51.755173</td>\n",
       "      <td>58.991276</td>\n",
       "      <td>70.151962</td>\n",
       "    </tr>\n",
       "    <tr>\n",
       "      <th>...</th>\n",
       "      <td>...</td>\n",
       "      <td>...</td>\n",
       "      <td>...</td>\n",
       "      <td>...</td>\n",
       "      <td>...</td>\n",
       "      <td>...</td>\n",
       "      <td>...</td>\n",
       "      <td>...</td>\n",
       "      <td>...</td>\n",
       "      <td>...</td>\n",
       "      <td>...</td>\n",
       "      <td>...</td>\n",
       "      <td>...</td>\n",
       "      <td>...</td>\n",
       "      <td>...</td>\n",
       "      <td>...</td>\n",
       "      <td>...</td>\n",
       "      <td>...</td>\n",
       "      <td>...</td>\n",
       "      <td>...</td>\n",
       "      <td>...</td>\n",
       "    </tr>\n",
       "    <tr>\n",
       "      <th>1995</th>\n",
       "      <td>2022-04-22</td>\n",
       "      <td>154.990005</td>\n",
       "      <td>310.799988</td>\n",
       "      <td>99.465302</td>\n",
       "      <td>185.865387</td>\n",
       "      <td>114.046402</td>\n",
       "      <td>112.524857</td>\n",
       "      <td>278.786682</td>\n",
       "      <td>144.350006</td>\n",
       "      <td>248.825989</td>\n",
       "      <td>...</td>\n",
       "      <td>85.150620</td>\n",
       "      <td>75.354942</td>\n",
       "      <td>35.978214</td>\n",
       "      <td>97.999741</td>\n",
       "      <td>142.709152</td>\n",
       "      <td>78.649414</td>\n",
       "      <td>73.660530</td>\n",
       "      <td>133.108063</td>\n",
       "      <td>175.414368</td>\n",
       "      <td>84.266830</td>\n",
       "    </tr>\n",
       "    <tr>\n",
       "      <th>1996</th>\n",
       "      <td>2022-04-25</td>\n",
       "      <td>156.300003</td>\n",
       "      <td>316.820007</td>\n",
       "      <td>99.713348</td>\n",
       "      <td>186.453156</td>\n",
       "      <td>114.255547</td>\n",
       "      <td>114.190781</td>\n",
       "      <td>279.662628</td>\n",
       "      <td>146.074005</td>\n",
       "      <td>246.415588</td>\n",
       "      <td>...</td>\n",
       "      <td>84.912270</td>\n",
       "      <td>72.862892</td>\n",
       "      <td>36.037895</td>\n",
       "      <td>97.999741</td>\n",
       "      <td>144.853577</td>\n",
       "      <td>78.996803</td>\n",
       "      <td>73.154579</td>\n",
       "      <td>134.004288</td>\n",
       "      <td>176.681427</td>\n",
       "      <td>81.425934</td>\n",
       "    </tr>\n",
       "    <tr>\n",
       "      <th>1997</th>\n",
       "      <td>2022-04-26</td>\n",
       "      <td>156.179993</td>\n",
       "      <td>303.100006</td>\n",
       "      <td>98.463203</td>\n",
       "      <td>184.191727</td>\n",
       "      <td>113.767532</td>\n",
       "      <td>108.654312</td>\n",
       "      <td>263.328400</td>\n",
       "      <td>139.391006</td>\n",
       "      <td>242.378433</td>\n",
       "      <td>...</td>\n",
       "      <td>83.601341</td>\n",
       "      <td>72.961784</td>\n",
       "      <td>35.132721</td>\n",
       "      <td>95.859138</td>\n",
       "      <td>139.457611</td>\n",
       "      <td>77.775970</td>\n",
       "      <td>72.420456</td>\n",
       "      <td>131.644241</td>\n",
       "      <td>167.742111</td>\n",
       "      <td>81.455627</td>\n",
       "    </tr>\n",
       "    <tr>\n",
       "      <th>1998</th>\n",
       "      <td>2022-04-27</td>\n",
       "      <td>157.619995</td>\n",
       "      <td>303.100006</td>\n",
       "      <td>98.750938</td>\n",
       "      <td>185.317459</td>\n",
       "      <td>115.550278</td>\n",
       "      <td>108.544579</td>\n",
       "      <td>264.980743</td>\n",
       "      <td>138.167007</td>\n",
       "      <td>238.837234</td>\n",
       "      <td>...</td>\n",
       "      <td>84.832817</td>\n",
       "      <td>74.029808</td>\n",
       "      <td>35.102882</td>\n",
       "      <td>96.217567</td>\n",
       "      <td>141.522232</td>\n",
       "      <td>78.063812</td>\n",
       "      <td>72.073235</td>\n",
       "      <td>131.355469</td>\n",
       "      <td>167.762054</td>\n",
       "      <td>83.781799</td>\n",
       "    </tr>\n",
       "    <tr>\n",
       "      <th>1999</th>\n",
       "      <td>2022-04-28</td>\n",
       "      <td>156.309998</td>\n",
       "      <td>313.839996</td>\n",
       "      <td>101.628242</td>\n",
       "      <td>185.516693</td>\n",
       "      <td>118.717407</td>\n",
       "      <td>114.350388</td>\n",
       "      <td>271.649811</td>\n",
       "      <td>144.596497</td>\n",
       "      <td>237.567566</td>\n",
       "      <td>...</td>\n",
       "      <td>86.173538</td>\n",
       "      <td>76.274635</td>\n",
       "      <td>35.550499</td>\n",
       "      <td>97.302803</td>\n",
       "      <td>147.187515</td>\n",
       "      <td>79.215164</td>\n",
       "      <td>72.876801</td>\n",
       "      <td>133.167816</td>\n",
       "      <td>171.204102</td>\n",
       "      <td>86.315842</td>\n",
       "    </tr>\n",
       "  </tbody>\n",
       "</table>\n",
       "<p>2042 rows × 85 columns</p>\n",
       "</div>"
      ],
      "text/plain": [
       "           Date        ABBV         ACN         AEP         AIZ        ALLE  \\\n",
       "2000 2014-05-21   38.150940   69.072014   38.695145   56.188667   46.928638   \n",
       "2001 2014-05-22   38.408752   69.141609   38.982849   56.400581   47.650467   \n",
       "2002 2014-05-23   38.637936   69.437508   38.922279   56.425999   48.548134   \n",
       "2003 2014-05-27   38.666592   69.707306   39.898937   57.358372   48.557404   \n",
       "2004 2014-05-28   38.723877   69.254768   40.080639   57.121040   48.992348   \n",
       "...         ...         ...         ...         ...         ...         ...   \n",
       "1995 2022-04-22  154.990005  310.799988   99.465302  185.865387  114.046402   \n",
       "1996 2022-04-25  156.300003  316.820007   99.713348  186.453156  114.255547   \n",
       "1997 2022-04-26  156.179993  303.100006   98.463203  184.191727  113.767532   \n",
       "1998 2022-04-27  157.619995  303.100006   98.750938  185.317459  115.550278   \n",
       "1999 2022-04-28  156.309998  313.839996  101.628242  185.516693  118.717407   \n",
       "\n",
       "            AMAT         AMP        AMZN         AVB  ...        XLB  \\\n",
       "2000   17.844561   90.965179   15.250500  107.492188  ...  40.704945   \n",
       "2001   17.746414   91.312065   15.245500  107.130859  ...  40.798111   \n",
       "2002   17.880249   91.617661   15.612000  107.668976  ...  41.145363   \n",
       "2003   18.362055   92.022346   15.541000  108.099503  ...  41.145363   \n",
       "2004   18.326368   91.824127   15.508000  107.830421  ...  41.162308   \n",
       "...          ...         ...         ...         ...  ...        ...   \n",
       "1995  112.524857  278.786682  144.350006  248.825989  ...  85.150620   \n",
       "1996  114.190781  279.662628  146.074005  246.415588  ...  84.912270   \n",
       "1997  108.654312  263.328400  139.391006  242.378433  ...  83.601341   \n",
       "1998  108.544579  264.980743  138.167007  238.837234  ...  84.832817   \n",
       "1999  114.350388  271.649811  144.596497  237.567566  ...  86.173538   \n",
       "\n",
       "            XLE        XLF        XLI         XLK        XLP        XLU  \\\n",
       "2000  67.940010  15.156129  45.362705   32.853657  35.573677  31.551863   \n",
       "2001  67.875244  15.225430  45.448112   32.915871  35.517445  31.810246   \n",
       "2002  67.738541  15.273937  45.738514   33.191429  35.573677  31.734251   \n",
       "2003  67.925598  15.405615  45.977665   33.475883  35.670090  31.985022   \n",
       "2004  68.040703  15.377890  46.011822   33.386993  35.621876  32.174999   \n",
       "...         ...        ...        ...         ...        ...        ...   \n",
       "1995  75.354942  35.978214  97.999741  142.709152  78.649414  73.660530   \n",
       "1996  72.862892  36.037895  97.999741  144.853577  78.996803  73.154579   \n",
       "1997  72.961784  35.132721  95.859138  139.457611  77.775970  72.420456   \n",
       "1998  74.029808  35.102882  96.217567  141.522232  78.063812  72.073235   \n",
       "1999  76.274635  35.550499  97.302803  147.187515  79.215164  72.876801   \n",
       "\n",
       "             XLV         XLY        XOM  \n",
       "2000   51.291527   57.980255  70.825287  \n",
       "2001   51.597702   58.287167  70.457397  \n",
       "2002   51.623951   58.747547  70.332443  \n",
       "2003   51.903896   59.054466  70.360222  \n",
       "2004   51.755173   58.991276  70.151962  \n",
       "...          ...         ...        ...  \n",
       "1995  133.108063  175.414368  84.266830  \n",
       "1996  134.004288  176.681427  81.425934  \n",
       "1997  131.644241  167.742111  81.455627  \n",
       "1998  131.355469  167.762054  83.781799  \n",
       "1999  133.167816  171.204102  86.315842  \n",
       "\n",
       "[2042 rows x 85 columns]"
      ]
     },
     "execution_count": 16,
     "metadata": {},
     "output_type": "execute_result"
    }
   ],
   "source": [
    "dataframe"
   ]
  },
  {
   "cell_type": "code",
   "execution_count": 17,
   "id": "03e04f4f-2f35-472f-a041-28b52e541899",
   "metadata": {},
   "outputs": [
    {
     "name": "stdout",
     "output_type": "stream",
     "text": [
      "[*********************100%***********************]  1 of 1 completed\n",
      "[*********************100%***********************]  1 of 1 completed\n",
      "[*********************100%***********************]  1 of 1 completed\n",
      "[*********************100%***********************]  1 of 1 completed\n",
      "[*********************100%***********************]  1 of 1 completed\n",
      "[*********************100%***********************]  1 of 1 completed\n",
      "[*********************100%***********************]  1 of 1 completed\n",
      "[*********************100%***********************]  1 of 1 completed\n",
      "[*********************100%***********************]  1 of 1 completed\n"
     ]
    }
   ],
   "source": [
    "start_date='2012-03-01'\n",
    "end_date=\"2022-05-01\"\n",
    "INDEX_DATA = make_index_data(start_date, end_date)"
   ]
  },
  {
   "cell_type": "markdown",
   "id": "fa729944-f706-45d8-9562-d76b195cd686",
   "metadata": {},
   "source": [
    "## ABBV 데이터(Date, Open, High, Low, Close, Adj Close, Vloume)"
   ]
  },
  {
   "cell_type": "code",
   "execution_count": 18,
   "id": "2b92abba-bfbf-4ba5-9344-ab595ac86e98",
   "metadata": {},
   "outputs": [
    {
     "data": {
      "text/html": [
       "<div>\n",
       "<style scoped>\n",
       "    .dataframe tbody tr th:only-of-type {\n",
       "        vertical-align: middle;\n",
       "    }\n",
       "\n",
       "    .dataframe tbody tr th {\n",
       "        vertical-align: top;\n",
       "    }\n",
       "\n",
       "    .dataframe thead th {\n",
       "        text-align: right;\n",
       "    }\n",
       "</style>\n",
       "<table border=\"1\" class=\"dataframe\">\n",
       "  <thead>\n",
       "    <tr style=\"text-align: right;\">\n",
       "      <th></th>\n",
       "      <th>Date</th>\n",
       "      <th>Open</th>\n",
       "      <th>High</th>\n",
       "      <th>Low</th>\n",
       "      <th>Close</th>\n",
       "      <th>Adj Close</th>\n",
       "      <th>Volume</th>\n",
       "    </tr>\n",
       "  </thead>\n",
       "  <tbody>\n",
       "    <tr>\n",
       "      <th>0</th>\n",
       "      <td>2013-01-02</td>\n",
       "      <td>34.919998</td>\n",
       "      <td>35.400002</td>\n",
       "      <td>34.099998</td>\n",
       "      <td>35.119999</td>\n",
       "      <td>23.783308</td>\n",
       "      <td>13767900</td>\n",
       "    </tr>\n",
       "    <tr>\n",
       "      <th>1</th>\n",
       "      <td>2013-01-03</td>\n",
       "      <td>35.000000</td>\n",
       "      <td>35.000000</td>\n",
       "      <td>34.160000</td>\n",
       "      <td>34.830002</td>\n",
       "      <td>23.586918</td>\n",
       "      <td>16739300</td>\n",
       "    </tr>\n",
       "    <tr>\n",
       "      <th>2</th>\n",
       "      <td>2013-01-04</td>\n",
       "      <td>34.619999</td>\n",
       "      <td>34.889999</td>\n",
       "      <td>34.250000</td>\n",
       "      <td>34.389999</td>\n",
       "      <td>23.288939</td>\n",
       "      <td>21372100</td>\n",
       "    </tr>\n",
       "    <tr>\n",
       "      <th>3</th>\n",
       "      <td>2013-01-07</td>\n",
       "      <td>34.150002</td>\n",
       "      <td>35.450001</td>\n",
       "      <td>34.150002</td>\n",
       "      <td>34.459999</td>\n",
       "      <td>23.336348</td>\n",
       "      <td>17897100</td>\n",
       "    </tr>\n",
       "    <tr>\n",
       "      <th>4</th>\n",
       "      <td>2013-01-08</td>\n",
       "      <td>34.290001</td>\n",
       "      <td>34.639999</td>\n",
       "      <td>33.360001</td>\n",
       "      <td>33.709999</td>\n",
       "      <td>22.828451</td>\n",
       "      <td>17863300</td>\n",
       "    </tr>\n",
       "    <tr>\n",
       "      <th>...</th>\n",
       "      <td>...</td>\n",
       "      <td>...</td>\n",
       "      <td>...</td>\n",
       "      <td>...</td>\n",
       "      <td>...</td>\n",
       "      <td>...</td>\n",
       "      <td>...</td>\n",
       "    </tr>\n",
       "    <tr>\n",
       "      <th>2344</th>\n",
       "      <td>2022-04-25</td>\n",
       "      <td>154.839996</td>\n",
       "      <td>156.639999</td>\n",
       "      <td>152.839996</td>\n",
       "      <td>156.300003</td>\n",
       "      <td>156.300003</td>\n",
       "      <td>6932600</td>\n",
       "    </tr>\n",
       "    <tr>\n",
       "      <th>2345</th>\n",
       "      <td>2022-04-26</td>\n",
       "      <td>156.440002</td>\n",
       "      <td>159.690002</td>\n",
       "      <td>155.820007</td>\n",
       "      <td>156.179993</td>\n",
       "      <td>156.179993</td>\n",
       "      <td>6787800</td>\n",
       "    </tr>\n",
       "    <tr>\n",
       "      <th>2346</th>\n",
       "      <td>2022-04-27</td>\n",
       "      <td>156.559998</td>\n",
       "      <td>159.500000</td>\n",
       "      <td>154.559998</td>\n",
       "      <td>157.619995</td>\n",
       "      <td>157.619995</td>\n",
       "      <td>6039100</td>\n",
       "    </tr>\n",
       "    <tr>\n",
       "      <th>2347</th>\n",
       "      <td>2022-04-28</td>\n",
       "      <td>158.360001</td>\n",
       "      <td>158.440002</td>\n",
       "      <td>154.339996</td>\n",
       "      <td>156.309998</td>\n",
       "      <td>156.309998</td>\n",
       "      <td>7465000</td>\n",
       "    </tr>\n",
       "    <tr>\n",
       "      <th>2348</th>\n",
       "      <td>2022-04-29</td>\n",
       "      <td>149.559998</td>\n",
       "      <td>149.860001</td>\n",
       "      <td>139.929993</td>\n",
       "      <td>146.880005</td>\n",
       "      <td>146.880005</td>\n",
       "      <td>25155900</td>\n",
       "    </tr>\n",
       "  </tbody>\n",
       "</table>\n",
       "<p>2349 rows × 7 columns</p>\n",
       "</div>"
      ],
      "text/plain": [
       "            Date        Open        High         Low       Close   Adj Close  \\\n",
       "0     2013-01-02   34.919998   35.400002   34.099998   35.119999   23.783308   \n",
       "1     2013-01-03   35.000000   35.000000   34.160000   34.830002   23.586918   \n",
       "2     2013-01-04   34.619999   34.889999   34.250000   34.389999   23.288939   \n",
       "3     2013-01-07   34.150002   35.450001   34.150002   34.459999   23.336348   \n",
       "4     2013-01-08   34.290001   34.639999   33.360001   33.709999   22.828451   \n",
       "...          ...         ...         ...         ...         ...         ...   \n",
       "2344  2022-04-25  154.839996  156.639999  152.839996  156.300003  156.300003   \n",
       "2345  2022-04-26  156.440002  159.690002  155.820007  156.179993  156.179993   \n",
       "2346  2022-04-27  156.559998  159.500000  154.559998  157.619995  157.619995   \n",
       "2347  2022-04-28  158.360001  158.440002  154.339996  156.309998  156.309998   \n",
       "2348  2022-04-29  149.559998  149.860001  139.929993  146.880005  146.880005   \n",
       "\n",
       "        Volume  \n",
       "0     13767900  \n",
       "1     16739300  \n",
       "2     21372100  \n",
       "3     17897100  \n",
       "4     17863300  \n",
       "...        ...  \n",
       "2344   6932600  \n",
       "2345   6787800  \n",
       "2346   6039100  \n",
       "2347   7465000  \n",
       "2348  25155900  \n",
       "\n",
       "[2349 rows x 7 columns]"
      ]
     },
     "execution_count": 18,
     "metadata": {},
     "output_type": "execute_result"
    }
   ],
   "source": [
    "ABBV = pd.read_csv(\"./stock/asset/ABBV.csv\")\n",
    "ABBV"
   ]
  },
  {
   "cell_type": "code",
   "execution_count": 19,
   "id": "c0ecf6ef-9d68-468f-9334-e8894f3f2734",
   "metadata": {},
   "outputs": [],
   "source": [
    "class one_asset:\n",
    "    def __init__(self, asset_dataframe, X_col=[\"Adj Close\"], window_size=20 ,H = 1, train_test_ratio = 0.8, is_minmaxscale = False):\n",
    "        self.origin_data = asset_dataframe\n",
    "        self.X_col = X_col\n",
    "        self.window_size = window_size\n",
    "        self.H = H\n",
    "        self.train_test_ratio = train_test_ratio\n",
    "        self.__split_point = int(self.origin_data.shape[0]*0.7)\n",
    "        self.scaler = MinMaxScaler(feature_range = (-1,+1)) if is_minmaxscale else None\n",
    "        \n",
    "        self.dataframe = self.origin_data.drop(columns=\"Date\").copy()\n",
    "        self.dataframe.fillna(method='ffill',inplace=True)\n",
    "        self.dataframe.fillna(method='bfill',inplace=True)\n",
    "        if self.scaler is not None:\n",
    "            self.scaler.fit(self.dataframe)\n",
    "            self.dataframe = self.scaler.transform(self.dataframe)\n",
    "            self.dataframe = pd.DataFrame(self.dataframe)\n",
    "            self.dataframe.columns = self.origin_data.columns[1:]\n",
    "\n",
    "    def get_data(self, is_numpy = True, is_train = True):\n",
    "        if is_train:\n",
    "            dataframe = self.dataframe.iloc[:self.__split_point,:].copy()\n",
    "        else:\n",
    "            dataframe = self.dataframe.iloc[self.__split_point-self.window_size-self.H-1:,:].copy()\n",
    "\n",
    "        X_data = dataframe[self.X_col].iloc[:-self.H,:].copy()\n",
    "        Y_data = dataframe[[\"Adj Close\"]].iloc[self.H + self.window_size-1:,:].copy()\n",
    "\n",
    "        if is_numpy:\n",
    "            return X_data.to_numpy(), Y_data.to_numpy()\n",
    "        else:\n",
    "            return X_data, Y_data\n",
    "\n",
    "    def get_data_for_model(self, is_train = True, is_shuffle=True):\n",
    "        X_np,Y_np = self.get_data(is_train = is_train)\n",
    "        if is_train:\n",
    "            start_point_array = np.arange(Y_np.shape[0])\n",
    "            if is_shuffle:\n",
    "                np.random.shuffle(start_point_array)\n",
    "            X_data = []\n",
    "            for sp in start_point_array:\n",
    "                X_data.append(list(X_np[sp:sp+self.window_size]))\n",
    "            X_data = np.array(X_data)\n",
    "            Y_data = Y_np[start_point_array]\n",
    "\n",
    "            return X_data, Y_data\n",
    "        else:\n",
    "            start_point_array = np.arange(Y_np.shape[0])\n",
    "            X_data = []\n",
    "            for sp in start_point_array:\n",
    "                X_data.append(X_np[sp:sp+self.window_size])\n",
    "            X_data = np.array(X_data)\n",
    "            Y_data = Y_np\n",
    "\n",
    "            return X_data, Y_data\n",
    "\n",
    "    def get_data_long_y(self, length_y = 20 ,is_train = True, is_shuffle=True):\n",
    "        X_np,Y_np = self.get_data(is_train = is_train)\n",
    "        Y_np = np.concatenate([X_np[-Y_np.shape[0]].reshape((1,1)),Y_np.reshape((-1,1))],axis=0)\n",
    "        if is_train:\n",
    "            start_point_array = np.arange(Y_np.shape[0])\n",
    "            for ind in start_point_array:\n",
    "                if ind+length_y+1 > Y_np.shape[0]:\n",
    "                    start_point_array = start_point_array[start_point_array != ind]\n",
    "            \n",
    "            if is_shuffle:\n",
    "                np.random.shuffle(start_point_array)\n",
    "            X_data = []\n",
    "            for sp in start_point_array:\n",
    "                X_data.append(list(X_np[sp:sp+self.window_size]))\n",
    "            X_data = np.array(X_data)\n",
    "            \n",
    "            Y_data = []\n",
    "            for sp in start_point_array:\n",
    "                Y_data.append(list(Y_np[sp:sp+length_y+1]))\n",
    "            Y_data = np.array(Y_data)\n",
    "            \n",
    "            return X_data, Y_data\n",
    "        else:\n",
    "            start_point_array = np.arange(Y_np.shape[0])\n",
    "            for ind in start_point_array:\n",
    "                if ind+length_y+1 > Y_np.shape[0]:\n",
    "                    start_point_array = start_point_array[start_point_array != ind]\n",
    "            X_data = []\n",
    "            for sp in start_point_array:\n",
    "                X_data.append(X_np[sp:sp+self.window_size])\n",
    "            X_data = np.array(X_data)\n",
    "            \n",
    "            Y_data = []\n",
    "            for sp in start_point_array:\n",
    "                Y_data.append(list(Y_np[sp:sp+length_y+1]))\n",
    "            Y_data = np.array(Y_data)\n",
    "\n",
    "            return X_data, Y_data"
   ]
  },
  {
   "cell_type": "code",
   "execution_count": 20,
   "id": "782292e1-ed7d-4ddd-8486-f96f85f151c7",
   "metadata": {},
   "outputs": [
    {
     "data": {
      "text/plain": [
       "array([0, 1, 2])"
      ]
     },
     "execution_count": 20,
     "metadata": {},
     "output_type": "execute_result"
    }
   ],
   "source": [
    "tmp = np.array([0,1,2,3,4])\n",
    "for t in tmp:\n",
    "    if t+3 > tmp.shape[0]:\n",
    "        tmp = tmp[tmp != t]\n",
    "tmp"
   ]
  },
  {
   "cell_type": "code",
   "execution_count": 21,
   "id": "800b3ec1-e872-42e5-8bcb-ec4cd6494a24",
   "metadata": {},
   "outputs": [
    {
     "name": "stdout",
     "output_type": "stream",
     "text": [
      "(1643, 1) (1624, 1)\n",
      "(1624, 20, 1) (1624, 1)\n"
     ]
    }
   ],
   "source": [
    "abbv_1 = one_asset(ABBV,X_col=[\"Adj Close\"], window_size=20 ,H = 1, train_test_ratio = 0.8)\n",
    "X,Y = abbv_1.get_data(is_train = True)\n",
    "print(X.shape, Y.shape)\n",
    "X_1,Y_1 = abbv_1.get_data_for_model(is_train = True)\n",
    "print(X_1.shape,Y_1.shape)"
   ]
  },
  {
   "cell_type": "code",
   "execution_count": 22,
   "id": "436f7c20-2f51-457a-941f-1a441a81e106",
   "metadata": {},
   "outputs": [
    {
     "name": "stdout",
     "output_type": "stream",
     "text": [
      "[23.78330803 23.58691788 23.28893852 23.33634758 22.82845116 22.95711708\n",
      " 23.02483559 23.19614792 23.36061287 23.71010017 24.35425377 24.95727158\n",
      " 25.57401276 24.95727158 25.90294075 25.66995049 25.76588821 25.27934837\n",
      " 25.56716537 25.3067646  25.14229965 25.47807693 25.54659653 25.49178123] [25.14229965 25.47807693 25.54659653 25.49178123]\n"
     ]
    }
   ],
   "source": [
    "print(X.squeeze()[:24], Y.squeeze()[:4])"
   ]
  },
  {
   "cell_type": "markdown",
   "id": "92023db0-c80b-4e06-9fad-66780fc485b8",
   "metadata": {},
   "source": [
    "# 모델"
   ]
  },
  {
   "cell_type": "markdown",
   "id": "5a49ba6c-703b-4828-b342-46a3f13776cf",
   "metadata": {},
   "source": [
    "## 모델 생성"
   ]
  },
  {
   "cell_type": "code",
   "execution_count": 23,
   "id": "d21fdd69-d285-48ae-92be-6a3d48f98c18",
   "metadata": {},
   "outputs": [],
   "source": [
    "tf.keras.backend.clear_session()"
   ]
  },
  {
   "cell_type": "code",
   "execution_count": 51,
   "id": "7c13a57b-b203-4689-b326-9f370b840627",
   "metadata": {},
   "outputs": [
    {
     "name": "stdout",
     "output_type": "stream",
     "text": [
      "WARNING:tensorflow:AutoGraph could not transform <bound method AssetAndPositionEmbedding.call of <__main__.AssetAndPositionEmbedding object at 0x7f520a05cf10>> and will run it as-is.\n",
      "Cause: mangled names are not yet supported\n",
      "To silence this warning, decorate the function with @tf.autograph.experimental.do_not_convert\n",
      "WARNING: AutoGraph could not transform <bound method AssetAndPositionEmbedding.call of <__main__.AssetAndPositionEmbedding object at 0x7f520a05cf10>> and will run it as-is.\n",
      "Cause: mangled names are not yet supported\n",
      "To silence this warning, decorate the function with @tf.autograph.experimental.do_not_convert\n"
     ]
    }
   ],
   "source": [
    "embedding_dim = 32  # 각 단어의 임베딩 벡터의 차원\n",
    "num_heads = 2  # 어텐션 헤드의 수\n",
    "dff = 32  # 포지션 와이즈 피드 포워드 신경망의 은닉층의 크기\n",
    "\n",
    "window_size = 25\n",
    "\n",
    "#inputs = tf.keras.layers.Input(shape=(max_len,))\n",
    "inputs = tf.keras.layers.Input(shape=(window_size,),name=\"input\")\n",
    "#embedding_layer = TokenAndPositionEmbedding(max_len, vocab_size, embedding_dim)\n",
    "embedding_layer = AssetAndPositionEmbedding(window_size, embedding_dim,name = \"asset_and_position_Embedding\")\n",
    "x = embedding_layer(inputs)\n",
    "transformer_block = encoder_layer(embedding_dim, num_heads, dff, name = \"encoder_layer\")\n",
    "x = transformer_block(x)\n",
    "x = tf.keras.layers.GlobalAveragePooling1D(name = \"pooling_1\")(x)\n",
    "x = tf.keras.layers.Dropout(0.1,name=\"drop_out_1\")(x)\n",
    "x = tf.keras.layers.Dense(20, activation=\"relu\",name=\"Dense_1\")(x)\n",
    "x = tf.keras.layers.Dropout(0.1,name=\"drop_out_2\")(x)\n",
    "outputs = tf.keras.layers.Dense(2, activation=\"softmax\",name=\"Dense_2\")(x)\n",
    "\n",
    "model = tf.keras.Model(inputs=inputs, outputs=outputs)"
   ]
  },
  {
   "cell_type": "code",
   "execution_count": 62,
   "id": "0e4b08fa-bec2-4b95-8f19-e73ab1b9fa3e",
   "metadata": {},
   "outputs": [],
   "source": [
    "def transformer_stock(embedding_dim, num_heads, dff, window_size, forecast_range, name=\"Transformer_Stock\"):\n",
    "    #레이어 구성\n",
    "    inputs = tf.keras.layers.Input(shape=(window_size,),name=\"encoder_input\")\n",
    "    decoder_inputs = tf.keras.layers.Input(shape=(None,),name=\"decoder_input\")\n",
    "    embedding_layer_encoder = AssetAndPositionEmbedding(window_size, embedding_dim,name = \"Encoder_Embedding\")\n",
    "    embedding_layer_decoder = AssetAndPositionEmbedding(forecast_range, embedding_dim,is_decoder = True, name = \"Decoder_Embedding\")\n",
    "    encoder_block = encoder_layer(embedding_dim, num_heads, dff, name = \"encoder_layer\")\n",
    "    decoder_block = decoder_layer(embedding_dim, num_heads, dff, name = \"decoder_layer\")\n",
    "    final_dence = tf.keras.layers.Dense(1,name = \"Final_Dense\")\n",
    "    \n",
    "    #모델 쌓기\n",
    "    encoder_embeding_out = embedding_layer_encoder(inputs)\n",
    "    encoder_out = encoder_block(encoder_embeding_out)\n",
    "    decoder_embeding_out = embedding_layer_decoder(decoder_inputs)\n",
    "    decoder_out = decoder_block(inputs = [decoder_embeding_out, encoder_out])#바로 위랑 함께 for문으로 묶어야하나...?\n",
    "    final_out = final_dence(decoder_out)\n",
    "    \n",
    "    return tf.keras.Model(inputs=[inputs,decoder_inputs], outputs=final_out, name = name)"
   ]
  },
  {
   "cell_type": "code",
   "execution_count": 63,
   "id": "d904e70f-fd6e-48c0-bc83-dd416ddde7b8",
   "metadata": {},
   "outputs": [],
   "source": [
    "embedding_dim = 32  # 각 단어의 임베딩 벡터의 차원\n",
    "num_heads = 2  # 어텐션 헤드의 수\n",
    "dff = 32  # 포지션 와이즈 피드 포워드 신경망의 은닉층의 크기\n",
    "\n",
    "window_size = 25\n",
    "forecast_range = 20\n",
    "\n",
    "model = transformer_stock(embedding_dim, num_heads, dff, window_size, forecast_range)"
   ]
  },
  {
   "cell_type": "code",
   "execution_count": 64,
   "id": "e72b87b7-9df2-45bb-8390-070dc030829b",
   "metadata": {},
   "outputs": [
    {
     "data": {
      "image/png": "[encoded data removed]",
      "text/plain": [
       "<IPython.core.display.Image object>"
      ]
     },
     "execution_count": 64,
     "metadata": {},
     "output_type": "execute_result"
    }
   ],
   "source": [
    "tf.keras.utils.plot_model(model, show_shapes=True)"
   ]
  },
  {
   "cell_type": "markdown",
   "id": "9358a63e-ed6d-47a3-8aac-e94b0e2d5115",
   "metadata": {},
   "source": [
    "## 데이터 셋 생성 "
   ]
  },
  {
   "cell_type": "code",
   "execution_count": 27,
   "id": "eeaa9e38-3b30-4b5f-83f1-c2099c4e0d20",
   "metadata": {},
   "outputs": [
    {
     "name": "stdout",
     "output_type": "stream",
     "text": [
      "(1643, 1) (1619, 1)\n",
      "(1600, 25, 1) (1600, 21, 1)\n",
      "(688, 25, 1) (688, 21, 1)\n"
     ]
    }
   ],
   "source": [
    "abbv_1 = one_asset(ABBV,X_col=[\"Adj Close\"], window_size=25 ,H = 1, train_test_ratio = 0.8,is_minmaxscale=True)\n",
    "X,Y = abbv_1.get_data(is_train = True)\n",
    "print(X.shape, Y.shape)\n",
    "X_1,Y_1 = abbv_1.get_data_long_y(is_train = True,is_shuffle=True)\n",
    "print(X_1.shape,Y_1.shape)\n",
    "X_2,Y_2 = abbv_1.get_data_long_y(is_train = False)\n",
    "print(X_2.shape,Y_2.shape)"
   ]
  },
  {
   "cell_type": "code",
   "execution_count": 28,
   "id": "db9ac237-1ab7-411a-9c93-024e6d88d1a2",
   "metadata": {},
   "outputs": [
    {
     "data": {
      "text/plain": [
       "(1600, 20)"
      ]
     },
     "execution_count": 28,
     "metadata": {},
     "output_type": "execute_result"
    }
   ],
   "source": [
    "Y_1.squeeze()[:,:-1].shape"
   ]
  },
  {
   "cell_type": "code",
   "execution_count": 29,
   "id": "ae6855b1-8815-43d6-803c-28dfe84dfae7",
   "metadata": {},
   "outputs": [
    {
     "name": "stdout",
     "output_type": "stream",
     "text": [
      "(1600, 25) (1600, 21) (688, 25) (688, 21)\n"
     ]
    }
   ],
   "source": [
    "X_train_asset = X_1.squeeze()\n",
    "y_train_asset = Y_1.squeeze()\n",
    "\n",
    "X_test_asset = X_2.squeeze()\n",
    "y_test_asset = Y_2.squeeze()\n",
    "\n",
    "print(X_train_asset.shape, y_train_asset.shape, X_test_asset.shape, y_test_asset.shape)"
   ]
  },
  {
   "cell_type": "code",
   "execution_count": 30,
   "id": "b4d30477-e938-4827-bc70-36e6cecdcbb3",
   "metadata": {},
   "outputs": [
    {
     "name": "stdout",
     "output_type": "stream",
     "text": [
      "[[-0.79659119 -0.79316869 -0.79012624 -0.78974582 -0.78898535 -0.78936551\n",
      "  -0.78651337 -0.78822447 -0.78613306 -0.78413649 -0.77729113 -0.77919254\n",
      "  -0.79117202 -0.78993608 -0.787464   -0.79288343 -0.78812962 -0.78965077\n",
      "  -0.78679863 -0.78423155 -0.78784436 -0.79630588 -0.7920276  -0.79354869\n",
      "  -0.78014342]\n",
      " [-0.30240205 -0.30477214 -0.33377808 -0.39404711 -0.43242108 -0.42869645\n",
      "  -0.41075107 -0.39686881 -0.39449892 -0.41673287 -0.4036405  -0.41052532\n",
      "  -0.40950977 -0.40386636 -0.40273788 -0.40093203 -0.3912257  -0.39427296\n",
      "  -0.39054843 -0.39427296 -0.40025476 -0.41424985 -0.39991637 -0.39686881\n",
      "  -0.39438589]\n",
      " [-0.6194738  -0.62895553 -0.62401714 -0.62609138 -0.62500468 -0.6178935\n",
      "  -0.62293079 -0.62559753 -0.63656071 -0.65216623 -0.67636463 -0.70342722\n",
      "  -0.67942637 -0.665895   -0.67112984 -0.68663651 -0.70550121 -0.70076032\n",
      "  -0.69483424 -0.71271135 -0.70480997 -0.71774864 -0.714588   -0.71685969\n",
      "  -0.72090913]]\n",
      "\n",
      "[[-0.78014342 -0.76578721 -0.76312492 -0.76645258 -0.76217434 -0.75057517\n",
      "  -0.74952949 -0.75732554 -0.77358321 -0.78004821 -0.77263253 -0.77656013\n",
      "  -0.77761381 -0.79112092 -0.78910937 -0.79035458 -0.77703919 -0.78575629\n",
      "  -0.78527748 -0.78115816 -0.78498999]\n",
      " [-0.39438589 -0.40680089 -0.40871967 -0.39901325 -0.40623645 -0.412444\n",
      "  -0.42169901 -0.42000598 -0.42745484 -0.42181173 -0.41436288 -0.41221854\n",
      "  -0.40070637 -0.38501836 -0.3928059  -0.39088702 -0.39528872 -0.38614694\n",
      "  -0.4028506  -0.40567231 -0.39156439]\n",
      " [-0.72090913 -0.71834124 -0.7152794  -0.71182255 -0.69839003 -0.71646459\n",
      "  -0.73276146 -0.7358232  -0.74431743 -0.75251527 -0.78451625 -0.78165196\n",
      "  -0.76565154 -0.75854    -0.75172502 -0.74323099 -0.7590339  -0.75360167\n",
      "  -0.74955217 -0.75350281 -0.75221897]]\n"
     ]
    }
   ],
   "source": [
    "print(X_train_asset[:3])\n",
    "print()\n",
    "print(y_train_asset[:3])"
   ]
  },
  {
   "cell_type": "code",
   "execution_count": 129,
   "id": "090e3e2b-9fe5-4936-a5f4-f9a378e72584",
   "metadata": {},
   "outputs": [],
   "source": [
    "# 텐서플로우 dataset을 이용하여 셔플(shuffle)을 수행하되, 배치 크기로 데이터를 묶는다.\n",
    "# 또한 이 과정에서 교사 강요(teacher forcing)을 사용하기 위해서 디코더의 입력과 실제값 시퀀스를 구성한다.\n",
    "BATCH_SIZE = 64\n",
    "BUFFER_SIZE = 20000\n",
    "\n",
    "# 디코더의 실제값 시퀀스에서는 시작 토큰을 제거해야 한다.\n",
    "train_dataset = tf.data.Dataset.from_tensor_slices((\n",
    "    {\n",
    "        'encoder_input': X_1.squeeze(),\n",
    "        'decoder_input': Y_1.squeeze()[:, :-1] # 디코더의 입력. 마지막 값이 제거된다.(t 시점 ~ t+19 시점)\n",
    "    },\n",
    "    {\n",
    "        'Final_Dense': Y_1[:,:-1,:]  # 맨 처음 토큰이 제거된다. 다시 말해 input의 마지막 값이 제거된다.(t+1 시점 ~ t+20 시점)\n",
    "    },\n",
    "))\n",
    "\n",
    "train_dataset = train_dataset.cache()\n",
    "train_dataset = train_dataset.shuffle(BUFFER_SIZE)\n",
    "train_dataset = train_dataset.batch(BATCH_SIZE)\n",
    "train_dataset = train_dataset.prefetch(tf.data.experimental.AUTOTUNE)"
   ]
  },
  {
   "cell_type": "code",
   "execution_count": 130,
   "id": "4f6c51f1-bb64-4c8f-801d-c75dcfbdd671",
   "metadata": {},
   "outputs": [],
   "source": [
    "# 디코더의 실제값 시퀀스에서는 시작 토큰을 제거해야 한다.\n",
    "test_dataset = tf.data.Dataset.from_tensor_slices((\n",
    "    {\n",
    "        'encoder_input': X_2.squeeze(),\n",
    "        'decoder_input': Y_2.squeeze()[:, :-1] # 디코더의 입력. 마지막 값이 제거된다.(t 시점 ~ t+19 시점)\n",
    "    },\n",
    "    {\n",
    "        'Final_Dense': Y_2[:,:-1,:]  # 맨 처음 토큰이 제거된다. 다시 말해 input의 마지막 값이 제거된다.(t+1 시점 ~ t+20 시점)\n",
    "    },\n",
    "))\n",
    "\n",
    "test_dataset = test_dataset.cache()\n",
    "test_dataset = test_dataset.batch(BATCH_SIZE)\n",
    "test_dataset = test_dataset.prefetch(tf.data.experimental.AUTOTUNE)"
   ]
  },
  {
   "cell_type": "markdown",
   "id": "5049ed6f-68ee-4b5c-a71a-742bc98d485f",
   "metadata": {},
   "source": [
    "## 모델 컴파일"
   ]
  },
  {
   "cell_type": "code",
   "execution_count": 60,
   "id": "b2ff889f-5bd4-409f-a88a-6fda9254d390",
   "metadata": {},
   "outputs": [],
   "source": [
    "model.compile(optimizer = tf.keras.optimizers.Adam(),\n",
    "              loss = tf.keras.losses.MeanSquaredError(),\n",
    "              metrics=[tf.keras.metrics.RootMeanSquaredError(),\n",
    "                       tf.keras.metrics.MeanAbsolutePercentageError()]\n",
    "             )"
   ]
  },
  {
   "cell_type": "markdown",
   "id": "99476ab6-35db-44b6-ad12-cfe131ab8fb8",
   "metadata": {},
   "source": [
    "# 학습"
   ]
  },
  {
   "cell_type": "code",
   "execution_count": 61,
   "id": "1cc69691-101e-4940-b08f-59a462fed3c1",
   "metadata": {},
   "outputs": [
    {
     "name": "stdout",
     "output_type": "stream",
     "text": [
      "Epoch 1/200\n",
      "25/25 [==============================] - 1s 56ms/step - loss: 1.5484 - root_mean_squared_error: 1.1830 - mean_absolute_percentage_error: 287.7373 - val_loss: 0.2400 - val_root_mean_squared_error: 0.4899 - val_mean_absolute_percentage_error: 1079.0712\n",
      "Epoch 2/200\n",
      "25/25 [==============================] - 2s 66ms/step - loss: 0.1286 - root_mean_squared_error: 0.3582 - mean_absolute_percentage_error: 109.0620 - val_loss: 0.6076 - val_root_mean_squared_error: 0.7795 - val_mean_absolute_percentage_error: 760.1453\n",
      "Epoch 3/200\n",
      "25/25 [==============================] - 2s 67ms/step - loss: 0.0721 - root_mean_squared_error: 0.2684 - mean_absolute_percentage_error: 59.9557 - val_loss: 1.1811 - val_root_mean_squared_error: 1.0868 - val_mean_absolute_percentage_error: 1214.6069\n",
      "Epoch 4/200\n",
      "25/25 [==============================] - 2s 60ms/step - loss: 0.0489 - root_mean_squared_error: 0.2210 - mean_absolute_percentage_error: 52.7849 - val_loss: 0.6853 - val_root_mean_squared_error: 0.8278 - val_mean_absolute_percentage_error: 929.4719\n",
      "Epoch 5/200\n",
      "25/25 [==============================] - 1s 60ms/step - loss: 0.0351 - root_mean_squared_error: 0.1873 - mean_absolute_percentage_error: 43.3538 - val_loss: 0.4440 - val_root_mean_squared_error: 0.6663 - val_mean_absolute_percentage_error: 755.0229\n",
      "Epoch 6/200\n",
      "25/25 [==============================] - 1s 60ms/step - loss: 0.0248 - root_mean_squared_error: 0.1575 - mean_absolute_percentage_error: 30.4797 - val_loss: 0.2378 - val_root_mean_squared_error: 0.4876 - val_mean_absolute_percentage_error: 497.1827\n",
      "Epoch 7/200\n",
      "25/25 [==============================] - 2s 61ms/step - loss: 0.0194 - root_mean_squared_error: 0.1393 - mean_absolute_percentage_error: 29.3748 - val_loss: 0.1810 - val_root_mean_squared_error: 0.4255 - val_mean_absolute_percentage_error: 374.9063\n",
      "Epoch 8/200\n",
      "25/25 [==============================] - 2s 63ms/step - loss: 0.0160 - root_mean_squared_error: 0.1264 - mean_absolute_percentage_error: 25.8140 - val_loss: 0.1717 - val_root_mean_squared_error: 0.4143 - val_mean_absolute_percentage_error: 378.6412\n",
      "Epoch 9/200\n",
      "25/25 [==============================] - 1s 59ms/step - loss: 0.0128 - root_mean_squared_error: 0.1133 - mean_absolute_percentage_error: 24.9423 - val_loss: 0.1619 - val_root_mean_squared_error: 0.4023 - val_mean_absolute_percentage_error: 332.2274\n",
      "Epoch 10/200\n",
      "25/25 [==============================] - 1s 58ms/step - loss: 0.0110 - root_mean_squared_error: 0.1048 - mean_absolute_percentage_error: 23.5387 - val_loss: 0.1637 - val_root_mean_squared_error: 0.4046 - val_mean_absolute_percentage_error: 344.8856\n",
      "Epoch 11/200\n",
      "25/25 [==============================] - 1s 57ms/step - loss: 0.0093 - root_mean_squared_error: 0.0962 - mean_absolute_percentage_error: 20.9621 - val_loss: 0.1631 - val_root_mean_squared_error: 0.4039 - val_mean_absolute_percentage_error: 307.5583\n",
      "Epoch 12/200\n",
      "25/25 [==============================] - 2s 62ms/step - loss: 0.0082 - root_mean_squared_error: 0.0905 - mean_absolute_percentage_error: 22.4775 - val_loss: 0.1648 - val_root_mean_squared_error: 0.4059 - val_mean_absolute_percentage_error: 256.6234\n",
      "Epoch 13/200\n",
      "25/25 [==============================] - 2s 61ms/step - loss: 0.0071 - root_mean_squared_error: 0.0843 - mean_absolute_percentage_error: 18.1545 - val_loss: 0.1658 - val_root_mean_squared_error: 0.4071 - val_mean_absolute_percentage_error: 247.9810\n",
      "Epoch 14/200\n",
      "25/25 [==============================] - 2s 61ms/step - loss: 0.0062 - root_mean_squared_error: 0.0790 - mean_absolute_percentage_error: 18.1274 - val_loss: 0.1685 - val_root_mean_squared_error: 0.4104 - val_mean_absolute_percentage_error: 270.3323\n",
      "Epoch 15/200\n",
      "25/25 [==============================] - 2s 61ms/step - loss: 0.0056 - root_mean_squared_error: 0.0747 - mean_absolute_percentage_error: 16.3325 - val_loss: 0.1712 - val_root_mean_squared_error: 0.4138 - val_mean_absolute_percentage_error: 269.0082\n",
      "Epoch 16/200\n",
      "25/25 [==============================] - 1s 57ms/step - loss: 0.0051 - root_mean_squared_error: 0.0717 - mean_absolute_percentage_error: 15.4569 - val_loss: 0.1576 - val_root_mean_squared_error: 0.3970 - val_mean_absolute_percentage_error: 235.3793\n",
      "Epoch 17/200\n",
      "25/25 [==============================] - 1s 55ms/step - loss: 0.0049 - root_mean_squared_error: 0.0699 - mean_absolute_percentage_error: 16.1311 - val_loss: 0.1557 - val_root_mean_squared_error: 0.3946 - val_mean_absolute_percentage_error: 252.1175\n",
      "Epoch 18/200\n",
      "25/25 [==============================] - 2s 65ms/step - loss: 0.0045 - root_mean_squared_error: 0.0669 - mean_absolute_percentage_error: 14.8082 - val_loss: 0.1523 - val_root_mean_squared_error: 0.3902 - val_mean_absolute_percentage_error: 272.5426\n",
      "Epoch 19/200\n",
      "25/25 [==============================] - 2s 65ms/step - loss: 0.0043 - root_mean_squared_error: 0.0653 - mean_absolute_percentage_error: 14.2964 - val_loss: 0.1534 - val_root_mean_squared_error: 0.3917 - val_mean_absolute_percentage_error: 245.4485\n",
      "Epoch 20/200\n",
      "25/25 [==============================] - 2s 61ms/step - loss: 0.0042 - root_mean_squared_error: 0.0647 - mean_absolute_percentage_error: 16.5173 - val_loss: 0.1527 - val_root_mean_squared_error: 0.3908 - val_mean_absolute_percentage_error: 215.0915\n",
      "Epoch 21/200\n",
      "25/25 [==============================] - 1s 57ms/step - loss: 0.0039 - root_mean_squared_error: 0.0623 - mean_absolute_percentage_error: 14.7158 - val_loss: 0.1371 - val_root_mean_squared_error: 0.3703 - val_mean_absolute_percentage_error: 229.6808\n",
      "Epoch 22/200\n",
      "25/25 [==============================] - 2s 62ms/step - loss: 0.0035 - root_mean_squared_error: 0.0589 - mean_absolute_percentage_error: 13.5439 - val_loss: 0.1289 - val_root_mean_squared_error: 0.3590 - val_mean_absolute_percentage_error: 261.6358\n",
      "Epoch 23/200\n",
      "25/25 [==============================] - 1s 53ms/step - loss: 0.0034 - root_mean_squared_error: 0.0580 - mean_absolute_percentage_error: 13.9444 - val_loss: 0.1263 - val_root_mean_squared_error: 0.3553 - val_mean_absolute_percentage_error: 208.5681\n",
      "Epoch 24/200\n",
      "25/25 [==============================] - 1s 53ms/step - loss: 0.0031 - root_mean_squared_error: 0.0560 - mean_absolute_percentage_error: 13.2510 - val_loss: 0.1123 - val_root_mean_squared_error: 0.3351 - val_mean_absolute_percentage_error: 247.8642\n",
      "Epoch 25/200\n",
      "25/25 [==============================] - 1s 57ms/step - loss: 0.0030 - root_mean_squared_error: 0.0549 - mean_absolute_percentage_error: 14.0201 - val_loss: 0.1053 - val_root_mean_squared_error: 0.3246 - val_mean_absolute_percentage_error: 219.2484\n",
      "Epoch 26/200\n",
      "25/25 [==============================] - 1s 55ms/step - loss: 0.0032 - root_mean_squared_error: 0.0565 - mean_absolute_percentage_error: 12.8327 - val_loss: 0.0981 - val_root_mean_squared_error: 0.3133 - val_mean_absolute_percentage_error: 211.6271\n",
      "Epoch 27/200\n",
      "25/25 [==============================] - 1s 57ms/step - loss: 0.0030 - root_mean_squared_error: 0.0548 - mean_absolute_percentage_error: 13.0300 - val_loss: 0.0870 - val_root_mean_squared_error: 0.2950 - val_mean_absolute_percentage_error: 246.8016\n",
      "Epoch 28/200\n",
      "25/25 [==============================] - 1s 56ms/step - loss: 0.0027 - root_mean_squared_error: 0.0523 - mean_absolute_percentage_error: 13.0498 - val_loss: 0.0811 - val_root_mean_squared_error: 0.2848 - val_mean_absolute_percentage_error: 233.6502\n",
      "Epoch 29/200\n",
      "25/25 [==============================] - 1s 58ms/step - loss: 0.0025 - root_mean_squared_error: 0.0495 - mean_absolute_percentage_error: 12.0944 - val_loss: 0.0773 - val_root_mean_squared_error: 0.2781 - val_mean_absolute_percentage_error: 226.6017\n",
      "Epoch 30/200\n",
      "25/25 [==============================] - 1s 59ms/step - loss: 0.0025 - root_mean_squared_error: 0.0498 - mean_absolute_percentage_error: 12.3348 - val_loss: 0.0662 - val_root_mean_squared_error: 0.2574 - val_mean_absolute_percentage_error: 224.5912\n",
      "Epoch 31/200\n",
      "25/25 [==============================] - 1s 54ms/step - loss: 0.0023 - root_mean_squared_error: 0.0484 - mean_absolute_percentage_error: 11.4993 - val_loss: 0.0609 - val_root_mean_squared_error: 0.2468 - val_mean_absolute_percentage_error: 219.2006\n",
      "Epoch 32/200\n",
      "25/25 [==============================] - 1s 58ms/step - loss: 0.0023 - root_mean_squared_error: 0.0480 - mean_absolute_percentage_error: 11.3916 - val_loss: 0.0610 - val_root_mean_squared_error: 0.2469 - val_mean_absolute_percentage_error: 246.3870\n",
      "Epoch 33/200\n",
      "25/25 [==============================] - 2s 61ms/step - loss: 0.0022 - root_mean_squared_error: 0.0473 - mean_absolute_percentage_error: 11.2442 - val_loss: 0.0570 - val_root_mean_squared_error: 0.2388 - val_mean_absolute_percentage_error: 237.9762\n",
      "Epoch 34/200\n",
      "25/25 [==============================] - 1s 54ms/step - loss: 0.0021 - root_mean_squared_error: 0.0460 - mean_absolute_percentage_error: 11.1043 - val_loss: 0.0488 - val_root_mean_squared_error: 0.2209 - val_mean_absolute_percentage_error: 213.6324\n",
      "Epoch 35/200\n",
      "25/25 [==============================] - 1s 56ms/step - loss: 0.0021 - root_mean_squared_error: 0.0458 - mean_absolute_percentage_error: 10.8674 - val_loss: 0.0463 - val_root_mean_squared_error: 0.2152 - val_mean_absolute_percentage_error: 223.9858\n",
      "Epoch 36/200\n",
      "25/25 [==============================] - 2s 62ms/step - loss: 0.0019 - root_mean_squared_error: 0.0440 - mean_absolute_percentage_error: 11.7910 - val_loss: 0.0478 - val_root_mean_squared_error: 0.2187 - val_mean_absolute_percentage_error: 198.2372\n",
      "Epoch 37/200\n",
      "25/25 [==============================] - 1s 54ms/step - loss: 0.0018 - root_mean_squared_error: 0.0422 - mean_absolute_percentage_error: 10.0385 - val_loss: 0.0420 - val_root_mean_squared_error: 0.2050 - val_mean_absolute_percentage_error: 220.9085\n",
      "Epoch 38/200\n",
      "25/25 [==============================] - 1s 58ms/step - loss: 0.0019 - root_mean_squared_error: 0.0432 - mean_absolute_percentage_error: 10.9676 - val_loss: 0.0363 - val_root_mean_squared_error: 0.1904 - val_mean_absolute_percentage_error: 217.2303\n",
      "Epoch 39/200\n",
      "25/25 [==============================] - 2s 61ms/step - loss: 0.0018 - root_mean_squared_error: 0.0428 - mean_absolute_percentage_error: 10.2306 - val_loss: 0.0389 - val_root_mean_squared_error: 0.1972 - val_mean_absolute_percentage_error: 193.1830\n",
      "Epoch 40/200\n",
      "25/25 [==============================] - 2s 60ms/step - loss: 0.0017 - root_mean_squared_error: 0.0409 - mean_absolute_percentage_error: 10.2322 - val_loss: 0.0350 - val_root_mean_squared_error: 0.1870 - val_mean_absolute_percentage_error: 195.0107\n",
      "Epoch 41/200\n",
      "25/25 [==============================] - 2s 66ms/step - loss: 0.0017 - root_mean_squared_error: 0.0407 - mean_absolute_percentage_error: 10.8388 - val_loss: 0.0282 - val_root_mean_squared_error: 0.1679 - val_mean_absolute_percentage_error: 191.2952\n",
      "Epoch 42/200\n",
      "25/25 [==============================] - 2s 62ms/step - loss: 0.0017 - root_mean_squared_error: 0.0415 - mean_absolute_percentage_error: 10.6312 - val_loss: 0.0312 - val_root_mean_squared_error: 0.1767 - val_mean_absolute_percentage_error: 200.9729\n",
      "Epoch 43/200\n",
      "25/25 [==============================] - 1s 57ms/step - loss: 0.0016 - root_mean_squared_error: 0.0394 - mean_absolute_percentage_error: 9.3668 - val_loss: 0.0288 - val_root_mean_squared_error: 0.1696 - val_mean_absolute_percentage_error: 188.6070\n",
      "Epoch 44/200\n",
      "25/25 [==============================] - 1s 58ms/step - loss: 0.0015 - root_mean_squared_error: 0.0390 - mean_absolute_percentage_error: 9.3822 - val_loss: 0.0278 - val_root_mean_squared_error: 0.1666 - val_mean_absolute_percentage_error: 180.2397\n",
      "Epoch 45/200\n",
      "25/25 [==============================] - 1s 58ms/step - loss: 0.0015 - root_mean_squared_error: 0.0388 - mean_absolute_percentage_error: 9.8509 - val_loss: 0.0279 - val_root_mean_squared_error: 0.1671 - val_mean_absolute_percentage_error: 201.6496\n",
      "Epoch 46/200\n",
      "25/25 [==============================] - 1s 57ms/step - loss: 0.0014 - root_mean_squared_error: 0.0378 - mean_absolute_percentage_error: 10.2958 - val_loss: 0.0227 - val_root_mean_squared_error: 0.1505 - val_mean_absolute_percentage_error: 176.7757\n",
      "Epoch 47/200\n",
      "25/25 [==============================] - 1s 57ms/step - loss: 0.0013 - root_mean_squared_error: 0.0359 - mean_absolute_percentage_error: 8.7694 - val_loss: 0.0230 - val_root_mean_squared_error: 0.1518 - val_mean_absolute_percentage_error: 158.0275\n",
      "Epoch 48/200\n",
      "25/25 [==============================] - 1s 56ms/step - loss: 0.0012 - root_mean_squared_error: 0.0352 - mean_absolute_percentage_error: 9.2649 - val_loss: 0.0238 - val_root_mean_squared_error: 0.1544 - val_mean_absolute_percentage_error: 165.8149\n",
      "Epoch 49/200\n",
      "25/25 [==============================] - 2s 60ms/step - loss: 0.0012 - root_mean_squared_error: 0.0346 - mean_absolute_percentage_error: 8.3736 - val_loss: 0.0200 - val_root_mean_squared_error: 0.1414 - val_mean_absolute_percentage_error: 183.0289\n",
      "Epoch 50/200\n",
      "25/25 [==============================] - 1s 57ms/step - loss: 0.0012 - root_mean_squared_error: 0.0349 - mean_absolute_percentage_error: 9.3752 - val_loss: 0.0200 - val_root_mean_squared_error: 0.1414 - val_mean_absolute_percentage_error: 166.4010\n",
      "Epoch 51/200\n",
      "25/25 [==============================] - 1s 58ms/step - loss: 0.0011 - root_mean_squared_error: 0.0336 - mean_absolute_percentage_error: 8.3803 - val_loss: 0.0204 - val_root_mean_squared_error: 0.1428 - val_mean_absolute_percentage_error: 175.5540\n",
      "Epoch 52/200\n",
      "25/25 [==============================] - 1s 57ms/step - loss: 0.0011 - root_mean_squared_error: 0.0339 - mean_absolute_percentage_error: 7.6875 - val_loss: 0.0193 - val_root_mean_squared_error: 0.1389 - val_mean_absolute_percentage_error: 143.7000\n",
      "Epoch 53/200\n",
      "25/25 [==============================] - 1s 57ms/step - loss: 0.0011 - root_mean_squared_error: 0.0336 - mean_absolute_percentage_error: 8.4158 - val_loss: 0.0173 - val_root_mean_squared_error: 0.1314 - val_mean_absolute_percentage_error: 170.3682\n",
      "Epoch 54/200\n",
      "25/25 [==============================] - 2s 60ms/step - loss: 0.0010 - root_mean_squared_error: 0.0320 - mean_absolute_percentage_error: 7.9322 - val_loss: 0.0155 - val_root_mean_squared_error: 0.1244 - val_mean_absolute_percentage_error: 166.1972\n",
      "Epoch 55/200\n",
      "25/25 [==============================] - 1s 55ms/step - loss: 0.0010 - root_mean_squared_error: 0.0323 - mean_absolute_percentage_error: 8.6581 - val_loss: 0.0167 - val_root_mean_squared_error: 0.1292 - val_mean_absolute_percentage_error: 156.5365\n",
      "Epoch 56/200\n",
      "25/25 [==============================] - 1s 54ms/step - loss: 9.9692e-04 - root_mean_squared_error: 0.0316 - mean_absolute_percentage_error: 7.3875 - val_loss: 0.0163 - val_root_mean_squared_error: 0.1277 - val_mean_absolute_percentage_error: 186.5258\n",
      "Epoch 57/200\n",
      "25/25 [==============================] - 1s 56ms/step - loss: 0.0010 - root_mean_squared_error: 0.0322 - mean_absolute_percentage_error: 9.0826 - val_loss: 0.0168 - val_root_mean_squared_error: 0.1298 - val_mean_absolute_percentage_error: 169.7330\n",
      "Epoch 58/200\n",
      "25/25 [==============================] - 2s 67ms/step - loss: 0.0010 - root_mean_squared_error: 0.0322 - mean_absolute_percentage_error: 7.4281 - val_loss: 0.0172 - val_root_mean_squared_error: 0.1311 - val_mean_absolute_percentage_error: 183.5724\n",
      "Epoch 59/200\n",
      "25/25 [==============================] - 2s 62ms/step - loss: 9.9569e-04 - root_mean_squared_error: 0.0316 - mean_absolute_percentage_error: 7.4334 - val_loss: 0.0182 - val_root_mean_squared_error: 0.1349 - val_mean_absolute_percentage_error: 185.8603\n",
      "Epoch 60/200\n",
      "25/25 [==============================] - 1s 56ms/step - loss: 0.0011 - root_mean_squared_error: 0.0325 - mean_absolute_percentage_error: 8.2802 - val_loss: 0.0160 - val_root_mean_squared_error: 0.1263 - val_mean_absolute_percentage_error: 134.5096\n",
      "Epoch 61/200\n",
      "25/25 [==============================] - 2s 61ms/step - loss: 8.9306e-04 - root_mean_squared_error: 0.0299 - mean_absolute_percentage_error: 8.0502 - val_loss: 0.0153 - val_root_mean_squared_error: 0.1237 - val_mean_absolute_percentage_error: 134.4910\n",
      "Epoch 62/200\n",
      "25/25 [==============================] - 1s 58ms/step - loss: 9.2605e-04 - root_mean_squared_error: 0.0304 - mean_absolute_percentage_error: 7.9490 - val_loss: 0.0163 - val_root_mean_squared_error: 0.1275 - val_mean_absolute_percentage_error: 158.7391\n",
      "Epoch 63/200\n",
      "25/25 [==============================] - 1s 51ms/step - loss: 8.9244e-04 - root_mean_squared_error: 0.0299 - mean_absolute_percentage_error: 7.5361 - val_loss: 0.0148 - val_root_mean_squared_error: 0.1218 - val_mean_absolute_percentage_error: 153.6718\n",
      "Epoch 64/200\n",
      "25/25 [==============================] - 1s 57ms/step - loss: 8.5037e-04 - root_mean_squared_error: 0.0292 - mean_absolute_percentage_error: 7.2942 - val_loss: 0.0144 - val_root_mean_squared_error: 0.1202 - val_mean_absolute_percentage_error: 104.1269\n",
      "Epoch 65/200\n",
      "25/25 [==============================] - 1s 53ms/step - loss: 8.3216e-04 - root_mean_squared_error: 0.0288 - mean_absolute_percentage_error: 7.2174 - val_loss: 0.0132 - val_root_mean_squared_error: 0.1149 - val_mean_absolute_percentage_error: 162.4827\n",
      "Epoch 66/200\n",
      "25/25 [==============================] - 1s 57ms/step - loss: 8.5686e-04 - root_mean_squared_error: 0.0292 - mean_absolute_percentage_error: 7.3104 - val_loss: 0.0115 - val_root_mean_squared_error: 0.1072 - val_mean_absolute_percentage_error: 136.9475\n",
      "Epoch 67/200\n",
      "25/25 [==============================] - 1s 58ms/step - loss: 7.1656e-04 - root_mean_squared_error: 0.0268 - mean_absolute_percentage_error: 5.9278 - val_loss: 0.0144 - val_root_mean_squared_error: 0.1199 - val_mean_absolute_percentage_error: 99.0401\n",
      "Epoch 68/200\n",
      "25/25 [==============================] - 1s 59ms/step - loss: 7.4582e-04 - root_mean_squared_error: 0.0273 - mean_absolute_percentage_error: 7.0882 - val_loss: 0.0134 - val_root_mean_squared_error: 0.1159 - val_mean_absolute_percentage_error: 129.8293\n",
      "Epoch 69/200\n",
      "25/25 [==============================] - 1s 59ms/step - loss: 6.8672e-04 - root_mean_squared_error: 0.0262 - mean_absolute_percentage_error: 6.1034 - val_loss: 0.0128 - val_root_mean_squared_error: 0.1130 - val_mean_absolute_percentage_error: 140.1694\n",
      "Epoch 70/200\n",
      "25/25 [==============================] - 2s 62ms/step - loss: 6.7876e-04 - root_mean_squared_error: 0.0260 - mean_absolute_percentage_error: 6.9130 - val_loss: 0.0108 - val_root_mean_squared_error: 0.1039 - val_mean_absolute_percentage_error: 121.6106\n",
      "Epoch 71/200\n",
      "25/25 [==============================] - 2s 62ms/step - loss: 7.2852e-04 - root_mean_squared_error: 0.0270 - mean_absolute_percentage_error: 6.4596 - val_loss: 0.0135 - val_root_mean_squared_error: 0.1160 - val_mean_absolute_percentage_error: 107.6576\n",
      "Epoch 72/200\n",
      "25/25 [==============================] - 1s 58ms/step - loss: 6.4479e-04 - root_mean_squared_error: 0.0254 - mean_absolute_percentage_error: 6.4199 - val_loss: 0.0115 - val_root_mean_squared_error: 0.1074 - val_mean_absolute_percentage_error: 126.4754\n",
      "Epoch 73/200\n",
      "25/25 [==============================] - 1s 55ms/step - loss: 6.0990e-04 - root_mean_squared_error: 0.0247 - mean_absolute_percentage_error: 6.2089 - val_loss: 0.0121 - val_root_mean_squared_error: 0.1099 - val_mean_absolute_percentage_error: 108.1327\n",
      "Epoch 74/200\n",
      "25/25 [==============================] - 1s 57ms/step - loss: 6.0866e-04 - root_mean_squared_error: 0.0247 - mean_absolute_percentage_error: 6.2817 - val_loss: 0.0124 - val_root_mean_squared_error: 0.1113 - val_mean_absolute_percentage_error: 125.0734\n",
      "Epoch 75/200\n",
      "25/25 [==============================] - 1s 57ms/step - loss: 5.5249e-04 - root_mean_squared_error: 0.0235 - mean_absolute_percentage_error: 6.3008 - val_loss: 0.0127 - val_root_mean_squared_error: 0.1126 - val_mean_absolute_percentage_error: 137.4822\n",
      "Epoch 76/200\n",
      "25/25 [==============================] - 1s 53ms/step - loss: 5.8622e-04 - root_mean_squared_error: 0.0242 - mean_absolute_percentage_error: 5.8278 - val_loss: 0.0117 - val_root_mean_squared_error: 0.1080 - val_mean_absolute_percentage_error: 106.9847\n",
      "Epoch 77/200\n",
      "25/25 [==============================] - 1s 56ms/step - loss: 6.1389e-04 - root_mean_squared_error: 0.0248 - mean_absolute_percentage_error: 6.1266 - val_loss: 0.0111 - val_root_mean_squared_error: 0.1054 - val_mean_absolute_percentage_error: 109.5332\n",
      "Epoch 78/200\n",
      "25/25 [==============================] - 1s 56ms/step - loss: 5.6192e-04 - root_mean_squared_error: 0.0237 - mean_absolute_percentage_error: 5.9532 - val_loss: 0.0108 - val_root_mean_squared_error: 0.1037 - val_mean_absolute_percentage_error: 104.0954\n",
      "Epoch 79/200\n",
      "25/25 [==============================] - 1s 59ms/step - loss: 5.5022e-04 - root_mean_squared_error: 0.0235 - mean_absolute_percentage_error: 5.6126 - val_loss: 0.0116 - val_root_mean_squared_error: 0.1075 - val_mean_absolute_percentage_error: 127.5417\n",
      "Epoch 80/200\n",
      "25/25 [==============================] - 1s 56ms/step - loss: 5.3381e-04 - root_mean_squared_error: 0.0231 - mean_absolute_percentage_error: 5.3631 - val_loss: 0.0112 - val_root_mean_squared_error: 0.1058 - val_mean_absolute_percentage_error: 117.7662\n",
      "Epoch 81/200\n",
      "25/25 [==============================] - 2s 60ms/step - loss: 5.0626e-04 - root_mean_squared_error: 0.0225 - mean_absolute_percentage_error: 5.4515 - val_loss: 0.0102 - val_root_mean_squared_error: 0.1008 - val_mean_absolute_percentage_error: 109.7346\n",
      "Epoch 82/200\n",
      "25/25 [==============================] - 1s 58ms/step - loss: 4.9866e-04 - root_mean_squared_error: 0.0223 - mean_absolute_percentage_error: 5.4845 - val_loss: 0.0131 - val_root_mean_squared_error: 0.1147 - val_mean_absolute_percentage_error: 93.7133\n",
      "Epoch 83/200\n",
      "25/25 [==============================] - 1s 53ms/step - loss: 4.9587e-04 - root_mean_squared_error: 0.0223 - mean_absolute_percentage_error: 5.7498 - val_loss: 0.0114 - val_root_mean_squared_error: 0.1067 - val_mean_absolute_percentage_error: 101.6815\n",
      "Epoch 84/200\n",
      "25/25 [==============================] - 1s 57ms/step - loss: 4.8861e-04 - root_mean_squared_error: 0.0221 - mean_absolute_percentage_error: 5.6195 - val_loss: 0.0116 - val_root_mean_squared_error: 0.1075 - val_mean_absolute_percentage_error: 89.6230\n",
      "Epoch 85/200\n",
      "25/25 [==============================] - 1s 56ms/step - loss: 5.6088e-04 - root_mean_squared_error: 0.0237 - mean_absolute_percentage_error: 5.8554 - val_loss: 0.0120 - val_root_mean_squared_error: 0.1094 - val_mean_absolute_percentage_error: 89.7350\n",
      "Epoch 86/200\n",
      "25/25 [==============================] - 1s 58ms/step - loss: 5.1506e-04 - root_mean_squared_error: 0.0227 - mean_absolute_percentage_error: 4.7712 - val_loss: 0.0099 - val_root_mean_squared_error: 0.0995 - val_mean_absolute_percentage_error: 105.6922\n",
      "Epoch 87/200\n",
      "25/25 [==============================] - 1s 53ms/step - loss: 4.6591e-04 - root_mean_squared_error: 0.0216 - mean_absolute_percentage_error: 5.3649 - val_loss: 0.0104 - val_root_mean_squared_error: 0.1021 - val_mean_absolute_percentage_error: 85.9484\n",
      "Epoch 88/200\n",
      "25/25 [==============================] - 2s 65ms/step - loss: 5.1684e-04 - root_mean_squared_error: 0.0227 - mean_absolute_percentage_error: 5.4882 - val_loss: 0.0103 - val_root_mean_squared_error: 0.1017 - val_mean_absolute_percentage_error: 97.0717\n",
      "Epoch 89/200\n",
      "25/25 [==============================] - 2s 62ms/step - loss: 4.4369e-04 - root_mean_squared_error: 0.0211 - mean_absolute_percentage_error: 5.1024 - val_loss: 0.0095 - val_root_mean_squared_error: 0.0974 - val_mean_absolute_percentage_error: 79.8384\n",
      "Epoch 90/200\n",
      "25/25 [==============================] - 1s 55ms/step - loss: 4.2709e-04 - root_mean_squared_error: 0.0207 - mean_absolute_percentage_error: 5.3786 - val_loss: 0.0109 - val_root_mean_squared_error: 0.1044 - val_mean_absolute_percentage_error: 78.7966\n",
      "Epoch 91/200\n",
      "25/25 [==============================] - 1s 55ms/step - loss: 4.1064e-04 - root_mean_squared_error: 0.0203 - mean_absolute_percentage_error: 4.7823 - val_loss: 0.0092 - val_root_mean_squared_error: 0.0958 - val_mean_absolute_percentage_error: 85.8557\n",
      "Epoch 92/200\n",
      "25/25 [==============================] - 1s 57ms/step - loss: 3.9432e-04 - root_mean_squared_error: 0.0199 - mean_absolute_percentage_error: 4.7051 - val_loss: 0.0091 - val_root_mean_squared_error: 0.0954 - val_mean_absolute_percentage_error: 90.7541\n",
      "Epoch 93/200\n",
      "25/25 [==============================] - 2s 67ms/step - loss: 4.7599e-04 - root_mean_squared_error: 0.0218 - mean_absolute_percentage_error: 5.3463 - val_loss: 0.0101 - val_root_mean_squared_error: 0.1005 - val_mean_absolute_percentage_error: 97.4705\n",
      "Epoch 94/200\n",
      "25/25 [==============================] - 2s 61ms/step - loss: 3.9670e-04 - root_mean_squared_error: 0.0199 - mean_absolute_percentage_error: 4.6432 - val_loss: 0.0091 - val_root_mean_squared_error: 0.0954 - val_mean_absolute_percentage_error: 105.9825\n",
      "Epoch 95/200\n",
      "25/25 [==============================] - 1s 58ms/step - loss: 4.4925e-04 - root_mean_squared_error: 0.0212 - mean_absolute_percentage_error: 5.1022 - val_loss: 0.0091 - val_root_mean_squared_error: 0.0955 - val_mean_absolute_percentage_error: 73.0200\n",
      "Epoch 96/200\n",
      "25/25 [==============================] - 1s 51ms/step - loss: 3.7117e-04 - root_mean_squared_error: 0.0193 - mean_absolute_percentage_error: 4.7637 - val_loss: 0.0090 - val_root_mean_squared_error: 0.0951 - val_mean_absolute_percentage_error: 77.3292\n",
      "Epoch 97/200\n",
      "25/25 [==============================] - 1s 59ms/step - loss: 4.3214e-04 - root_mean_squared_error: 0.0208 - mean_absolute_percentage_error: 4.7471 - val_loss: 0.0094 - val_root_mean_squared_error: 0.0968 - val_mean_absolute_percentage_error: 87.7770\n",
      "Epoch 98/200\n",
      "25/25 [==============================] - 1s 55ms/step - loss: 3.5004e-04 - root_mean_squared_error: 0.0187 - mean_absolute_percentage_error: 4.6693 - val_loss: 0.0089 - val_root_mean_squared_error: 0.0944 - val_mean_absolute_percentage_error: 118.3769\n",
      "Epoch 99/200\n",
      "25/25 [==============================] - 1s 60ms/step - loss: 3.4943e-04 - root_mean_squared_error: 0.0187 - mean_absolute_percentage_error: 4.4346 - val_loss: 0.0089 - val_root_mean_squared_error: 0.0946 - val_mean_absolute_percentage_error: 99.6476\n",
      "Epoch 100/200\n",
      "25/25 [==============================] - 1s 58ms/step - loss: 3.3139e-04 - root_mean_squared_error: 0.0182 - mean_absolute_percentage_error: 4.3498 - val_loss: 0.0083 - val_root_mean_squared_error: 0.0908 - val_mean_absolute_percentage_error: 89.4391\n",
      "Epoch 101/200\n",
      "25/25 [==============================] - 1s 58ms/step - loss: 3.3892e-04 - root_mean_squared_error: 0.0184 - mean_absolute_percentage_error: 4.6490 - val_loss: 0.0083 - val_root_mean_squared_error: 0.0910 - val_mean_absolute_percentage_error: 110.2423\n",
      "Epoch 102/200\n",
      "25/25 [==============================] - 1s 57ms/step - loss: 3.2403e-04 - root_mean_squared_error: 0.0180 - mean_absolute_percentage_error: 4.1416 - val_loss: 0.0087 - val_root_mean_squared_error: 0.0932 - val_mean_absolute_percentage_error: 73.8844\n",
      "Epoch 103/200\n",
      "25/25 [==============================] - 1s 57ms/step - loss: 3.1235e-04 - root_mean_squared_error: 0.0177 - mean_absolute_percentage_error: 4.3565 - val_loss: 0.0074 - val_root_mean_squared_error: 0.0859 - val_mean_absolute_percentage_error: 105.0872\n",
      "Epoch 104/200\n",
      "25/25 [==============================] - 1s 55ms/step - loss: 3.1413e-04 - root_mean_squared_error: 0.0177 - mean_absolute_percentage_error: 4.1879 - val_loss: 0.0073 - val_root_mean_squared_error: 0.0852 - val_mean_absolute_percentage_error: 94.3696\n",
      "Epoch 105/200\n",
      "25/25 [==============================] - 1s 51ms/step - loss: 3.0932e-04 - root_mean_squared_error: 0.0176 - mean_absolute_percentage_error: 4.0671 - val_loss: 0.0067 - val_root_mean_squared_error: 0.0821 - val_mean_absolute_percentage_error: 72.5860\n",
      "Epoch 106/200\n",
      "25/25 [==============================] - 2s 60ms/step - loss: 3.1010e-04 - root_mean_squared_error: 0.0176 - mean_absolute_percentage_error: 4.5269 - val_loss: 0.0064 - val_root_mean_squared_error: 0.0797 - val_mean_absolute_percentage_error: 90.2579\n",
      "Epoch 107/200\n",
      "25/25 [==============================] - 2s 61ms/step - loss: 2.9468e-04 - root_mean_squared_error: 0.0172 - mean_absolute_percentage_error: 4.2007 - val_loss: 0.0062 - val_root_mean_squared_error: 0.0786 - val_mean_absolute_percentage_error: 77.1106\n",
      "Epoch 108/200\n",
      "25/25 [==============================] - 2s 60ms/step - loss: 2.9867e-04 - root_mean_squared_error: 0.0173 - mean_absolute_percentage_error: 4.0132 - val_loss: 0.0061 - val_root_mean_squared_error: 0.0783 - val_mean_absolute_percentage_error: 85.6976\n",
      "Epoch 109/200\n",
      "25/25 [==============================] - 2s 60ms/step - loss: 2.8458e-04 - root_mean_squared_error: 0.0169 - mean_absolute_percentage_error: 4.3047 - val_loss: 0.0058 - val_root_mean_squared_error: 0.0762 - val_mean_absolute_percentage_error: 75.4872\n",
      "Epoch 110/200\n",
      "25/25 [==============================] - 2s 63ms/step - loss: 2.8376e-04 - root_mean_squared_error: 0.0168 - mean_absolute_percentage_error: 4.2896 - val_loss: 0.0060 - val_root_mean_squared_error: 0.0778 - val_mean_absolute_percentage_error: 95.7300\n",
      "Epoch 111/200\n",
      "25/25 [==============================] - 2s 60ms/step - loss: 2.9142e-04 - root_mean_squared_error: 0.0171 - mean_absolute_percentage_error: 4.1373 - val_loss: 0.0060 - val_root_mean_squared_error: 0.0772 - val_mean_absolute_percentage_error: 76.1735\n",
      "Epoch 112/200\n",
      "25/25 [==============================] - 1s 57ms/step - loss: 2.7081e-04 - root_mean_squared_error: 0.0165 - mean_absolute_percentage_error: 3.5531 - val_loss: 0.0053 - val_root_mean_squared_error: 0.0730 - val_mean_absolute_percentage_error: 60.2682\n",
      "Epoch 113/200\n",
      "25/25 [==============================] - 1s 53ms/step - loss: 2.8376e-04 - root_mean_squared_error: 0.0168 - mean_absolute_percentage_error: 4.3539 - val_loss: 0.0050 - val_root_mean_squared_error: 0.0704 - val_mean_absolute_percentage_error: 55.9639\n",
      "Epoch 114/200\n",
      "25/25 [==============================] - 1s 58ms/step - loss: 2.9169e-04 - root_mean_squared_error: 0.0171 - mean_absolute_percentage_error: 4.4547 - val_loss: 0.0052 - val_root_mean_squared_error: 0.0724 - val_mean_absolute_percentage_error: 70.5125\n",
      "Epoch 115/200\n",
      "25/25 [==============================] - 1s 53ms/step - loss: 2.7631e-04 - root_mean_squared_error: 0.0166 - mean_absolute_percentage_error: 3.8784 - val_loss: 0.0051 - val_root_mean_squared_error: 0.0713 - val_mean_absolute_percentage_error: 57.1654\n",
      "Epoch 116/200\n",
      "25/25 [==============================] - 1s 52ms/step - loss: 2.6494e-04 - root_mean_squared_error: 0.0163 - mean_absolute_percentage_error: 4.0698 - val_loss: 0.0049 - val_root_mean_squared_error: 0.0699 - val_mean_absolute_percentage_error: 79.3353\n",
      "Epoch 117/200\n",
      "25/25 [==============================] - 1s 54ms/step - loss: 2.4745e-04 - root_mean_squared_error: 0.0157 - mean_absolute_percentage_error: 4.0485 - val_loss: 0.0050 - val_root_mean_squared_error: 0.0709 - val_mean_absolute_percentage_error: 60.1432\n",
      "Epoch 118/200\n",
      "25/25 [==============================] - 1s 60ms/step - loss: 2.3190e-04 - root_mean_squared_error: 0.0152 - mean_absolute_percentage_error: 3.5759 - val_loss: 0.0046 - val_root_mean_squared_error: 0.0678 - val_mean_absolute_percentage_error: 61.5168\n",
      "Epoch 119/200\n",
      "25/25 [==============================] - 1s 55ms/step - loss: 2.4751e-04 - root_mean_squared_error: 0.0157 - mean_absolute_percentage_error: 3.9914 - val_loss: 0.0044 - val_root_mean_squared_error: 0.0662 - val_mean_absolute_percentage_error: 75.9856\n",
      "Epoch 120/200\n",
      "25/25 [==============================] - 1s 53ms/step - loss: 2.3010e-04 - root_mean_squared_error: 0.0152 - mean_absolute_percentage_error: 3.3608 - val_loss: 0.0040 - val_root_mean_squared_error: 0.0631 - val_mean_absolute_percentage_error: 75.6548\n",
      "Epoch 121/200\n",
      "25/25 [==============================] - 1s 54ms/step - loss: 2.4017e-04 - root_mean_squared_error: 0.0155 - mean_absolute_percentage_error: 3.6490 - val_loss: 0.0039 - val_root_mean_squared_error: 0.0626 - val_mean_absolute_percentage_error: 80.2484\n",
      "Epoch 122/200\n",
      "25/25 [==============================] - 2s 62ms/step - loss: 2.2515e-04 - root_mean_squared_error: 0.0150 - mean_absolute_percentage_error: 3.5516 - val_loss: 0.0038 - val_root_mean_squared_error: 0.0615 - val_mean_absolute_percentage_error: 84.4832\n",
      "Epoch 123/200\n",
      "25/25 [==============================] - 1s 58ms/step - loss: 2.8998e-04 - root_mean_squared_error: 0.0170 - mean_absolute_percentage_error: 4.3927 - val_loss: 0.0036 - val_root_mean_squared_error: 0.0603 - val_mean_absolute_percentage_error: 72.8206\n",
      "Epoch 124/200\n",
      "25/25 [==============================] - 1s 52ms/step - loss: 2.5309e-04 - root_mean_squared_error: 0.0159 - mean_absolute_percentage_error: 4.0825 - val_loss: 0.0034 - val_root_mean_squared_error: 0.0582 - val_mean_absolute_percentage_error: 57.2997\n",
      "Epoch 125/200\n",
      "25/25 [==============================] - 1s 57ms/step - loss: 2.6079e-04 - root_mean_squared_error: 0.0161 - mean_absolute_percentage_error: 3.4714 - val_loss: 0.0037 - val_root_mean_squared_error: 0.0608 - val_mean_absolute_percentage_error: 33.1106\n",
      "Epoch 126/200\n",
      "25/25 [==============================] - 2s 60ms/step - loss: 2.3516e-04 - root_mean_squared_error: 0.0153 - mean_absolute_percentage_error: 3.7938 - val_loss: 0.0031 - val_root_mean_squared_error: 0.0557 - val_mean_absolute_percentage_error: 59.5704\n",
      "Epoch 127/200\n",
      "25/25 [==============================] - 1s 58ms/step - loss: 2.2846e-04 - root_mean_squared_error: 0.0151 - mean_absolute_percentage_error: 3.7412 - val_loss: 0.0034 - val_root_mean_squared_error: 0.0584 - val_mean_absolute_percentage_error: 78.8067\n",
      "Epoch 128/200\n",
      "25/25 [==============================] - 1s 58ms/step - loss: 2.0986e-04 - root_mean_squared_error: 0.0145 - mean_absolute_percentage_error: 3.3247 - val_loss: 0.0031 - val_root_mean_squared_error: 0.0556 - val_mean_absolute_percentage_error: 53.0822\n",
      "Epoch 129/200\n",
      "25/25 [==============================] - 1s 58ms/step - loss: 2.1130e-04 - root_mean_squared_error: 0.0145 - mean_absolute_percentage_error: 3.5018 - val_loss: 0.0029 - val_root_mean_squared_error: 0.0543 - val_mean_absolute_percentage_error: 64.2275\n",
      "Epoch 130/200\n",
      "25/25 [==============================] - 1s 60ms/step - loss: 2.3669e-04 - root_mean_squared_error: 0.0154 - mean_absolute_percentage_error: 3.5803 - val_loss: 0.0029 - val_root_mean_squared_error: 0.0541 - val_mean_absolute_percentage_error: 64.2941\n",
      "Epoch 131/200\n",
      "25/25 [==============================] - 1s 58ms/step - loss: 2.0285e-04 - root_mean_squared_error: 0.0142 - mean_absolute_percentage_error: 3.2736 - val_loss: 0.0026 - val_root_mean_squared_error: 0.0513 - val_mean_absolute_percentage_error: 53.2623\n",
      "Epoch 132/200\n",
      "25/25 [==============================] - 2s 60ms/step - loss: 2.0182e-04 - root_mean_squared_error: 0.0142 - mean_absolute_percentage_error: 3.3451 - val_loss: 0.0029 - val_root_mean_squared_error: 0.0535 - val_mean_absolute_percentage_error: 64.7748\n",
      "Epoch 133/200\n",
      "25/25 [==============================] - 1s 58ms/step - loss: 2.1275e-04 - root_mean_squared_error: 0.0146 - mean_absolute_percentage_error: 3.6103 - val_loss: 0.0021 - val_root_mean_squared_error: 0.0462 - val_mean_absolute_percentage_error: 44.9836\n",
      "Epoch 134/200\n",
      "25/25 [==============================] - 1s 56ms/step - loss: 1.9581e-04 - root_mean_squared_error: 0.0140 - mean_absolute_percentage_error: 3.6364 - val_loss: 0.0023 - val_root_mean_squared_error: 0.0482 - val_mean_absolute_percentage_error: 48.9191\n",
      "Epoch 135/200\n",
      "25/25 [==============================] - 1s 60ms/step - loss: 1.9577e-04 - root_mean_squared_error: 0.0140 - mean_absolute_percentage_error: 3.4282 - val_loss: 0.0021 - val_root_mean_squared_error: 0.0459 - val_mean_absolute_percentage_error: 57.9822\n",
      "Epoch 136/200\n",
      "25/25 [==============================] - 1s 57ms/step - loss: 1.9205e-04 - root_mean_squared_error: 0.0138 - mean_absolute_percentage_error: 3.5880 - val_loss: 0.0023 - val_root_mean_squared_error: 0.0480 - val_mean_absolute_percentage_error: 65.9945\n",
      "Epoch 137/200\n",
      "25/25 [==============================] - 1s 55ms/step - loss: 1.8528e-04 - root_mean_squared_error: 0.0136 - mean_absolute_percentage_error: 3.3468 - val_loss: 0.0023 - val_root_mean_squared_error: 0.0479 - val_mean_absolute_percentage_error: 73.0234\n",
      "Epoch 138/200\n",
      "25/25 [==============================] - 1s 57ms/step - loss: 1.8672e-04 - root_mean_squared_error: 0.0137 - mean_absolute_percentage_error: 3.2946 - val_loss: 0.0018 - val_root_mean_squared_error: 0.0430 - val_mean_absolute_percentage_error: 43.6933\n",
      "Epoch 139/200\n",
      "25/25 [==============================] - 1s 60ms/step - loss: 1.9967e-04 - root_mean_squared_error: 0.0141 - mean_absolute_percentage_error: 3.6343 - val_loss: 0.0019 - val_root_mean_squared_error: 0.0436 - val_mean_absolute_percentage_error: 42.5586\n",
      "Epoch 140/200\n",
      "25/25 [==============================] - 1s 58ms/step - loss: 1.9851e-04 - root_mean_squared_error: 0.0141 - mean_absolute_percentage_error: 3.4454 - val_loss: 0.0021 - val_root_mean_squared_error: 0.0453 - val_mean_absolute_percentage_error: 62.6022\n",
      "Epoch 141/200\n",
      "25/25 [==============================] - 1s 53ms/step - loss: 1.6411e-04 - root_mean_squared_error: 0.0128 - mean_absolute_percentage_error: 2.9540 - val_loss: 0.0017 - val_root_mean_squared_error: 0.0410 - val_mean_absolute_percentage_error: 39.4185\n",
      "Epoch 142/200\n",
      "25/25 [==============================] - 1s 59ms/step - loss: 1.9938e-04 - root_mean_squared_error: 0.0141 - mean_absolute_percentage_error: 3.6179 - val_loss: 0.0021 - val_root_mean_squared_error: 0.0457 - val_mean_absolute_percentage_error: 38.2362\n",
      "Epoch 143/200\n",
      "25/25 [==============================] - 1s 59ms/step - loss: 1.9364e-04 - root_mean_squared_error: 0.0139 - mean_absolute_percentage_error: 3.0905 - val_loss: 0.0017 - val_root_mean_squared_error: 0.0407 - val_mean_absolute_percentage_error: 52.5969\n",
      "Epoch 144/200\n",
      "25/25 [==============================] - 1s 58ms/step - loss: 1.8647e-04 - root_mean_squared_error: 0.0137 - mean_absolute_percentage_error: 3.6472 - val_loss: 0.0018 - val_root_mean_squared_error: 0.0419 - val_mean_absolute_percentage_error: 35.9648\n",
      "Epoch 145/200\n",
      "25/25 [==============================] - 1s 57ms/step - loss: 2.1389e-04 - root_mean_squared_error: 0.0146 - mean_absolute_percentage_error: 3.4443 - val_loss: 0.0025 - val_root_mean_squared_error: 0.0496 - val_mean_absolute_percentage_error: 42.6726\n",
      "Epoch 146/200\n",
      "25/25 [==============================] - 1s 53ms/step - loss: 1.9771e-04 - root_mean_squared_error: 0.0141 - mean_absolute_percentage_error: 3.1218 - val_loss: 0.0018 - val_root_mean_squared_error: 0.0427 - val_mean_absolute_percentage_error: 39.1187\n",
      "Epoch 147/200\n",
      "25/25 [==============================] - 1s 57ms/step - loss: 1.7213e-04 - root_mean_squared_error: 0.0131 - mean_absolute_percentage_error: 3.0239 - val_loss: 0.0017 - val_root_mean_squared_error: 0.0413 - val_mean_absolute_percentage_error: 61.1098\n",
      "Epoch 148/200\n",
      "25/25 [==============================] - 1s 57ms/step - loss: 1.5867e-04 - root_mean_squared_error: 0.0126 - mean_absolute_percentage_error: 2.9217 - val_loss: 0.0016 - val_root_mean_squared_error: 0.0406 - val_mean_absolute_percentage_error: 33.4815\n",
      "Epoch 149/200\n",
      "25/25 [==============================] - 1s 60ms/step - loss: 1.9015e-04 - root_mean_squared_error: 0.0138 - mean_absolute_percentage_error: 3.5277 - val_loss: 0.0018 - val_root_mean_squared_error: 0.0420 - val_mean_absolute_percentage_error: 42.6473\n",
      "Epoch 150/200\n",
      "25/25 [==============================] - 2s 64ms/step - loss: 1.3732e-04 - root_mean_squared_error: 0.0117 - mean_absolute_percentage_error: 2.9978 - val_loss: 0.0019 - val_root_mean_squared_error: 0.0432 - val_mean_absolute_percentage_error: 53.2470\n",
      "Epoch 151/200\n",
      "25/25 [==============================] - 1s 59ms/step - loss: 1.8461e-04 - root_mean_squared_error: 0.0136 - mean_absolute_percentage_error: 3.2302 - val_loss: 0.0017 - val_root_mean_squared_error: 0.0408 - val_mean_absolute_percentage_error: 38.5383\n",
      "Epoch 152/200\n",
      "25/25 [==============================] - 1s 59ms/step - loss: 1.7377e-04 - root_mean_squared_error: 0.0132 - mean_absolute_percentage_error: 3.3357 - val_loss: 0.0018 - val_root_mean_squared_error: 0.0425 - val_mean_absolute_percentage_error: 63.3473\n",
      "Epoch 153/200\n",
      "25/25 [==============================] - 1s 57ms/step - loss: 1.5107e-04 - root_mean_squared_error: 0.0123 - mean_absolute_percentage_error: 2.9024 - val_loss: 0.0017 - val_root_mean_squared_error: 0.0409 - val_mean_absolute_percentage_error: 54.4232\n",
      "Epoch 154/200\n",
      "25/25 [==============================] - 1s 59ms/step - loss: 1.5279e-04 - root_mean_squared_error: 0.0124 - mean_absolute_percentage_error: 3.3143 - val_loss: 0.0016 - val_root_mean_squared_error: 0.0400 - val_mean_absolute_percentage_error: 56.6360\n",
      "Epoch 155/200\n",
      "25/25 [==============================] - 1s 55ms/step - loss: 1.3567e-04 - root_mean_squared_error: 0.0116 - mean_absolute_percentage_error: 2.6803 - val_loss: 0.0018 - val_root_mean_squared_error: 0.0426 - val_mean_absolute_percentage_error: 67.7333\n",
      "Epoch 156/200\n",
      "25/25 [==============================] - 2s 63ms/step - loss: 1.3164e-04 - root_mean_squared_error: 0.0115 - mean_absolute_percentage_error: 2.6432 - val_loss: 0.0017 - val_root_mean_squared_error: 0.0406 - val_mean_absolute_percentage_error: 44.5218\n",
      "Epoch 157/200\n",
      "25/25 [==============================] - 1s 53ms/step - loss: 1.4186e-04 - root_mean_squared_error: 0.0119 - mean_absolute_percentage_error: 3.1423 - val_loss: 0.0019 - val_root_mean_squared_error: 0.0431 - val_mean_absolute_percentage_error: 59.2651\n",
      "Epoch 158/200\n",
      "25/25 [==============================] - 1s 56ms/step - loss: 1.3755e-04 - root_mean_squared_error: 0.0117 - mean_absolute_percentage_error: 2.9297 - val_loss: 0.0017 - val_root_mean_squared_error: 0.0415 - val_mean_absolute_percentage_error: 51.4435\n",
      "Epoch 159/200\n",
      "25/25 [==============================] - 1s 58ms/step - loss: 1.3943e-04 - root_mean_squared_error: 0.0118 - mean_absolute_percentage_error: 2.7849 - val_loss: 0.0019 - val_root_mean_squared_error: 0.0436 - val_mean_absolute_percentage_error: 50.2102\n",
      "Epoch 160/200\n",
      "25/25 [==============================] - 2s 62ms/step - loss: 1.3994e-04 - root_mean_squared_error: 0.0118 - mean_absolute_percentage_error: 2.8028 - val_loss: 0.0017 - val_root_mean_squared_error: 0.0412 - val_mean_absolute_percentage_error: 39.6448\n",
      "Epoch 161/200\n",
      "25/25 [==============================] - 1s 53ms/step - loss: 1.2843e-04 - root_mean_squared_error: 0.0113 - mean_absolute_percentage_error: 2.9340 - val_loss: 0.0018 - val_root_mean_squared_error: 0.0423 - val_mean_absolute_percentage_error: 54.5262\n",
      "Epoch 162/200\n",
      "25/25 [==============================] - 1s 58ms/step - loss: 1.2101e-04 - root_mean_squared_error: 0.0110 - mean_absolute_percentage_error: 2.7028 - val_loss: 0.0019 - val_root_mean_squared_error: 0.0437 - val_mean_absolute_percentage_error: 48.8738\n",
      "Epoch 163/200\n",
      "25/25 [==============================] - 1s 57ms/step - loss: 1.2162e-04 - root_mean_squared_error: 0.0110 - mean_absolute_percentage_error: 2.9114 - val_loss: 0.0020 - val_root_mean_squared_error: 0.0452 - val_mean_absolute_percentage_error: 72.6189\n",
      "Epoch 164/200\n",
      "25/25 [==============================] - 1s 58ms/step - loss: 1.4276e-04 - root_mean_squared_error: 0.0119 - mean_absolute_percentage_error: 2.9489 - val_loss: 0.0020 - val_root_mean_squared_error: 0.0446 - val_mean_absolute_percentage_error: 69.8346\n",
      "Epoch 165/200\n",
      "25/25 [==============================] - 1s 59ms/step - loss: 1.3986e-04 - root_mean_squared_error: 0.0118 - mean_absolute_percentage_error: 3.0242 - val_loss: 0.0016 - val_root_mean_squared_error: 0.0403 - val_mean_absolute_percentage_error: 33.4939\n",
      "Epoch 166/200\n",
      "25/25 [==============================] - 1s 58ms/step - loss: 1.3616e-04 - root_mean_squared_error: 0.0117 - mean_absolute_percentage_error: 2.8241 - val_loss: 0.0018 - val_root_mean_squared_error: 0.0426 - val_mean_absolute_percentage_error: 51.7566\n",
      "Epoch 167/200\n",
      "25/25 [==============================] - 1s 53ms/step - loss: 1.1683e-04 - root_mean_squared_error: 0.0108 - mean_absolute_percentage_error: 2.8290 - val_loss: 0.0019 - val_root_mean_squared_error: 0.0432 - val_mean_absolute_percentage_error: 39.5759\n",
      "Epoch 168/200\n",
      "25/25 [==============================] - 2s 61ms/step - loss: 1.1709e-04 - root_mean_squared_error: 0.0108 - mean_absolute_percentage_error: 2.9709 - val_loss: 0.0019 - val_root_mean_squared_error: 0.0442 - val_mean_absolute_percentage_error: 52.2539\n",
      "Epoch 169/200\n",
      "25/25 [==============================] - 1s 56ms/step - loss: 1.1718e-04 - root_mean_squared_error: 0.0108 - mean_absolute_percentage_error: 2.4917 - val_loss: 0.0020 - val_root_mean_squared_error: 0.0450 - val_mean_absolute_percentage_error: 44.3375\n",
      "Epoch 170/200\n",
      "25/25 [==============================] - 1s 57ms/step - loss: 1.2134e-04 - root_mean_squared_error: 0.0110 - mean_absolute_percentage_error: 2.7877 - val_loss: 0.0022 - val_root_mean_squared_error: 0.0465 - val_mean_absolute_percentage_error: 34.9363\n",
      "Epoch 171/200\n",
      "25/25 [==============================] - 1s 58ms/step - loss: 1.3054e-04 - root_mean_squared_error: 0.0114 - mean_absolute_percentage_error: 2.5361 - val_loss: 0.0021 - val_root_mean_squared_error: 0.0458 - val_mean_absolute_percentage_error: 54.1590\n",
      "Epoch 172/200\n",
      "25/25 [==============================] - 1s 57ms/step - loss: 1.6067e-04 - root_mean_squared_error: 0.0127 - mean_absolute_percentage_error: 3.0685 - val_loss: 0.0022 - val_root_mean_squared_error: 0.0473 - val_mean_absolute_percentage_error: 50.0450\n",
      "Epoch 173/200\n",
      "25/25 [==============================] - 1s 59ms/step - loss: 1.0559e-04 - root_mean_squared_error: 0.0103 - mean_absolute_percentage_error: 2.4552 - val_loss: 0.0023 - val_root_mean_squared_error: 0.0478 - val_mean_absolute_percentage_error: 32.7481\n",
      "Epoch 174/200\n",
      "25/25 [==============================] - 1s 60ms/step - loss: 1.0352e-04 - root_mean_squared_error: 0.0102 - mean_absolute_percentage_error: 2.5796 - val_loss: 0.0023 - val_root_mean_squared_error: 0.0484 - val_mean_absolute_percentage_error: 41.5987\n",
      "Epoch 175/200\n",
      "25/25 [==============================] - 1s 54ms/step - loss: 1.1612e-04 - root_mean_squared_error: 0.0108 - mean_absolute_percentage_error: 2.4589 - val_loss: 0.0025 - val_root_mean_squared_error: 0.0495 - val_mean_absolute_percentage_error: 33.5060\n",
      "Epoch 176/200\n",
      "25/25 [==============================] - 2s 62ms/step - loss: 9.8593e-05 - root_mean_squared_error: 0.0099 - mean_absolute_percentage_error: 2.3932 - val_loss: 0.0023 - val_root_mean_squared_error: 0.0483 - val_mean_absolute_percentage_error: 39.0095\n",
      "Epoch 177/200\n",
      "25/25 [==============================] - 1s 60ms/step - loss: 1.2781e-04 - root_mean_squared_error: 0.0113 - mean_absolute_percentage_error: 2.6110 - val_loss: 0.0024 - val_root_mean_squared_error: 0.0491 - val_mean_absolute_percentage_error: 39.9823\n",
      "Epoch 178/200\n",
      "25/25 [==============================] - 1s 59ms/step - loss: 9.6661e-05 - root_mean_squared_error: 0.0098 - mean_absolute_percentage_error: 2.3306 - val_loss: 0.0024 - val_root_mean_squared_error: 0.0487 - val_mean_absolute_percentage_error: 33.4349\n",
      "Epoch 179/200\n",
      "25/25 [==============================] - 2s 64ms/step - loss: 9.5873e-05 - root_mean_squared_error: 0.0098 - mean_absolute_percentage_error: 2.3203 - val_loss: 0.0023 - val_root_mean_squared_error: 0.0477 - val_mean_absolute_percentage_error: 30.3927\n",
      "Epoch 180/200\n",
      "25/25 [==============================] - 2s 61ms/step - loss: 9.6661e-05 - root_mean_squared_error: 0.0098 - mean_absolute_percentage_error: 2.2200 - val_loss: 0.0025 - val_root_mean_squared_error: 0.0498 - val_mean_absolute_percentage_error: 40.0235\n",
      "Epoch 181/200\n",
      "25/25 [==============================] - 1s 53ms/step - loss: 1.0004e-04 - root_mean_squared_error: 0.0100 - mean_absolute_percentage_error: 2.3822 - val_loss: 0.0024 - val_root_mean_squared_error: 0.0494 - val_mean_absolute_percentage_error: 30.2974\n",
      "Epoch 182/200\n",
      "25/25 [==============================] - 1s 55ms/step - loss: 1.1349e-04 - root_mean_squared_error: 0.0106 - mean_absolute_percentage_error: 2.4365 - val_loss: 0.0026 - val_root_mean_squared_error: 0.0508 - val_mean_absolute_percentage_error: 33.6065\n",
      "Epoch 183/200\n",
      "25/25 [==============================] - 1s 57ms/step - loss: 8.8486e-05 - root_mean_squared_error: 0.0094 - mean_absolute_percentage_error: 2.5168 - val_loss: 0.0026 - val_root_mean_squared_error: 0.0509 - val_mean_absolute_percentage_error: 36.7023\n",
      "Epoch 184/200\n",
      "25/25 [==============================] - 1s 50ms/step - loss: 9.4772e-05 - root_mean_squared_error: 0.0097 - mean_absolute_percentage_error: 2.5105 - val_loss: 0.0026 - val_root_mean_squared_error: 0.0505 - val_mean_absolute_percentage_error: 36.3378\n",
      "Epoch 185/200\n",
      "25/25 [==============================] - 1s 53ms/step - loss: 8.2287e-05 - root_mean_squared_error: 0.0091 - mean_absolute_percentage_error: 2.4509 - val_loss: 0.0027 - val_root_mean_squared_error: 0.0518 - val_mean_absolute_percentage_error: 39.8720\n",
      "Epoch 186/200\n",
      "25/25 [==============================] - 1s 54ms/step - loss: 7.9375e-05 - root_mean_squared_error: 0.0089 - mean_absolute_percentage_error: 2.1807 - val_loss: 0.0029 - val_root_mean_squared_error: 0.0534 - val_mean_absolute_percentage_error: 42.4774\n",
      "Epoch 187/200\n",
      "25/25 [==============================] - 1s 57ms/step - loss: 7.9854e-05 - root_mean_squared_error: 0.0089 - mean_absolute_percentage_error: 2.1691 - val_loss: 0.0029 - val_root_mean_squared_error: 0.0540 - val_mean_absolute_percentage_error: 45.8488\n",
      "Epoch 188/200\n",
      "25/25 [==============================] - 1s 56ms/step - loss: 1.1685e-04 - root_mean_squared_error: 0.0108 - mean_absolute_percentage_error: 2.4517 - val_loss: 0.0033 - val_root_mean_squared_error: 0.0571 - val_mean_absolute_percentage_error: 25.3607\n",
      "Epoch 189/200\n",
      "25/25 [==============================] - 2s 61ms/step - loss: 8.3700e-05 - root_mean_squared_error: 0.0091 - mean_absolute_percentage_error: 2.3550 - val_loss: 0.0032 - val_root_mean_squared_error: 0.0565 - val_mean_absolute_percentage_error: 33.7278\n",
      "Epoch 190/200\n",
      "25/25 [==============================] - 1s 54ms/step - loss: 7.4819e-05 - root_mean_squared_error: 0.0086 - mean_absolute_percentage_error: 1.9642 - val_loss: 0.0030 - val_root_mean_squared_error: 0.0550 - val_mean_absolute_percentage_error: 35.9883\n",
      "Epoch 191/200\n",
      "25/25 [==============================] - 1s 55ms/step - loss: 8.0678e-05 - root_mean_squared_error: 0.0090 - mean_absolute_percentage_error: 2.1368 - val_loss: 0.0033 - val_root_mean_squared_error: 0.0573 - val_mean_absolute_percentage_error: 32.5024\n",
      "Epoch 192/200\n",
      "25/25 [==============================] - 1s 57ms/step - loss: 7.6259e-05 - root_mean_squared_error: 0.0087 - mean_absolute_percentage_error: 2.1127 - val_loss: 0.0036 - val_root_mean_squared_error: 0.0603 - val_mean_absolute_percentage_error: 21.4372\n",
      "Epoch 193/200\n",
      "25/25 [==============================] - 1s 59ms/step - loss: 8.1506e-05 - root_mean_squared_error: 0.0090 - mean_absolute_percentage_error: 2.1917 - val_loss: 0.0035 - val_root_mean_squared_error: 0.0592 - val_mean_absolute_percentage_error: 30.5243\n",
      "Epoch 194/200\n",
      "25/25 [==============================] - 2s 61ms/step - loss: 6.7179e-05 - root_mean_squared_error: 0.0082 - mean_absolute_percentage_error: 2.0820 - val_loss: 0.0037 - val_root_mean_squared_error: 0.0606 - val_mean_absolute_percentage_error: 23.5287\n",
      "Epoch 195/200\n",
      "25/25 [==============================] - 1s 54ms/step - loss: 7.0698e-05 - root_mean_squared_error: 0.0084 - mean_absolute_percentage_error: 2.1039 - val_loss: 0.0040 - val_root_mean_squared_error: 0.0634 - val_mean_absolute_percentage_error: 30.6653\n",
      "Epoch 196/200\n",
      "25/25 [==============================] - 1s 60ms/step - loss: 7.1310e-05 - root_mean_squared_error: 0.0084 - mean_absolute_percentage_error: 1.9525 - val_loss: 0.0038 - val_root_mean_squared_error: 0.0617 - val_mean_absolute_percentage_error: 30.6532\n",
      "Epoch 197/200\n",
      "25/25 [==============================] - 1s 58ms/step - loss: 7.9700e-05 - root_mean_squared_error: 0.0089 - mean_absolute_percentage_error: 2.0004 - val_loss: 0.0039 - val_root_mean_squared_error: 0.0625 - val_mean_absolute_percentage_error: 35.1317\n",
      "Epoch 198/200\n",
      "25/25 [==============================] - 1s 60ms/step - loss: 8.6754e-05 - root_mean_squared_error: 0.0093 - mean_absolute_percentage_error: 2.1393 - val_loss: 0.0041 - val_root_mean_squared_error: 0.0644 - val_mean_absolute_percentage_error: 42.4609\n",
      "Epoch 199/200\n",
      "25/25 [==============================] - 1s 53ms/step - loss: 1.6807e-04 - root_mean_squared_error: 0.0129 - mean_absolute_percentage_error: 2.9433 - val_loss: 0.0046 - val_root_mean_squared_error: 0.0675 - val_mean_absolute_percentage_error: 20.1424\n",
      "Epoch 200/200\n",
      "25/25 [==============================] - 1s 55ms/step - loss: 7.7729e-05 - root_mean_squared_error: 0.0088 - mean_absolute_percentage_error: 2.1616 - val_loss: 0.0045 - val_root_mean_squared_error: 0.0667 - val_mean_absolute_percentage_error: 22.1367\n"
     ]
    }
   ],
   "source": [
    "#history = model.fit(X_train_asset, y_train_asset, batch_size=32, epochs=10, validation_data=(X_test_asset, y_test_asset))\n",
    "history = model.fit(train_dataset, batch_size=32, epochs=200, validation_data=test_dataset)"
   ]
  },
  {
   "cell_type": "code",
   "execution_count": 81,
   "id": "c9aee91f-a6bd-4328-ade2-bd8e3e32c6fa",
   "metadata": {},
   "outputs": [
    {
     "data": {
      "text/plain": [
       "[<matplotlib.lines.Line2D at 0x7f3a19c42d90>]"
      ]
     },
     "execution_count": 81,
     "metadata": {},
     "output_type": "execute_result"
    },
    {
     "data": {
      "image/png": "[encoded data removed]",
      "text/plain": [
       "<Figure size 1440x360 with 3 Axes>"
      ]
     },
     "metadata": {
      "needs_background": "light"
     },
     "output_type": "display_data"
    }
   ],
   "source": [
    "fig = plt.figure(figsize = (20,5))\n",
    "ax1 = fig.add_subplot(1,3,1)\n",
    "ax2 = fig.add_subplot(1,3,2)\n",
    "ax3 = fig.add_subplot(1,3,3)\n",
    "\n",
    "ax1.plot(history.history['loss'],\"C0-\")\n",
    "ax1.plot(history.history['val_loss'],\"C0--\")\n",
    "\n",
    "ax2.plot(history.history['root_mean_squared_error'],\"C1-\")\n",
    "ax2.plot(history.history['val_root_mean_squared_error'],\"C1--\")\n",
    "\n",
    "ax3.plot(history.history['mean_absolute_percentage_error'],\"C2-\")\n",
    "ax3.plot(history.history['val_mean_absolute_percentage_error'],\"C2--\")\n"
   ]
  },
  {
   "cell_type": "code",
   "execution_count": 87,
   "id": "caccdd48-b2ed-41c3-8843-3dd45659abeb",
   "metadata": {},
   "outputs": [
    {
     "data": {
      "text/plain": [
       "[<matplotlib.lines.Line2D at 0x7f3a33b86eb0>]"
      ]
     },
     "execution_count": 87,
     "metadata": {},
     "output_type": "execute_result"
    },
    {
     "data": {
      "image/png": "[encoded data removed]",
      "text/plain": [
       "<Figure size 1440x360 with 3 Axes>"
      ]
     },
     "metadata": {
      "needs_background": "light"
     },
     "output_type": "display_data"
    }
   ],
   "source": [
    "fig = plt.figure(figsize = (20,5))\n",
    "ax1 = fig.add_subplot(1,3,1)\n",
    "ax2 = fig.add_subplot(1,3,2)\n",
    "ax3 = fig.add_subplot(1,3,3)\n",
    "\n",
    "sp, ep = 120, 200\n",
    "\n",
    "ax1.plot(range(sp,ep),history.history['loss'][sp:ep],\"C0-\")\n",
    "ax1.plot(range(sp,ep),history.history['val_loss'][sp:ep],\"C0--\")\n",
    "\n",
    "ax2.plot(range(sp,ep),history.history['root_mean_squared_error'][sp:ep],\"C1-\")\n",
    "ax2.plot(range(sp,ep),history.history['val_root_mean_squared_error'][sp:ep],\"C1--\")\n",
    "\n",
    "ax3.plot(range(sp,ep),history.history['mean_absolute_percentage_error'][sp:ep],\"C2-\")\n",
    "ax3.plot(range(sp,ep),history.history['val_mean_absolute_percentage_error'][sp:ep],\"C2--\")"
   ]
  },
  {
   "cell_type": "markdown",
   "id": "eb9673c8-b85f-4969-97c0-f621bcf32c9d",
   "metadata": {},
   "source": [
    "# 어째서 잘 되는지 모르겠으면 개추  \n",
    "ㅇㄷㄴㅂㅌ"
   ]
  },
  {
   "cell_type": "code",
   "execution_count": 138,
   "id": "bcd3b92d-b373-4ff3-a20f-2bc4b03b0dea",
   "metadata": {},
   "outputs": [
    {
     "data": {
      "text/plain": [
       "array([0.66538872, 0.6420899 , 0.64103677, 0.66578371, 0.67684083,\n",
       "       0.67881541, 0.66420413, 0.63392843, 0.65617452, 0.66051829,\n",
       "       0.65907037, 0.69908692, 0.74884414, 0.75108186, 0.78451673,\n",
       "       0.79254634, 0.80373512, 0.80320845, 0.78227902, 0.80676262,\n",
       "       0.82058412, 0.82900872, 0.8317729 , 0.85243941, 0.83085164])"
      ]
     },
     "execution_count": 138,
     "metadata": {},
     "output_type": "execute_result"
    }
   ],
   "source": [
    "X_2.squeeze()[-1]"
   ]
  },
  {
   "cell_type": "code",
   "execution_count": 135,
   "id": "930ffaf8-7fd8-4732-be4f-25cfb98b68a8",
   "metadata": {},
   "outputs": [
    {
     "data": {
      "text/plain": [
       "array([0.83085164, 0.83835458, 0.8279556 , 0.8482269 , 0.92036208,\n",
       "       0.97788557, 1.        , 0.93247232, 0.89930078, 0.80703811,\n",
       "       0.85164273, 0.81248098, 0.77252276, 0.77716895, 0.80132988,\n",
       "       0.75446851, 0.77185896, 0.7702658 , 0.7893821 , 0.77199164,\n",
       "       0.64680679])"
      ]
     },
     "execution_count": 135,
     "metadata": {},
     "output_type": "execute_result"
    }
   ],
   "source": [
    "Y_2[-1,:,:].squeeze()"
   ]
  },
  {
   "cell_type": "code",
   "execution_count": 133,
   "id": "50cfa139-edcd-4782-8bc8-9602c08e416d",
   "metadata": {},
   "outputs": [
    {
     "data": {
      "text/plain": [
       "2328    160.743835\n",
       "2329    161.309021\n",
       "2330    160.525681\n",
       "2331    162.052689\n",
       "2332    167.486526\n",
       "2333    171.819687\n",
       "2334    173.485535\n",
       "2335    168.398773\n",
       "2336    165.900009\n",
       "2337    158.949997\n",
       "2338    162.309998\n",
       "2339    159.360001\n",
       "2340    156.350006\n",
       "2341    156.699997\n",
       "2342    158.520004\n",
       "2343    154.990005\n",
       "2344    156.300003\n",
       "2345    156.179993\n",
       "2346    157.619995\n",
       "2347    156.309998\n",
       "2348    146.880005\n",
       "Name: Adj Close, dtype: float64"
      ]
     },
     "execution_count": 133,
     "metadata": {},
     "output_type": "execute_result"
    }
   ],
   "source": [
    "ABBV[\"Adj Close\"][-21:]"
   ]
  },
  {
   "cell_type": "code",
   "execution_count": 134,
   "id": "6745422f-18e6-4211-b8a8-d3e7cae3412d",
   "metadata": {},
   "outputs": [
    {
     "data": {
      "text/plain": [
       "array([160.74383545, 161.309021  , 160.52568054, 162.0526886 ,\n",
       "       167.48652649, 171.81968689, 173.48553467, 168.39877319,\n",
       "       165.90000916, 158.94999695, 162.30999756, 159.36000061,\n",
       "       156.3500061 , 156.69999695, 158.52000427, 154.99000549,\n",
       "       156.30000305, 156.17999268, 157.61999512, 156.30999756,\n",
       "       146.88000488])"
      ]
     },
     "execution_count": 134,
     "metadata": {},
     "output_type": "execute_result"
    }
   ],
   "source": [
    "tmp = Y_2[-1,:,:].squeeze().copy()\n",
    "\n",
    "tmp -= abbv_1.scaler.min_[4]\n",
    "tmp /= abbv_1.scaler.scale_[4]\n",
    "tmp"
   ]
  },
  {
   "cell_type": "code",
   "execution_count": 168,
   "id": "c85eaad9-88b2-41d3-a53b-396f793bceca",
   "metadata": {},
   "outputs": [
    {
     "name": "stdout",
     "output_type": "stream",
     "text": [
      "[2 3 4 5 6] [6 7 8]\n"
     ]
    }
   ],
   "source": [
    "tmp1 = np.array([[1,2,3,4,5]])\n",
    "tmp2 = np.array([[5,6,7]])\n",
    "fore1 = 8\n",
    "\n",
    "tmp1 = np.append(tmp1[0,1:],tmp2[0,1])\n",
    "tmp2 = np.append(tmp2[0,1:],fore1)\n",
    "\n",
    "print(tmp1,tmp2)"
   ]
  },
  {
   "cell_type": "code",
   "execution_count": 194,
   "id": "8b8d21e3-9f75-4054-a951-770d5800ab9c",
   "metadata": {},
   "outputs": [
    {
     "name": "stdout",
     "output_type": "stream",
     "text": [
      "[0.51243123 0.49887307 0.50032099 0.52164543 0.54942008 0.54836695\n",
      " 0.5731141  0.58601393 0.5819335  0.57548348 0.56626908 0.57930078\n",
      " 0.60246814 0.61707942 0.60523252 0.59285894 0.61299879 0.62879467\n",
      " 0.60918149 0.66538872 0.6420899  0.64103677 0.66578371 0.67684083\n",
      " 0.67881541] (25,)\n",
      "[0.67881541 0.66420413 0.63392843 0.65617452 0.66051829 0.65907037\n",
      " 0.69908692 0.74884414 0.75108186 0.78451673 0.79254634 0.80373512\n",
      " 0.80320845 0.78227902 0.80676262 0.82058412 0.82900872 0.8317729\n",
      " 0.85243941 0.83085164] (20,)\n",
      "[0.83085164 0.83835458 0.8279556  0.8482269  0.92036208 0.97788557\n",
      " 1.         0.93247232 0.89930078 0.80703811 0.85164273 0.81248098\n",
      " 0.77252276 0.77716895 0.80132988 0.75446851 0.77185896 0.7702658\n",
      " 0.7893821  0.77199164 0.64680679]\n"
     ]
    }
   ],
   "source": [
    "total_range = abbv_1.dataframe[\"Adj Close\"].to_numpy()[-(25+20+20-1):].copy()\n",
    "enc_input = total_range[:25]\n",
    "dec_input = total_range[25-1:25-1+20]\n",
    "print(enc_input,enc_input.shape)\n",
    "print(dec_input,dec_input.shape)\n",
    "print(abbv_1.dataframe[\"Adj Close\"].to_numpy()[-21:].copy())"
   ]
  },
  {
   "cell_type": "markdown",
   "id": "50905560-85bf-4fe8-a706-2ec75e6ed303",
   "metadata": {},
   "source": [
    "## 실제 상황 가정하고 20시점 예측"
   ]
  },
  {
   "cell_type": "code",
   "execution_count": 195,
   "id": "cacba0af-90d7-4e56-9789-e15ff9fd619c",
   "metadata": {},
   "outputs": [],
   "source": [
    "def evaluate(asset_1:one_asset, H=20, window_size=25):\n",
    "    '''\n",
    "    실제 상황 가정하고 예측!\n",
    "    \n",
    "    파라미터:\n",
    "        asset_1 : one_asset 클래스로 만들어진 데이터\n",
    "        H : 예측할 시점 길이(decoder_input의 길이와 같음)\n",
    "        window_size : encoder_input 길이\n",
    "    '''\n",
    "    #(enc_input길이 + dec_input길이 + 예측 길이-1)\n",
    "    total_range = asset_1.dataframe[\"Adj Close\"].to_numpy()[-(window_size+H+H-1):].copy()\n",
    "    y_true = asset_1.origin_data[\"Adj Close\"].to_numpy()[-H:].copy()\n",
    "    \n",
    "    #첫 입력 모양\n",
    "    enc_input = total_range[:window_size]\n",
    "    dec_input = total_range[window_size-1:window_size-1+H]\n",
    "    \n",
    "    #결과 기록\n",
    "    result = np.array([])\n",
    "\n",
    "    # 디코더의 예측 시작\n",
    "    for i in range(H):\n",
    "        forecasts = model(inputs=[enc_input.reshape((1,-1)), dec_input.reshape((1,-1))], training=False)\n",
    "\n",
    "        # 마지막 예측 값을 가져온다\n",
    "        last_forecast = forecasts.numpy().squeeze()[-1].copy()\n",
    "        #저장\n",
    "        result = np.append(result,last_forecast)\n",
    "        \n",
    "        #다음 데이터 셋 만들기\n",
    "        enc_input = np.append(enc_input[1:],dec_input[1])\n",
    "        dec_input = np.append(dec_input[1:],last_forecast)\n",
    "        \n",
    "    # 단어 예측이 모두 끝났다면 output을 리턴.\n",
    "    return result, y_true"
   ]
  },
  {
   "cell_type": "code",
   "execution_count": 203,
   "id": "d837c167-9c70-4a34-b322-e66bdc5b9edc",
   "metadata": {},
   "outputs": [
    {
     "name": "stdout",
     "output_type": "stream",
     "text": [
      "-1.3030518130917623 0.013275180651225689\n"
     ]
    }
   ],
   "source": [
    "print(abbv_1.scaler.min_[4],abbv_1.scaler.scale_[4])"
   ]
  },
  {
   "cell_type": "code",
   "execution_count": 198,
   "id": "50393250-23f8-403d-b5ce-c58c257c5434",
   "metadata": {},
   "outputs": [
    {
     "data": {
      "text/plain": [
       "array([137.67984378, 123.64176927, 114.98479061, 109.76197157,\n",
       "       106.81905418, 105.15152636, 104.14542937, 103.56227377,\n",
       "       103.17082587, 102.83873598, 102.62107086, 102.34672935,\n",
       "       102.02830681, 101.72092501, 101.38338772, 100.94448013,\n",
       "       100.35229078,  99.68338985,  98.85732217,  97.97057428])"
      ]
     },
     "execution_count": 198,
     "metadata": {},
     "output_type": "execute_result"
    }
   ],
   "source": [
    "forecast, y_true = evaluate(abbv_1,20,25)\n",
    "forecast1 = forecast.copy()\n",
    "\n",
    "forecast1 -= abbv_1.scaler.min_[4]\n",
    "forecast1 /= abbv_1.scaler.scale_[4]\n",
    "forecast1"
   ]
  },
  {
   "cell_type": "code",
   "execution_count": 199,
   "id": "02a34bd7-a13c-47e2-829b-244f4ceb1da3",
   "metadata": {},
   "outputs": [
    {
     "data": {
      "text/plain": [
       "array([161.309021  , 160.52568054, 162.0526886 , 167.48652649,\n",
       "       171.81968689, 173.48553467, 168.39877319, 165.90000916,\n",
       "       158.94999695, 162.30999756, 159.36000061, 156.3500061 ,\n",
       "       156.69999695, 158.52000427, 154.99000549, 156.30000305,\n",
       "       156.17999268, 157.61999512, 156.30999756, 146.88000488])"
      ]
     },
     "execution_count": 199,
     "metadata": {},
     "output_type": "execute_result"
    }
   ],
   "source": [
    "y_true"
   ]
  },
  {
   "cell_type": "code",
   "execution_count": 202,
   "id": "8e03e0e5-7731-4ba3-9f06-d10378162294",
   "metadata": {},
   "outputs": [
    {
     "data": {
      "text/plain": [
       "[<matplotlib.lines.Line2D at 0x7f374b613f40>]"
      ]
     },
     "execution_count": 202,
     "metadata": {},
     "output_type": "execute_result"
    },
    {
     "data": {
      "image/png": "[encoded data removed]",
      "text/plain": [
       "<Figure size 432x288 with 1 Axes>"
      ]
     },
     "metadata": {
      "needs_background": "light"
     },
     "output_type": "display_data"
    }
   ],
   "source": [
    "fig = plt.figure()\n",
    "ax1 = fig.add_subplot()\n",
    "\n",
    "\n",
    "patial_range = abbv_1.origin_data[\"Adj Close\"].to_numpy()[-60:].copy()\n",
    "\n",
    "\n",
    "ax1.plot(range(1,61),patial_range,\"C0--\")\n",
    "ax1.plot(range(41,61),forecast1,\"C0--\")\n",
    "ax1.plot(range(41,61),y_true,\"C0-\")\n"
   ]
  }
 ],
 "metadata": {
  "kernelspec": {
   "display_name": "M6_LJY",
   "language": "python",
   "name": "m6_ljy"
  },
  "language_info": {
   "codemirror_mode": {
    "name": "ipython",
    "version": 3
   },
   "file_extension": ".py",
   "mimetype": "text/x-python",
   "name": "python",
   "nbconvert_exporter": "python",
   "pygments_lexer": "ipython3",
   "version": "3.8.13"
  }
 },
 "nbformat": 4,
 "nbformat_minor": 5
}
