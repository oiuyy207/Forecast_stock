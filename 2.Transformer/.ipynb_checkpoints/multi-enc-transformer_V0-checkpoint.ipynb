{
 "cells": [
  {
   "cell_type": "markdown",
   "id": "cd705b4c-7eee-4281-bd96-80479ceef1b3",
   "metadata": {},
   "source": [
    "기본값 : 0  \n",
    "INFO 로그 필터링 : 1  \n",
    "WARNING 로그 필터링 : 2  \n",
    "ERROR 로그 필터링 : 3  "
   ]
  },
  {
   "cell_type": "code",
   "execution_count": 1,
   "id": "cb7a1e93-46ba-47a8-ade9-ab1765392b22",
   "metadata": {},
   "outputs": [],
   "source": [
    "import os\n",
    "\n",
    "os.environ['TF_CPP_MIN_LOG_LEVEL'] = '2'"
   ]
  },
  {
   "cell_type": "code",
   "execution_count": 2,
   "id": "714bc948-2cc9-4ee7-ac04-68045adfbcc7",
   "metadata": {},
   "outputs": [
    {
     "name": "stdout",
     "output_type": "stream",
     "text": [
      "WARNING:tensorflow:From /tmp/ipykernel_83384/2539169885.py:5: experimental_run_functions_eagerly (from tensorflow.python.eager.def_function) is deprecated and will be removed in a future version.\n",
      "Instructions for updating:\n",
      "Use `tf.config.run_functions_eagerly` instead of the experimental version.\n"
     ]
    }
   ],
   "source": [
    "import numpy as np\n",
    "import pandas as pd\n",
    "import matplotlib.pyplot as plt\n",
    "import tensorflow as tf\n",
    "tf.config.experimental_run_functions_eagerly(True)"
   ]
  },
  {
   "cell_type": "code",
   "execution_count": 3,
   "id": "98476b13-a788-49b4-8124-84128d2f34ba",
   "metadata": {},
   "outputs": [],
   "source": [
    "from sklearn.preprocessing import MinMaxScaler\n",
    "import yfinance as yf\n",
    "from datetime import datetime\n",
    "import time\n",
    "from tqdm import tqdm"
   ]
  },
  {
   "cell_type": "markdown",
   "id": "713eb48a-b572-43fd-a79a-e7df0592ed07",
   "metadata": {},
   "source": [
    "https://wikidocs.net/31379"
   ]
  },
  {
   "cell_type": "markdown",
   "id": "66a7ef97-1a13-4da0-89a3-e197c02c2ba6",
   "metadata": {},
   "source": [
    "# 트랜스포머 구현"
   ]
  },
  {
   "cell_type": "markdown",
   "id": "383ddbd7-440d-41d9-9398-0dc13b25d1ba",
   "metadata": {},
   "source": [
    "## 에셋 임베딩 레이어"
   ]
  },
  {
   "cell_type": "code",
   "execution_count": 4,
   "id": "638871f0-8ef9-4adc-99cd-b64c2888b12c",
   "metadata": {},
   "outputs": [],
   "source": [
    "class AssetAndPositionEmbedding(tf.keras.layers.Layer):\n",
    "    def __init__(self, window_size, d_model, is_decoder=False, **kwargs):\n",
    "        super(AssetAndPositionEmbedding, self).__init__(**kwargs)\n",
    "        self.esset_emb = tf.keras.layers.Dense(d_model) #입력 데이터 shape : (batch_size, window_size)\n",
    "        self.pos_emb = tf.keras.layers.Embedding(window_size, d_model)\n",
    "        self.is_decoder = is_decoder\n",
    "        self.__windowsize = window_size\n",
    "        \n",
    "    def get_config(self):\n",
    "        config = super().get_config().copy()\n",
    "        config.update({\n",
    "            'is_decoder':self.is_decoder,\n",
    "            '__windowsize':self.__windowsize\n",
    "        })\n",
    "        return config\n",
    "\n",
    "    def call(self, x):\n",
    "        L = tf.shape(x)[1] if self.is_decoder else self.__windowsize\n",
    "        \n",
    "        positions = tf.range(start=0, limit= L, delta=1)\n",
    "        positions = self.pos_emb(positions)\n",
    "        x = tf.reshape(x,(-1,L,1))\n",
    "        x = self.esset_emb(x)\n",
    "        return x + positions"
   ]
  },
  {
   "cell_type": "markdown",
   "id": "30f309d0-8e0e-46c8-bf3c-4954cde5afcd",
   "metadata": {},
   "source": [
    "## 스케일드 닷-프로덕트 어텐션(Scaled dot-product Attention)"
   ]
  },
  {
   "cell_type": "code",
   "execution_count": 5,
   "id": "cf5dcc9a-5dee-4938-b36c-e9dcc7f3fac8",
   "metadata": {},
   "outputs": [],
   "source": [
    "def scaled_dot_product_attention(query, key, value, mask):\n",
    "    # query 크기 : (batch_size, num_heads, query의 문장 길이, d_model/num_heads)\n",
    "    # key 크기 : (batch_size, num_heads, key의 문장 길이, d_model/num_heads)\n",
    "    # value 크기 : (batch_size, num_heads, value의 문장 길이, d_model/num_heads)\n",
    "    # padding_mask : (batch_size, 1, 1, key의 문장 길이)\n",
    "\n",
    "    # Q와 K의 곱. 어텐션 스코어 행렬.\n",
    "    matmul_qk = tf.matmul(query, key, transpose_b=True)\n",
    "\n",
    "    # 스케일링\n",
    "    # dk의 루트값으로 나눠준다.\n",
    "    depth = tf.cast(tf.shape(key)[-1], tf.float32)\n",
    "    logits = matmul_qk / tf.math.sqrt(depth)\n",
    "    # 마스킹. 어텐션 스코어 행렬의 마스킹 할 위치에 매우 작은 음수값을 넣는다.\n",
    "    # 매우 작은 값이므로 소프트맥스 함수를 지나면 행렬의 해당 위치의 값은 0이 된다.\n",
    "    if mask is not None:\n",
    "        logits += (mask * -1e9)\n",
    "\n",
    "    # 소프트맥스 함수는 마지막 차원인 key의 문장 길이 방향으로 수행된다.\n",
    "    # attention weight : (batch_size, num_heads, query의 문장 길이, key의 문장 길이)\n",
    "    attention_weights = tf.nn.softmax(logits, axis=-1)\n",
    "\n",
    "    # output : (batch_size, num_heads, query의 문장 길이, d_model/num_heads)\n",
    "    output = tf.matmul(attention_weights, value)\n",
    "\n",
    "    return output, attention_weights"
   ]
  },
  {
   "cell_type": "markdown",
   "id": "2ad93e8c-4740-4c0d-bd62-65ac202c535c",
   "metadata": {},
   "source": [
    "## 멀티 헤드 어텐션(Multi-head Attention)"
   ]
  },
  {
   "cell_type": "code",
   "execution_count": 6,
   "id": "77d086f9-f859-469e-b60b-80b7eb333ee2",
   "metadata": {},
   "outputs": [],
   "source": [
    "class MultiHeadAttention(tf.keras.layers.Layer):\n",
    "    def __init__(self, d_model, num_heads, name=\"multi_head_attention\"):\n",
    "        super(MultiHeadAttention, self).__init__(name=name)\n",
    "        self.num_heads = num_heads\n",
    "        self.d_model = d_model\n",
    "\n",
    "        assert d_model % self.num_heads == 0\n",
    "\n",
    "        # d_model을 num_heads로 나눈 값.\n",
    "        # 논문 기준 : 64\n",
    "        self.depth = d_model // self.num_heads\n",
    "\n",
    "        # WQ, WK, WV에 해당하는 밀집층 정의\n",
    "        self.query_dense = tf.keras.layers.Dense(units=d_model)\n",
    "        self.key_dense = tf.keras.layers.Dense(units=d_model)\n",
    "        self.value_dense = tf.keras.layers.Dense(units=d_model)\n",
    "\n",
    "        # WO에 해당하는 밀집층 정의\n",
    "        self.dense = tf.keras.layers.Dense(units=d_model)\n",
    "    \n",
    "    def get_config(self):\n",
    "        config = super().get_config().copy()\n",
    "        config.update({\n",
    "            'num_heads':self.num_heads,\n",
    "            'd_model':self.d_model,\n",
    "            'depth':self.depth\n",
    "        })\n",
    "        return config\n",
    "\n",
    "    # num_heads 개수만큼 q, k, v를 split하는 함수\n",
    "    def split_heads(self, inputs, batch_size):\n",
    "        inputs = tf.reshape(inputs, shape=(batch_size, -1, self.num_heads, self.depth))\n",
    "        return tf.transpose(inputs, perm=[0, 2, 1, 3])\n",
    "\n",
    "    def call(self, inputs):\n",
    "        query, key, value, mask = inputs['query'], inputs['key'], inputs['value'], inputs['mask']\n",
    "        batch_size = tf.shape(query)[0]\n",
    "\n",
    "        # 1. WQ, WK, WV에 해당하는 밀집층 지나기\n",
    "        # q : (batch_size, query의 문장 길이, d_model)\n",
    "        # k : (batch_size, key의 문장 길이, d_model)\n",
    "        # v : (batch_size, value의 문장 길이, d_model)\n",
    "        # 참고) 인코더(k, v)-디코더(q) 어텐션에서는 query 길이와 key, value의 길이는 다를 수 있다.\n",
    "        query = self.query_dense(query)\n",
    "        key = self.key_dense(key)\n",
    "        value = self.value_dense(value)\n",
    "\n",
    "        # 2. 헤드 나누기\n",
    "        # q : (batch_size, num_heads, query의 문장 길이, d_model/num_heads)\n",
    "        # k : (batch_size, num_heads, key의 문장 길이, d_model/num_heads)\n",
    "        # v : (batch_size, num_heads, value의 문장 길이, d_model/num_heads)\n",
    "        query = self.split_heads(query, batch_size)\n",
    "        key = self.split_heads(key, batch_size)\n",
    "        value = self.split_heads(value, batch_size)\n",
    "\n",
    "        # 3. 스케일드 닷 프로덕트 어텐션. 앞서 구현한 함수 사용.\n",
    "        # (batch_size, num_heads, query의 문장 길이, d_model/num_heads)\n",
    "        scaled_attention, _ = scaled_dot_product_attention(query, key, value, mask)\n",
    "        # (batch_size, query의 문장 길이, num_heads, d_model/num_heads)\n",
    "        scaled_attention = tf.transpose(scaled_attention, perm=[0, 2, 1, 3])\n",
    "\n",
    "        # 4. 헤드 연결(concatenate)하기\n",
    "        # (batch_size, query의 문장 길이, d_model)\n",
    "        concat_attention = tf.reshape(scaled_attention,(batch_size, -1, self.d_model))\n",
    "\n",
    "        # 5. WO에 해당하는 밀집층 지나기\n",
    "        # (batch_size, query의 문장 길이, d_model)\n",
    "        outputs = self.dense(concat_attention)\n",
    "\n",
    "        return outputs"
   ]
  },
  {
   "cell_type": "markdown",
   "id": "e19145e5-d9da-4418-b3c2-fe13b9973c2a",
   "metadata": {},
   "source": [
    "## 인코더 레이어"
   ]
  },
  {
   "cell_type": "code",
   "execution_count": 7,
   "id": "6a04f127-cd00-4c10-9108-91eaa9ad40c1",
   "metadata": {},
   "outputs": [],
   "source": [
    "def encoder_layer(dff, d_model, num_heads, dropout, name=\"encoder_layer\"):\n",
    "    inputs = tf.keras.Input(shape=(None, d_model), name=\"inputs\")\n",
    "\n",
    "    # 이번 일에서는 패딩이 존재X -> 패딩마스크X\n",
    "\n",
    "    # 멀티-헤드 어텐션 (첫번째 서브층 / 셀프 어텐션)\n",
    "    attention = MultiHeadAttention(d_model, num_heads, name=\"attention\")({\n",
    "        'query': inputs, 'key': inputs, 'value': inputs, # Q = K = V\n",
    "        'mask': None\n",
    "    })\n",
    "\n",
    "    # 드롭아웃 + 잔차 연결과 층 정규화\n",
    "    attention = tf.keras.layers.Dropout(rate=dropout)(attention)\n",
    "    attention = tf.keras.layers.LayerNormalization(epsilon=1e-6)(inputs + attention)\n",
    "\n",
    "    # 포지션 와이즈 피드 포워드 신경망 (두번째 서브층)\n",
    "    outputs = tf.keras.layers.Dense(units=dff, activation='relu')(attention)\n",
    "    outputs = tf.keras.layers.Dense(units=d_model)(outputs)\n",
    "\n",
    "    # 드롭아웃 + 잔차 연결과 층 정규화\n",
    "    outputs = tf.keras.layers.Dropout(rate=dropout)(outputs)\n",
    "    outputs = tf.keras.layers.LayerNormalization(epsilon=1e-6)(attention + outputs)\n",
    "\n",
    "    return tf.keras.Model(inputs=[inputs], outputs=outputs, name=name)"
   ]
  },
  {
   "cell_type": "code",
   "execution_count": 8,
   "id": "f5f59476-541a-4464-88cd-93dfa508543a",
   "metadata": {},
   "outputs": [],
   "source": [
    "def encoder(window_size, num_layers, dff,\n",
    "            d_model, num_heads, dropout,\n",
    "            name=\"encoder\"):\n",
    "    inputs = tf.keras.Input(shape=(None,), name=\"inputs\")\n",
    "\n",
    "    # 이번 일에서는 패딩이 존재X -> 패딩마스크X\n",
    "\n",
    "    # 포지셔널 인코딩 + 드롭아웃\n",
    "    embeddings = AssetAndPositionEmbedding(window_size,d_model)(inputs)\n",
    "    outputs = tf.keras.layers.Dropout(rate=dropout)(embeddings)\n",
    "\n",
    "    # 인코더를 num_layers개 쌓기\n",
    "    for i in range(num_layers):\n",
    "        outputs = encoder_layer(dff=dff, d_model=d_model, num_heads=num_heads,\n",
    "                                dropout=dropout, name=f\"encoder_layer_{i}\",)([outputs])\n",
    "\n",
    "    return tf.keras.Model(inputs=[inputs], outputs=outputs, name=name)"
   ]
  },
  {
   "cell_type": "markdown",
   "id": "f0c87c34-0aec-4f1a-8cf3-47bcb69eb3b2",
   "metadata": {},
   "source": [
    "## 셀프 어텐션(Self-attention)과 룩-어헤드 마스크(Look-ahead mask)"
   ]
  },
  {
   "cell_type": "code",
   "execution_count": 9,
   "id": "6efa655d-44b9-4ace-8684-452262445708",
   "metadata": {},
   "outputs": [],
   "source": [
    "# 디코더의 첫번째 서브층(sublayer)에서 미래 토큰을 Mask하는 함수\n",
    "def create_look_ahead_mask(x):\n",
    "    seq_len = tf.shape(x)[1]\n",
    "    look_ahead_mask = 1 - tf.linalg.band_part(tf.ones((seq_len, seq_len)), -1, 0)\n",
    "    return look_ahead_mask[tf.newaxis,tf.newaxis,:,:]"
   ]
  },
  {
   "cell_type": "markdown",
   "id": "5c9f6dde-e5d0-4d01-9c75-87d8a2120cd5",
   "metadata": {},
   "source": [
    "## 디코더 레이어"
   ]
  },
  {
   "cell_type": "code",
   "execution_count": 10,
   "id": "dea7e85a-c722-473c-9a3e-e20b42bb0168",
   "metadata": {},
   "outputs": [],
   "source": [
    "def decoder_layer(dff, d_model, num_heads, dropout, name=\"decoder_layer\"):\n",
    "    inputs = tf.keras.Input(shape=(None, d_model), name=\"inputs\")\n",
    "    enc_outputs = tf.keras.Input(shape=(None, d_model), name=\"encoder_outputs\")\n",
    "\n",
    "    # 룩어헤드 마스크(첫번째 서브층)\n",
    "    look_ahead_mask = tf.keras.Input(shape=(1, None, None), name=\"look_ahead_mask\")\n",
    "\n",
    "    # 패딩 마스크X\n",
    "\n",
    "    # 멀티-헤드 어텐션 (첫번째 서브층 / 마스크드 셀프 어텐션)\n",
    "    attention1 = MultiHeadAttention(d_model, num_heads, name=\"attention_1\")(inputs={\n",
    "        'query': inputs, 'key': inputs, 'value': inputs, # Q = K = V\n",
    "        'mask': look_ahead_mask # 룩어헤드 마스크\n",
    "    })\n",
    "\n",
    "    # 잔차 연결과 층 정규화\n",
    "    attention1 = tf.keras.layers.LayerNormalization(epsilon=1e-6)(attention1 + inputs)\n",
    "\n",
    "    # 멀티-헤드 어텐션 (두번째 서브층 / 디코더-인코더 어텐션)\n",
    "    attention2 = MultiHeadAttention(d_model, num_heads, name=\"attention_2\")(inputs={\n",
    "        'query': attention1, 'key': enc_outputs, 'value': enc_outputs, # Q != K = V\n",
    "        'mask': None # 패딩 마스크\n",
    "    })\n",
    "\n",
    "    # 드롭아웃 + 잔차 연결과 층 정규화\n",
    "    attention2 = tf.keras.layers.Dropout(rate=dropout)(attention2)\n",
    "    attention2 = tf.keras.layers.LayerNormalization(epsilon=1e-6)(attention2 + attention1)\n",
    "\n",
    "    # 포지션 와이즈 피드 포워드 신경망 (세번째 서브층)\n",
    "    outputs = tf.keras.layers.Dense(units=dff, activation='relu')(attention2)\n",
    "    outputs = tf.keras.layers.Dense(units=d_model)(outputs)\n",
    "\n",
    "    # 드롭아웃 + 잔차 연결과 층 정규화\n",
    "    outputs = tf.keras.layers.Dropout(rate=dropout)(outputs)\n",
    "    outputs = tf.keras.layers.LayerNormalization(epsilon=1e-6)(outputs + attention2)\n",
    "\n",
    "    return tf.keras.Model(\n",
    "        inputs=[inputs, enc_outputs, look_ahead_mask],\n",
    "        outputs=outputs,\n",
    "        name=name)"
   ]
  },
  {
   "cell_type": "code",
   "execution_count": 11,
   "id": "bf2cb5f7-e46c-420c-bd08-fcfbf8fcf417",
   "metadata": {},
   "outputs": [],
   "source": [
    "def decoder(forecast_range, num_layers, dff,\n",
    "            d_model, num_heads, dropout,\n",
    "            name='decoder'):\n",
    "    inputs = tf.keras.Input(shape=(None,), name='inputs')\n",
    "    enc_outputs = tf.keras.Input(shape=(None, d_model), name='encoder_outputs')\n",
    "\n",
    "    # 디코더는 룩어헤드 마스크(첫번째 서브층)와 패딩 마스크(두번째 서브층) 둘 다 사용.\n",
    "    look_ahead_mask = tf.keras.Input(shape=(1, None, None), name='look_ahead_mask')\n",
    "\n",
    "    # 포지셔널 인코딩 + 드롭아웃\n",
    "    embeddings = AssetAndPositionEmbedding(forecast_range,d_model,is_decoder=True)(inputs)\n",
    "    outputs = tf.keras.layers.Dropout(rate=dropout)(embeddings)\n",
    "\n",
    "    # 디코더를 num_layers개 쌓기\n",
    "    for i in range(num_layers):\n",
    "        outputs = decoder_layer(dff=dff, d_model=d_model, num_heads=num_heads,\n",
    "                                dropout=dropout, name=f'decoder_layer_{i}',)(inputs=[outputs, enc_outputs, look_ahead_mask])\n",
    "\n",
    "    return tf.keras.Model(\n",
    "        inputs=[inputs, enc_outputs, look_ahead_mask],\n",
    "        outputs=outputs,\n",
    "        name=name)"
   ]
  },
  {
   "cell_type": "markdown",
   "id": "53e680a7-517d-4672-8977-bf91eac6ad96",
   "metadata": {},
   "source": [
    "## 트랜스포머(Transformer)"
   ]
  },
  {
   "cell_type": "markdown",
   "id": "1910395e-69a9-4770-9bb4-55326fb96599",
   "metadata": {},
   "source": [
    "INDEX데이터도 넣자!(encoder 구조로?, LSTM처리 후 encoder?)"
   ]
  },
  {
   "cell_type": "code",
   "execution_count": 12,
   "id": "6363d066-30b0-4ca4-8fc6-69489d70dbb5",
   "metadata": {},
   "outputs": [],
   "source": [
    "def transformer(window_size, forecast_range, num_layers, dff,\n",
    "                d_model, num_heads, dropout,\n",
    "                name=\"transformer\"):\n",
    "\n",
    "    # 인코더의 입력\n",
    "    inputs = tf.keras.Input(shape=(None,), name=\"inputs\")\n",
    "\n",
    "    # 디코더의 입력\n",
    "    dec_inputs = tf.keras.Input(shape=(None,), name=\"dec_inputs\")\n",
    "\n",
    "    # 인코더의 패딩 마스크X\n",
    "\n",
    "    # 디코더의 룩어헤드 마스크(첫번째 서브층)\n",
    "    look_ahead_mask = tf.keras.layers.Lambda(\n",
    "        create_look_ahead_mask, output_shape=(1, None, None),\n",
    "        name='look_ahead_mask')(dec_inputs)\n",
    "\n",
    "    # 디코더의 패딩 마스크X\n",
    "\n",
    "    # 인코더의 출력은 enc_outputs. 디코더로 전달된다.\n",
    "    enc_outputs = encoder(window_size=window_size, num_layers=num_layers, dff=dff,\n",
    "                          d_model=d_model, num_heads=num_heads, dropout=dropout,)(inputs=[inputs]) # 인코더의 입력은 입력 문장과 패딩 마스크\n",
    "\n",
    "    # 디코더의 출력은 dec_outputs. 출력층으로 전달된다.\n",
    "    dec_outputs = decoder(forecast_range=forecast_range, num_layers=num_layers, dff=dff,\n",
    "                          d_model=d_model, num_heads=num_heads, dropout=dropout,)(inputs=[dec_inputs, enc_outputs, look_ahead_mask])\n",
    "\n",
    "    # 다음 단어 예측을 위한 출력층\n",
    "    #outputs = tf.keras.layers.Dense(units=forecast_range, name=\"outputs\")(dec_outputs)\n",
    "    outputs = tf.keras.layers.Dense(units=1, name=\"outputs\")(dec_outputs)\n",
    "\n",
    "    return tf.keras.Model(inputs=[inputs, dec_inputs], outputs=outputs, name=name)"
   ]
  },
  {
   "cell_type": "markdown",
   "id": "50e2593a-e7e8-4a0f-a74c-76aa3d9b4223",
   "metadata": {},
   "source": [
    "## 어텐션 레이어(enc-dec)"
   ]
  },
  {
   "cell_type": "code",
   "execution_count": 19,
   "id": "5819fb82-96ea-46ae-b47b-bd0d6038c0ed",
   "metadata": {},
   "outputs": [],
   "source": [
    "def attention_enc_dec(window_size,d_model,num_heads,name='attention_enc2dec'):\n",
    "    asset_outputs = tf.keras.Input(shape=(window_size,d_model), name=\"asset_outputs\")\n",
    "    pos_outputs = tf.keras.Input(shape=(window_size,d_model), name=\"pos_outputs\")\n",
    "    neg_outputs = tf.keras.Input(shape=(window_size,d_model), name=\"neg_outputs\")\n",
    "    index_outputs = tf.keras.Input(shape=(window_size,d_model), name=\"index_outputs\")\n",
    "    \n",
    "    concat_outputs = tf.keras.layers.concatenate([asset_outputs,pos_outputs,neg_outputs,index_outputs],name = \"concatenate\")\n",
    "    #concat_outputs = tf.keras.layers.concatenate([pos_outputs,neg_outputs,index_outputs],name = \"concatenate\")\n",
    "    \n",
    "    enc_outputs = MultiHeadAttention(d_model=d_model,num_heads=num_heads, name=\"multi_head_attention\")(inputs={\n",
    "        'query': concat_outputs, 'key': concat_outputs, 'value': concat_outputs, \n",
    "        'mask': None\n",
    "    })\n",
    "    #enc_outputs = MultiHeadAttention(d_model=d_model,num_heads=num_heads, name=\"multi_head_attention\")(inputs={\n",
    "    #    'query': asset_outputs, 'key': concat_outputs, 'value': concat_outputs, \n",
    "    #    'mask': None\n",
    "    #})\n",
    "    return tf.keras.Model(inputs=[asset_outputs,pos_outputs,neg_outputs,index_outputs], outputs=enc_outputs, name=name)"
   ]
  },
  {
   "cell_type": "markdown",
   "id": "d8a34c76-0a54-4012-b5c5-319964879da8",
   "metadata": {},
   "source": [
    "## 멀티 인풋 siamese 인코더"
   ]
  },
  {
   "cell_type": "code",
   "execution_count": 20,
   "id": "f384d848-fe87-44bf-bcaf-ddbd243e3856",
   "metadata": {},
   "outputs": [],
   "source": [
    "#그냥도 되긴 한데, 그림 그릴 때 좀더 보기 좋으라고 하는 reshape레이어\n",
    "class reshape_layer(tf.keras.layers.Layer):\n",
    "    def __init__(self, shape_, **kwargs):\n",
    "        super(reshape_layer,self).__init__(**kwargs)\n",
    "        self.shape_ = shape_\n",
    "        \n",
    "    def get_config(self):\n",
    "        config = super().get_config().copy()\n",
    "        config.update({\n",
    "            'shape_':self.shape_,\n",
    "        })\n",
    "        return config\n",
    "    \n",
    "    def call(self,inputs):\n",
    "        return tf.reshape(inputs,self.shape_)"
   ]
  },
  {
   "cell_type": "code",
   "execution_count": 21,
   "id": "b8bedbd6-287d-439d-9180-8714646e5ec8",
   "metadata": {},
   "outputs": [],
   "source": [
    "def siamese_enc_for_multi_input(window_size,num_layers,dff,d_model,num_heads,dropout,split_num,name=None):\n",
    "    inputs = tf.keras.Input(shape=(split_num,window_size), name=\"inputs\")\n",
    "    \n",
    "    squeeze_layer = reshape_layer((-1,window_size),name='squeeze')\n",
    "    \n",
    "    inputs_split = tf.split(inputs, num_or_size_splits=split_num, axis=1)\n",
    "    for i in range(split_num):\n",
    "        inputs_split[i] = squeeze_layer(inputs_split[i])\n",
    "    outputs_concat = []\n",
    "    \n",
    "    siamese_enc = encoder(window_size=window_size, num_layers=num_layers, dff=dff,\n",
    "                              d_model=d_model, num_heads=num_heads, dropout=dropout,name = \"siamese_encoder\")\n",
    "    reshape = reshape_layer((-1,window_size,d_model,1), name='unsqueeze')\n",
    "    for i in range(split_num):\n",
    "        #siamese 구조\n",
    "        outputs = siamese_enc(inputs=[inputs_split[i]])\n",
    "        #outputs의 shape = (None,window_size,d_model)\n",
    "        #reshape_layer안쓰려면 : outputs = tf.reshape(outputs,(-1,window_size,d_model,1))\n",
    "        outputs = reshape(outputs)\n",
    "        outputs_concat.append(outputs)\n",
    "    outputs_concat = tf.keras.layers.concatenate(outputs_concat,axis=3,name = \"concatenate\")\n",
    "    reduce_mean_outputs = tf.reduce_mean(outputs_concat,axis=3)\n",
    "    return tf.keras.Model(inputs=[inputs], outputs=reduce_mean_outputs, name=name)"
   ]
  },
  {
   "cell_type": "code",
   "execution_count": 22,
   "id": "85a794f8-8243-49bc-8e91-7b90b7517681",
   "metadata": {},
   "outputs": [
    {
     "data": {
      "image/png": "[encoded data removed]",
      "text/plain": [
       "<IPython.core.display.Image object>"
      ]
     },
     "execution_count": 22,
     "metadata": {},
     "output_type": "execute_result"
    }
   ],
   "source": [
    "tf.keras.backend.clear_session()\n",
    "\n",
    "pos_enc = siamese_enc_for_multi_input(25,4,128,64,8,0.1,10,name='siamese_1')\n",
    "tf.keras.utils.plot_model(pos_enc, to_file='siamese_encoder.png', show_shapes=True)"
   ]
  },
  {
   "cell_type": "markdown",
   "id": "900e584d-85b7-4968-968b-ba6ced95bad9",
   "metadata": {},
   "source": [
    "## 멀티 인코더 트랜스포머"
   ]
  },
  {
   "cell_type": "code",
   "execution_count": 23,
   "id": "675548b6-e924-4d51-bac7-a06f72dffce6",
   "metadata": {},
   "outputs": [],
   "source": [
    "def multi_enc_transformer(window_size, forecast_range, P, N, I, num_layers, dff,\n",
    "                         d_model, num_heads, dropout,\n",
    "                         name=\"transformer\"):\n",
    "\n",
    "    # 인코더의 입력\n",
    "    inputs = tf.keras.Input(shape=(None,), name=\"inputs\")\n",
    "    \n",
    "    # 상관주 인코더의 입력 <- 여러 벡터가 인풋으로 들어가는데 이걸 해결할 방법은? MI-LSTM은 어떻게 처리했더라??\n",
    "    pos_inputs = tf.keras.Input(shape=(P,window_size), name=\"pos_inputs\")\n",
    "    neg_inputs = tf.keras.Input(shape=(N,window_size), name=\"neg_inputs\")\n",
    "    \n",
    "    # 인덱스 인코더의 입력 <- 여러 벡터가 인풋으로 들어가는데 이걸 해결할 방법은? MI-LSTM은 어떻게 처리했더라??\n",
    "    index_inputs = tf.keras.Input(shape=(I,window_size), name=\"index_inputs\")\n",
    "    \n",
    "    # 디코더의 입력\n",
    "    dec_inputs = tf.keras.Input(shape=(None,), name=\"dec_inputs\")\n",
    "\n",
    "    # 디코더의 룩어헤드 마스크(첫번째 서브층).\n",
    "    look_ahead_mask = tf.keras.layers.Lambda(\n",
    "        create_look_ahead_mask, output_shape=(1, None, None),\n",
    "        name='look_ahead_mask')(dec_inputs)\n",
    "    \n",
    "    #에셋 인코더\n",
    "    asset_outputs = encoder(window_size=window_size, num_layers=num_layers, dff=dff,\n",
    "                          d_model=d_model, num_heads=num_heads, dropout=dropout,name = \"asset_encoder\")(inputs=[inputs])\n",
    "    \n",
    "    pos_outputs = siamese_enc_for_multi_input(window_size=window_size,num_layers=num_layers,dff=dff,\n",
    "                                              d_model=d_model,num_heads=num_heads,dropout=dropout,split_num=P,name=\"pos_siamese_encoder\")(inputs=[pos_inputs])\n",
    "    neg_outputs = siamese_enc_for_multi_input(window_size=window_size,num_layers=num_layers,dff=dff,\n",
    "                                              d_model=d_model,num_heads=num_heads,dropout=dropout,split_num=N,name=\"neg_siamese_encoder\")(inputs=[neg_inputs])\n",
    "    index_outputs = siamese_enc_for_multi_input(window_size=window_size,num_layers=num_layers,dff=dff,\n",
    "                                              d_model=d_model,num_heads=num_heads,dropout=dropout,split_num=I,name=\"index_siamese_encoder\")(inputs=[index_inputs])\n",
    "    \n",
    "    #concatenate-attention\n",
    "    enc_outputs = attention_enc_dec(window_size,d_model,num_heads,name='attention_enc2dec')(inputs=[asset_outputs,pos_outputs,neg_outputs,index_outputs])\n",
    "    \n",
    "    # 디코더의 출력은 dec_outputs. 출력층으로 전달된다.\n",
    "    dec_outputs = decoder(forecast_range=forecast_range, num_layers=num_layers, dff=dff,\n",
    "                          d_model=d_model, num_heads=num_heads, dropout=dropout,)(inputs=[dec_inputs, enc_outputs, look_ahead_mask])\n",
    "\n",
    "    # 다음 예측을 위한 출력층\n",
    "    #outputs = tf.keras.layers.Dense(units=forecast_range, name=\"outputs\")(dec_outputs)\n",
    "    outputs = tf.keras.layers.Dense(units=1, name=\"outputs\")(dec_outputs)\n",
    "\n",
    "    return tf.keras.Model(inputs=[inputs,pos_inputs,neg_inputs,index_inputs, dec_inputs], outputs=outputs, name=name)"
   ]
  },
  {
   "cell_type": "markdown",
   "id": "145deef8-0acf-4740-bb7c-9c50092d597e",
   "metadata": {},
   "source": [
    "# 데이터 셋 만들기"
   ]
  },
  {
   "cell_type": "code",
   "execution_count": 25,
   "id": "b5e3a4b0-3814-49b9-9692-2eb3c4b47d4d",
   "metadata": {
    "tags": []
   },
   "outputs": [
    {
     "name": "stderr",
     "output_type": "stream",
     "text": [
      "100%|█████████████████████████████████████████| 100/100 [00:38<00:00,  2.58it/s]\n"
     ]
    }
   ],
   "source": [
    "M6_Universe = pd.read_csv('M6_Universe.csv')\n",
    "\n",
    "start_date = \"2021-05-15\" #OGN에셋 길이에 맞춤\n",
    "end_date = \"2022-08-20\"\n",
    "\n",
    "os.makedirs(\"./stock/asset\",exist_ok=True)\n",
    "\n",
    "for asset in tqdm(M6_Universe.symbol):\n",
    "    stock = yf.download(asset, start=start_date, end = end_date, progress = False)\n",
    "    stock.to_csv(\"./stock/asset/\"+asset+\".csv\")\n"
   ]
  },
  {
   "cell_type": "code",
   "execution_count": null,
   "id": "c4b729ea-dc9b-4ad9-a9ac-4ab8e9261c4d",
   "metadata": {},
   "outputs": [],
   "source": [
    "os.makedirs(\"./stock/index\",exist_ok=True)\n",
    "\n",
    "#S&P500 / 나스닥 / 다우존스 / 미국채 10년물 금리 / 변동성 지수(S&P 500 지수 옵션에 기반한 변동성) / 골드만삭스 원자재 지수(선물옵션 기반) / 원유\n",
    "Index_list = [\"SP500\", \"NASDAQ\", \"DOWJONES\", \"TNX\", \"VIX\", \"GSCI\" , \"Oil\"]\n",
    "Index_code = ['ES=F', 'YM=F', 'NQ=F', '^TNX', '^VIX', 'GD=F', 'CL=F']\n",
    "\n",
    "Index_pd = pd.DataFrame([Index_list, Index_code],index=['name','symbol']).transpose()\n",
    "\n",
    "for i in tqdm(range(Index_pd.shape[0])):\n",
    "    stock = yf.download(Index_pd.symbol[i], start=start_date, end = end_date, progress = False)\n",
    "    stock.to_csv(\"./stock/index/\"+Index_pd.name[i]+\".csv\")"
   ]
  },
  {
   "cell_type": "markdown",
   "id": "4930ca43-a11e-407c-9834-c699908bb449",
   "metadata": {
    "tags": []
   },
   "source": [
    "## 에셋/인덱스 데이터셋"
   ]
  },
  {
   "cell_type": "code",
   "execution_count": null,
   "id": "71c188ef-0444-49e1-ac83-fd12287e4ea3",
   "metadata": {},
   "outputs": [],
   "source": [
    "ASSET = list(M6_Universe.symbol)\n",
    "INDEX = list(Index_list)\n",
    "\n",
    "dataset_pd = None\n",
    "for asset in ASSET:\n",
    "    data_one_asset = pd.read_csv(f\"./stock/asset/{asset}.csv\")[['Date','Adj Close']]\n",
    "    data_one_asset.columns = ['Date',asset]\n",
    "    if dataset_pd is None:\n",
    "        dataset_pd = data_one_asset.copy()\n",
    "    else:\n",
    "        dataset_pd = pd.merge(left = dataset_pd, right = data_one_asset, how = 'outer', on = 'Date')\n",
    "dataset_pd['Date'] = pd.to_datetime(dataset_pd['Date'])\n",
    "dataset_pd.sort_values(by=['Date'],inplace=True)\n",
    "dataset_pd.reset_index(drop=True,inplace = True)\n",
    "dataset_pd.fillna(method='ffill',inplace=True)\n",
    "dataset_pd.fillna(method='bfill',inplace=True)\n",
    "\n",
    "indexset_pd = None\n",
    "for asset in INDEX:\n",
    "    data_one_asset = pd.read_csv(f\"./stock/index/{asset}.csv\")[['Date','Adj Close']]\n",
    "    data_one_asset.columns = ['Date',asset]\n",
    "    if indexset_pd is None:\n",
    "        indexset_pd = data_one_asset.copy()\n",
    "    else:\n",
    "        indexset_pd = pd.merge(left = indexset_pd, right = data_one_asset, how = 'outer', on = 'Date')\n",
    "indexset_pd['Date'] = pd.to_datetime(indexset_pd['Date'])\n",
    "indexset_pd.sort_values(by=['Date'],inplace=True)\n",
    "indexset_pd.reset_index(drop=True,inplace = True)\n",
    "indexset_pd.fillna(method='ffill',inplace=True)\n",
    "indexset_pd.fillna(method='bfill',inplace=True)\n",
    "\n",
    "#여기부턴 scaler 적용!(Date 맞추고, scaler 적용하고!)\n",
    "\n",
    "temp = pd.merge(left = dataset_pd,right = indexset_pd, how='left', on='Date')\n",
    "temp.sort_values(by=['Date'],inplace=True)\n",
    "temp.fillna(method='ffill',inplace=True)\n",
    "temp.fillna(method='bfill',inplace=True)\n",
    "\n",
    "scaler = MinMaxScaler(feature_range = (-1,+1))\n",
    "scaler.fit(temp[indexset_pd.columns[1:]])\n",
    "temp[indexset_pd.columns[1:]] = scaler.transform(temp[indexset_pd.columns[1:]])\n",
    "\n",
    "scaler = MinMaxScaler(feature_range = (-1,+1))\n",
    "scaler.fit(temp[dataset_pd.columns[1:]])\n",
    "temp[dataset_pd.columns[1:]] = scaler.transform(temp[dataset_pd.columns[1:]])\n",
    "\n",
    "dataset_scaled = temp[dataset_pd.columns].copy()\n",
    "corr = dataset_scaled.iloc[:,1:].corr(method='pearson').copy()\n",
    "\n",
    "hist_idxs = [i for i in range(1,11)]\n",
    "hist_idxs.extend([i for i in range(-10,0,1)])\n",
    "\n",
    "corr_L = []\n",
    "corr_for_hist = []\n",
    "for i in range(100):\n",
    "    corr_L.append(corr.iloc[:,i].sort_values(ascending=False).copy().reset_index(drop=True).iloc[[1,2,3,4,5,6,7,-7,-6,-5,-4,-3,-2,-1]])\n",
    "    corr_for_hist.append(corr.iloc[:,i].sort_values(ascending=False).copy().reset_index(drop=True).iloc[hist_idxs])\n",
    "corr_for_hist = pd.concat(corr_for_hist,axis=0).to_numpy()\n",
    "corr_L = pd.concat(corr_L,axis=1)\n",
    "corr_L.to_csv(\"corr_list.csv\",index=False)\n",
    "corr_L"
   ]
  },
  {
   "cell_type": "code",
   "execution_count": null,
   "id": "441d7756-2b9a-41f1-860b-6dda0c111db8",
   "metadata": {},
   "outputs": [],
   "source": [
    "hist_idxs = [i for i in range(0,11)]\n",
    "hist_idxs.extend([i for i in range(-10,0,1)])\n",
    "\n",
    "corr_L = []\n",
    "corr_for_hist = []\n",
    "for i in range(100):\n",
    "    corr_L.append(corr.iloc[:,i].sort_values(ascending=False).index[hist_idxs].to_list())\n",
    "    corr_for_hist.append(corr.iloc[:,i].sort_values(ascending=False).copy().reset_index(drop=True).iloc[hist_idxs])\n",
    "corr_for_hist = pd.concat(corr_for_hist,axis=1).to_numpy()\n",
    "corr_L = pd.DataFrame(corr_L).T\n",
    "\n",
    "#corr_L.to_csv(\"corr_list.csv\",index=False)\n",
    "corr_L"
   ]
  },
  {
   "cell_type": "code",
   "execution_count": null,
   "id": "218b7083-4cc7-4a18-83c1-0a9008ca151b",
   "metadata": {},
   "outputs": [],
   "source": [
    "fig = plt.figure(figsize=(42,22),facecolor='white')\n",
    "ax_list = [fig.add_subplot(5,3,i) for i in range(1,16)]\n",
    "\n",
    "plt_asset = ['ABBV','ACN','COP','AXP','BDX',\n",
    "             'DG','META','PPL','PRU','ROL',\n",
    "            'IVV','IEUS','IEF','SHY','VXX']\n",
    "\n",
    "for ax_i, asset_name in enumerate(plt_asset):\n",
    "    tmp = corr[asset_name].sort_values(ascending=False)\n",
    "    idxs = tmp.index[[0,1,2,3,4,5,-5,-4,-3,-2,-1]]\n",
    "    for idx in idxs[1:6]:\n",
    "         ax_list[ax_i].plot(dataset_scaled[idx],'C0--',alpha = 0.5)\n",
    "    for idx in idxs[6:]:\n",
    "         ax_list[ax_i].plot(dataset_scaled[idx],'C1--',alpha = 0.5)\n",
    "    ax_list[ax_i].plot(dataset_scaled[idxs[0]],'black')\n",
    "    ax_list[ax_i].set_title(f'[{asset_name}] : {tmp.index[-1]} {tmp.iloc[-1]:.3f} ~ {tmp.index[1]} {tmp.iloc[1]:.3f}')\n",
    "fig.savefig('corr_plot.png',bbox_inches='tight')"
   ]
  },
  {
   "cell_type": "markdown",
   "id": "d0af01eb-a4c4-4e5b-997f-5bf6303fb3d9",
   "metadata": {},
   "source": [
    "## 데이터셋 클래스"
   ]
  },
  {
   "cell_type": "code",
   "execution_count": null,
   "id": "c7eea592-ca6c-4372-8588-eb32488965dc",
   "metadata": {},
   "outputs": [],
   "source": [
    "class dataset_for_transformer:\n",
    "    '''\n",
    "    [22-08-19(화)]\n",
    "    데이터셋 만들기(Ver.2)\n",
    "    \n",
    "    MI-LSTM처럼 상관 계수 구할 예정!\n",
    "    에셋별 scaler를 수동 적용.\n",
    "    Date_Range 생성.\n",
    "    원본 유지.\n",
    "    \n",
    "    메모:\n",
    "        * cal_corr / load_file / get_dataset 만들 예정\n",
    "        * 인덱스도 corr을 계산하는게 좋을까, 아니면 따로 넣는게 좋을까?\n",
    "        * 가격 그대로를 corr계산할까, 수익률[(현재-과거)/과거]로 계산할까?\n",
    "        * corr계산의 길이는? window사이즈의 2~2.5배? 아니면 고정길이?\n",
    "    \n",
    "    Parameter:\n",
    "        asset_list        : 사용 에셋 리스트. csv파일이 존재하는 에셋 이름으로 가지고 있어야함.\n",
    "        index_list        : 사용 인덱스 리스트. csv파일이 존재하는 인덱스 이름으로 가지고 있어야함.\n",
    "        pos_corr          : 양의 상관 계수의 주식 수.\n",
    "        neg_corr          : 음의 상관 계수의 주식 수.\n",
    "        path(\"./stock\")   : 에셋, 인덱스 파일 경로. asset은 path+/asset에, index는 path+/index에 있어야 함.\n",
    "        train_ratio(None) : trainset의 비율. None이면 test셋 만들지 않음.\n",
    "\n",
    "    '''\n",
    "    def __init__(self, asset_list, index_list, pos_corr, neg_corr, path = \"./stock\"):\n",
    "        self.asset_list = asset_list\n",
    "        self.index_list = index_list\n",
    "        self.pos_corr = pos_corr\n",
    "        self.neg_corr = neg_corr\n",
    "        self.__file_path = path\n",
    "        \n",
    "        self.dataset_asset = self.load_file(self.asset_list,\"/asset\")\n",
    "        self.dataset_index = self.load_file(self.index_list,\"/index\")\n",
    "        \n",
    "        self.dataset_asset_scaled = self.dataset_asset.copy()\n",
    "        self.dataset_index_scaled = self.dataset_index.copy()\n",
    "    \n",
    "    def calculate_correlation(self,dataset,window_size):\n",
    "        #get_dataset안에서 사용될 예정\n",
    "        #에셋 이름을 받을 것이고, 길이는 이 함수 전에 미리 자를 것(window_size의 1.5배 정도)\n",
    "        #dataset은 (corr계산길이 * 100)인 pd.DataFrame\n",
    "        corr_dataset = dataset.corr(method='pearson').copy()\n",
    "        cut_dataset = dataset.iloc[-window_size:,:].copy()\n",
    "        \n",
    "        hist_idxs = [i for i in range(0,self.pos_corr+1)]#target+양의 corr 개수\n",
    "        hist_idxs.extend([i for i in range(-self.neg_corr,0,1)])#음의 corr 개수\n",
    "        \n",
    "        target_np = []\n",
    "        pos_np = []\n",
    "        neg_np = []\n",
    "        for i in range(100):\n",
    "            select_asset = corr_dataset.iloc[:,i].sort_values(ascending=False).index[hist_idxs].to_list()\n",
    "            \n",
    "            target_np.append(cut_dataset[select_asset[0]].to_numpy()[np.newaxis,:])\n",
    "            pos_np.append(cut_dataset[select_asset[1:self.pos_corr+1]].to_numpy().T[np.newaxis,:])\n",
    "            neg_np.append(cut_dataset[select_asset[-self.neg_corr:]].to_numpy().T[np.newaxis,:])\n",
    "        \n",
    "        target_np = np.concatenate(target_np,axis=0) #(100, window_size)\n",
    "        pos_np = np.concatenate(pos_np,axis=0) #(100, self.pos_corr, window_size)\n",
    "        neg_np = np.concatenate(neg_np,axis=0) #(100, self.neg_corr, window_size)\n",
    "        return {'target':target_np,\n",
    "                'pos':pos_np,\n",
    "                'neg':neg_np}\n",
    "    \n",
    "    def get_dataset(self, window_size, forecast_range = 20, corr_length_ratio = 1.5):\n",
    "        W = window_size\n",
    "        corr_length = round(W * corr_length_ratio)\n",
    "        dataset_length = self.dataset_asset.shape[0]\n",
    "        \n",
    "        targets = []\n",
    "        positives = []\n",
    "        negatives = []\n",
    "        indexes = []\n",
    "        Ys = []\n",
    "        for start_idx in tqdm(range(dataset_length-corr_length-forecast_range),desc='create dataset... '):\n",
    "            calc_data = self.calculate_correlation(self.dataset_asset_scaled.iloc[start_idx:start_idx+corr_length,:], W)\n",
    "            index_ = self.dataset_index_scaled.iloc[start_idx+corr_length-W:start_idx+corr_length,:].copy().to_numpy().T#(인덱스 개수, window_size)\n",
    "            index_data=[index_[np.newaxis,:,:].copy() for _ in range(100)]\n",
    "            index_data=np.concatenate(index_data,axis=0)#(100,인덱스 개수, window_size)\n",
    "            #총 길이 forecast_range+1이 되도록(일단은)\n",
    "            Y = self.dataset_asset_scaled.iloc[start_idx+corr_length-1:start_idx+corr_length+forecast_range,:].copy().to_numpy().T#(100,forecast_range+1)\n",
    "            \n",
    "            targets.append(calc_data['target'].copy())\n",
    "            positives.append(calc_data['pos'].copy())\n",
    "            negatives.append(calc_data['neg'].copy())\n",
    "            indexes.append(index_data.copy())\n",
    "            Ys.append(Y.copy())\n",
    "            \n",
    "        targets=np.concatenate(targets,axis=0)\n",
    "        positives=np.concatenate(positives,axis=0)\n",
    "        negatives=np.concatenate(negatives,axis=0)\n",
    "        indexes=np.concatenate(indexes,axis=0)\n",
    "        Ys=np.concatenate(Ys,axis=0)\n",
    "        \n",
    "        return {'target':targets,\n",
    "                'positive':positives,\n",
    "                'negative':negatives,\n",
    "                'index':indexes,\n",
    "                'Y':Ys}\n",
    "\n",
    "    \n",
    "    def load_file(self, file_list, sub_path):\n",
    "        ASSET = file_list\n",
    "\n",
    "        dataset_pd = None\n",
    "        for asset in ASSET:\n",
    "            data_one_asset = pd.read_csv(f\"{self.__file_path}{sub_path}/{asset}.csv\")[['Date','Adj Close']]\n",
    "            data_one_asset.columns = ['Date',asset]\n",
    "            if dataset_pd is None:\n",
    "                dataset_pd = data_one_asset.copy()\n",
    "            else:\n",
    "                dataset_pd = pd.merge(left = dataset_pd, right = data_one_asset, how = 'outer', on = 'Date')\n",
    "        dataset_pd['Date'] = pd.to_datetime(dataset_pd['Date'])\n",
    "        dataset_pd.sort_values(by=['Date'],inplace=True)\n",
    "        dataset_pd.reset_index(drop=True,inplace = True)\n",
    "        dataset_pd.fillna(method='ffill',inplace=True)\n",
    "        dataset_pd.fillna(method='bfill',inplace=True)\n",
    "        return dataset_pd\n",
    "    \n",
    "    def apply_scale(self):\n",
    "        dataset, indexset = self.dataset_asset.copy(), self.dataset_index.copy()\n",
    "        \n",
    "        merge_total = pd.merge(left=dataset, right=indexset, how='left', on='Date')\n",
    "        merge_total.sort_values(by=['Date'], inplace=True)\n",
    "        merge_total.fillna(method='ffill', inplace=True)\n",
    "        merge_total.fillna(method='bfill', inplace=True)\n",
    "        \n",
    "        dataset_scaler = MinMaxScaler(feature_range=(-1, +1))\n",
    "        indexset_scaler = MinMaxScaler(feature_range=(-1, +1))\n",
    "        \n",
    "        dataset_scaler.fit(merge_total[dataset.columns[1:]])\n",
    "        indexset_scaler.fit(merge_total[indexset.columns[1:]])\n",
    "        \n",
    "        merge_total[dataset.columns[1:]] = dataset_scaler.transform(merge_total[dataset.columns[1:]])\n",
    "        merge_total[indexset.columns[1:]] = indexset_scaler.transform(merge_total[indexset.columns[1:]])\n",
    "        \n",
    "        scaled_dataset = merge_total[dataset.columns[1:]].copy()\n",
    "        scaled_indexset = merge_total[indexset.columns[1:]].copy()\n",
    "        \n",
    "        self.dataset_asset_scaled = scaled_dataset\n",
    "        self.dataset_index_scaled = scaled_indexset\n",
    "        self.asset_scaler = dataset_scaler\n",
    "        self.index_scaler = indexset_scaler\n",
    "        self.Date_range = merge_total['Date']\n",
    "        "
   ]
  },
  {
   "cell_type": "code",
   "execution_count": null,
   "id": "01d91dc5-d61c-47a2-a5f6-dbfd2aa5fa5b",
   "metadata": {},
   "outputs": [],
   "source": [
    "model_dataset = dataset_for_transformer(asset_list=M6_Universe.symbol, \n",
    "                                        index_list=Index_list, \n",
    "                                        pos_corr=10, \n",
    "                                        neg_corr=10)\n",
    "model_dataset.apply_scale()"
   ]
  },
  {
   "cell_type": "code",
   "execution_count": null,
   "id": "6722e4bd-7106-47c1-984b-4e64376e3823",
   "metadata": {},
   "outputs": [],
   "source": [
    "final_dataset = model_dataset.get_dataset(window_size=25, \n",
    "                                forecast_range = 20, \n",
    "                                corr_length_ratio = 1.5)\n",
    "print(final_dataset['target'].shape,final_dataset['positive'].shape,final_dataset['negative'].shape,final_dataset['index'].shape,final_dataset['Y'].shape)"
   ]
  },
  {
   "cell_type": "markdown",
   "id": "6c4fe607-be8e-4998-bc0a-6c59b26ea827",
   "metadata": {},
   "source": [
    "## 데이터 셋 폼"
   ]
  },
  {
   "cell_type": "code",
   "execution_count": null,
   "id": "1f197d8b-b02c-4a99-a89d-69c53ad56e7e",
   "metadata": {},
   "outputs": [],
   "source": [
    "# 텐서플로우 dataset을 이용하여 셔플(shuffle)을 수행하되, 배치 크기로 데이터를 묶는다.\n",
    "# 또한 이 과정에서 교사 강요(teacher forcing)을 사용하기 위해서 디코더의 입력과 실제값 시퀀스를 구성한다.\n",
    "# inputs,pos_inputs,neg_inputs,index_inputs, dec_inputs\n",
    "\n",
    "split_point=round(final_dataset['Y'].shape[0]*0.8)\n",
    "print(split_point)\n",
    "\n",
    "BATCH_SIZE = 128\n",
    "BUFFER_SIZE = 20000\n",
    "\n",
    "train_dataset = tf.data.Dataset.from_tensor_slices((\n",
    "    {\n",
    "        'inputs': final_dataset['target'][:split_point],\n",
    "        'pos_inputs':final_dataset['positive'][:split_point],\n",
    "        'neg_inputs':final_dataset['negative'][:split_point],\n",
    "        'index_inputs':final_dataset['index'][:split_point],\n",
    "        'dec_inputs': final_dataset['Y'][:split_point, :-1] # 디코더의 입력. 마지막 값이 제거된다.(t 시점 ~ t+19 시점)\n",
    "    },\n",
    "    {\n",
    "        'outputs': final_dataset['Y'][:split_point, 1:]  # 맨 처음 토큰이 제거된다. 다시 말해 input의 마지막 값이 제거된다.(t+1 시점 ~ t+20 시점)\n",
    "    },\n",
    "))\n",
    "\n",
    "train_dataset = train_dataset.cache()\n",
    "train_dataset = train_dataset.shuffle(BUFFER_SIZE)\n",
    "train_dataset = train_dataset.batch(BATCH_SIZE)\n",
    "train_dataset = train_dataset.prefetch(tf.data.experimental.AUTOTUNE)"
   ]
  },
  {
   "cell_type": "code",
   "execution_count": null,
   "id": "97841f72-9e5d-481c-8a22-a2ca37c31a28",
   "metadata": {},
   "outputs": [],
   "source": [
    "test_dataset = tf.data.Dataset.from_tensor_slices((\n",
    "    {\n",
    "        'inputs': final_dataset['target'][split_point:],\n",
    "        'pos_inputs':final_dataset['positive'][split_point:],\n",
    "        'neg_inputs':final_dataset['negative'][split_point:],\n",
    "        'index_inputs':final_dataset['index'][split_point:],\n",
    "        'dec_inputs': final_dataset['Y'][split_point:, :-1] # 디코더의 입력. 마지막 값이 제거된다.(t 시점 ~ t+19 시점)\n",
    "    },\n",
    "    {\n",
    "        'outputs': final_dataset['Y'][split_point:, 1:]  # 맨 처음 토큰이 제거된다. 다시 말해 input의 마지막 값이 제거된다.(t+1 시점 ~ t+20 시점)\n",
    "    },\n",
    "))\n",
    "\n",
    "test_dataset = test_dataset.cache()\n",
    "test_dataset = test_dataset.batch(BATCH_SIZE)\n",
    "test_dataset = test_dataset.prefetch(tf.data.experimental.AUTOTUNE)"
   ]
  },
  {
   "cell_type": "markdown",
   "id": "bbd12c21-b002-44a1-aa61-2567bd1b69e9",
   "metadata": {
    "tags": []
   },
   "source": [
    "# 모델 생성"
   ]
  },
  {
   "cell_type": "code",
   "execution_count": null,
   "id": "aa31ff2f-3564-4dc0-88ab-a0fd3f1f7af1",
   "metadata": {},
   "outputs": [],
   "source": [
    "tf.keras.backend.clear_session()\n",
    "\n",
    "# 하이퍼파라미터\n",
    "WINDOW_SIZE = 25\n",
    "FORECAST_RANGE = 20\n",
    "NUM_LAYERS = 4  #인코더, 디코더의 층 수\n",
    "DFF = 128 #트랜스포머 내부의 피드-포워드 신경망의 은닉층 크기(입력층, 출력층은 d_model) \n",
    "D_MODEL = 64 #인코더, 디코더에서의 정해진 출력 크기 = 임베딩 벡터의 차원\n",
    "NUM_HEADS = 8 #트랜스포머 내 어텐션에서 여러개로 분할 후 병렬로 어탠션 수행함. 이때의 병렬의 수\n",
    "DROPOUT = 0.1\n",
    "\n",
    "model = multi_enc_transformer(\n",
    "    window_size = WINDOW_SIZE,\n",
    "    forecast_range = FORECAST_RANGE,\n",
    "    P=10,\n",
    "    N=10,\n",
    "    I=7,\n",
    "    num_layers = NUM_LAYERS,\n",
    "    dff = DFF,\n",
    "    d_model = D_MODEL,\n",
    "    num_heads = NUM_HEADS,\n",
    "    dropout = DROPOUT,\n",
    "    name=\"stock_transformer\")\n",
    "\n",
    "tf.keras.utils.plot_model(model, to_file='multi_encoder_transformer.png', show_shapes=True)"
   ]
  },
  {
   "cell_type": "markdown",
   "id": "3a8d76f0-f4e3-4c12-926a-6ccd761127ed",
   "metadata": {},
   "source": [
    "# 모델 학습!"
   ]
  },
  {
   "cell_type": "code",
   "execution_count": null,
   "id": "d8f0912e-3a99-46dc-a1fa-87c4562cbacc",
   "metadata": {},
   "outputs": [],
   "source": [
    "#model.compile(optimizer = tf.keras.optimizers.Adam(),\n",
    "#              loss = tf.keras.losses.MeanSquaredError(),\n",
    "#              metrics=[tf.keras.metrics.RootMeanSquaredError(),\n",
    "#                       tf.keras.metrics.MeanAbsolutePercentageError()]\n",
    "#             )\n",
    "model.compile(optimizer = tf.keras.optimizers.Adam(),\n",
    "              loss = tf.keras.losses.MeanSquaredError()\n",
    "             )"
   ]
  },
  {
   "cell_type": "code",
   "execution_count": null,
   "id": "73440767-9708-4597-89d1-232892b533b7",
   "metadata": {},
   "outputs": [],
   "source": [
    "callback_path = './transformer/ver_0824'\n",
    "\n",
    "os.makedirs(f'{callback_path}/ckpt', exist_ok=True)\n",
    "ckpt_path = callback_path+'/ckpt/model_{epoch:03d}-{val_loss:.4f}.hdf5'\n",
    "callback_ckpt = tf.keras.callbacks.ModelCheckpoint(\n",
    "    ckpt_path,\n",
    "    monitor='val_loss',\n",
    "    save_best_only = True,\n",
    "    verbose=1\n",
    ")\n",
    "\n",
    "os.makedirs(f'{callback_path}/tsbd', exist_ok=True)\n",
    "callback_tsbd = tf.keras.callbacks.TensorBoard(f'{callback_path}/tsbd')\n",
    "\n",
    "def scheduler(epoch, lr):\n",
    "    if epoch < 5:\n",
    "        return lr\n",
    "    else:\n",
    "        return lr * 0.75 ** (epoch-5)\n",
    "callback_scheduler = tf.keras.callbacks.LearningRateScheduler(scheduler)"
   ]
  },
  {
   "cell_type": "code",
   "execution_count": null,
   "id": "5710c458-9ebb-4339-b3e3-d290cb42a2b6",
   "metadata": {},
   "outputs": [],
   "source": [
    "lr = 0.001\n",
    "e = np.arange(20)\n",
    "\n",
    "r = [scheduler(e_,lr) for e_ in e]\n",
    "plt.plot(e,r)"
   ]
  },
  {
   "cell_type": "markdown",
   "id": "cc1c5e9e-8ad9-4a2d-a9d6-d1095570c736",
   "metadata": {},
   "source": [
    "한 에폭에 약 400s"
   ]
  },
  {
   "cell_type": "code",
   "execution_count": null,
   "id": "46b345d7-dcda-4fce-bb16-cfc5d6a15b3c",
   "metadata": {
    "tags": []
   },
   "outputs": [],
   "source": [
    "history = model.fit(train_dataset, epochs=20, validation_data=test_dataset, verbose = 1, callbacks=[callback_ckpt,callback_scheduler,callback_tsbd])"
   ]
  },
  {
   "cell_type": "markdown",
   "id": "ae96ee5a-028c-46ed-a969-1dba3db90b89",
   "metadata": {},
   "source": [
    "```bash\n",
    "tensorboard --logdir=~/바탕화면/main_drive/LeeJaeYong/2.Transformer/transformer/ver1/tsbd\n",
    "```\n",
    "-------\n",
    "혹시 이런 에러가 뜬다면...\n",
    "> E tensorflow/core/profiler/internal/gpu/cupti_tracer.cc:1415] function cupti_interface_->Subscribe( &subscriber_, (CUpti_CallbackFunc)ApiCallback, this)failed with error CUPTI_ERROR_INSUFFICIENT_PRIVILEGES\n",
    "\n",
    "```bash\n",
    "/usr/bin/google-chrome-stable --enable-blink-features=ShadowDOMV0,CustomElementsV0,HTMLImports\n",
    "```"
   ]
  },
  {
   "cell_type": "code",
   "execution_count": null,
   "id": "7162ffb3-08b8-4e18-8312-9cdd2b5c24fe",
   "metadata": {},
   "outputs": [],
   "source": []
  }
 ],
 "metadata": {
  "kernelspec": {
   "display_name": "M6_LJY",
   "language": "python",
   "name": "m6_ljy"
  },
  "language_info": {
   "codemirror_mode": {
    "name": "ipython",
    "version": 3
   },
   "file_extension": ".py",
   "mimetype": "text/x-python",
   "name": "python",
   "nbconvert_exporter": "python",
   "pygments_lexer": "ipython3",
   "version": "3.8.13"
  },
  "toc-showtags": false
 },
 "nbformat": 4,
 "nbformat_minor": 5
}
